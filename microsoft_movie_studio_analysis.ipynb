{
 "cells": [
  {
   "cell_type": "markdown",
   "metadata": {},
   "source": [
    "# Exploring Movie Industry Insights for Microsoft Movie Studio\n",
    "\n",
    "## Overview\n",
    "\n",
    "This project analyzes performance of over 1,000 major motion pictures over the last decade. Descriptive analysis of budget, revenue and profit data shows that certain movie genres can be expected to perform better at the box office. Microsoft's new movie studio can use this analysis to set budgets as well as make resource allocation decisions to get the most out of their new investment."
   ]
  },
  {
   "cell_type": "markdown",
   "metadata": {},
   "source": [
    "## Business Problem\n",
    "\n",
    "Microsoft has decided to create a new movie studio, and wishes to find out more about the industry. We are charged with exploring what types of films are currently doing the best at the box office. We must then translate those findings into actionable insights."
   ]
  },
  {
   "cell_type": "markdown",
   "metadata": {},
   "source": [
    "## Data Understanding\n",
    "\n",
    "In this section we explore data that will be used in this analysis. Our data comes from two sources:\n",
    "\n",
    "* [IMDB](https://www.imdb.com/)\n",
    "* [The Numbers](https://www.the-numbers.com/)"
   ]
  },
  {
   "cell_type": "code",
   "execution_count": 1,
   "metadata": {},
   "outputs": [],
   "source": [
    "import pandas as pd\n",
    "import numpy as np\n",
    "import sqlite3\n",
    "import matplotlib.pyplot as plt\n",
    "import seaborn as sns; sns.set_theme(color_codes=True)"
   ]
  },
  {
   "cell_type": "code",
   "execution_count": 2,
   "metadata": {},
   "outputs": [],
   "source": [
    "# We will be working primarily with two datasets.\n",
    "# The first is a CSV taken from The Numbers\n",
    "movie_budgets = pd.read_csv('data/tn.movie_budgets.csv')"
   ]
  },
  {
   "cell_type": "code",
   "execution_count": 3,
   "metadata": {},
   "outputs": [],
   "source": [
    "# The other data source is a SQLite database from the Internet Movie Database (IMDB).\n",
    "conn = sqlite3.connect('data/im.db')"
   ]
  },
  {
   "cell_type": "markdown",
   "metadata": {},
   "source": [
    "### The IMDB Data\n",
    "The IMDB data is composed of 8 different tables. Below is its ERD.\n",
    "\n",
    "![IMDB ERD](images/imdb_erd.jpeg)\n",
    "\n",
    "This dataset is the most robust and contains more information than we need. A quick look at the movie_basics table shows us that the dataset contains information on 146,144 unique records between the years of 2010 and 2115 (which is either an error or at the very least something to look into when we do data cleaning).\n",
    "\n",
    "Looking at the other tables in the database, it looks like we also have information on each movie's: staff (actors, producers, writers, etc.), names of characters played by actors, some basic information on the people involved (like birth year and year of death), as well as info on movie ratings.\n"
   ]
  },
  {
   "cell_type": "code",
   "execution_count": 4,
   "metadata": {},
   "outputs": [
    {
     "data": {
      "text/html": [
       "<div>\n",
       "<style scoped>\n",
       "    .dataframe tbody tr th:only-of-type {\n",
       "        vertical-align: middle;\n",
       "    }\n",
       "\n",
       "    .dataframe tbody tr th {\n",
       "        vertical-align: top;\n",
       "    }\n",
       "\n",
       "    .dataframe thead th {\n",
       "        text-align: right;\n",
       "    }\n",
       "</style>\n",
       "<table border=\"1\" class=\"dataframe\">\n",
       "  <thead>\n",
       "    <tr style=\"text-align: right;\">\n",
       "      <th></th>\n",
       "      <th>MIN(start_year)</th>\n",
       "      <th>MAX(start_year)</th>\n",
       "      <th>COUNT(DISTINCT movie_id)</th>\n",
       "    </tr>\n",
       "  </thead>\n",
       "  <tbody>\n",
       "    <tr>\n",
       "      <th>0</th>\n",
       "      <td>2010</td>\n",
       "      <td>2115</td>\n",
       "      <td>146144</td>\n",
       "    </tr>\n",
       "  </tbody>\n",
       "</table>\n",
       "</div>"
      ],
      "text/plain": [
       "   MIN(start_year)  MAX(start_year)  COUNT(DISTINCT movie_id)\n",
       "0             2010             2115                    146144"
      ]
     },
     "execution_count": 4,
     "metadata": {},
     "output_type": "execute_result"
    }
   ],
   "source": [
    "q = \"\"\"\n",
    "SELECT MIN(start_year), MAX(start_year), COUNT(DISTINCT movie_id)\n",
    "FROM movie_basics\n",
    ";\"\"\"\n",
    "\n",
    "pd.read_sql(q, conn)"
   ]
  },
  {
   "cell_type": "code",
   "execution_count": 5,
   "metadata": {},
   "outputs": [
    {
     "data": {
      "text/html": [
       "<div>\n",
       "<style scoped>\n",
       "    .dataframe tbody tr th:only-of-type {\n",
       "        vertical-align: middle;\n",
       "    }\n",
       "\n",
       "    .dataframe tbody tr th {\n",
       "        vertical-align: top;\n",
       "    }\n",
       "\n",
       "    .dataframe thead th {\n",
       "        text-align: right;\n",
       "    }\n",
       "</style>\n",
       "<table border=\"1\" class=\"dataframe\">\n",
       "  <thead>\n",
       "    <tr style=\"text-align: right;\">\n",
       "      <th></th>\n",
       "      <th>movie_id</th>\n",
       "      <th>primary_title</th>\n",
       "      <th>original_title</th>\n",
       "      <th>start_year</th>\n",
       "      <th>runtime_minutes</th>\n",
       "      <th>genres</th>\n",
       "    </tr>\n",
       "  </thead>\n",
       "  <tbody>\n",
       "    <tr>\n",
       "      <th>0</th>\n",
       "      <td>tt0063540</td>\n",
       "      <td>Sunghursh</td>\n",
       "      <td>Sunghursh</td>\n",
       "      <td>2013</td>\n",
       "      <td>175.0</td>\n",
       "      <td>Action,Crime,Drama</td>\n",
       "    </tr>\n",
       "    <tr>\n",
       "      <th>1</th>\n",
       "      <td>tt0066787</td>\n",
       "      <td>One Day Before the Rainy Season</td>\n",
       "      <td>Ashad Ka Ek Din</td>\n",
       "      <td>2019</td>\n",
       "      <td>114.0</td>\n",
       "      <td>Biography,Drama</td>\n",
       "    </tr>\n",
       "    <tr>\n",
       "      <th>2</th>\n",
       "      <td>tt0069049</td>\n",
       "      <td>The Other Side of the Wind</td>\n",
       "      <td>The Other Side of the Wind</td>\n",
       "      <td>2018</td>\n",
       "      <td>122.0</td>\n",
       "      <td>Drama</td>\n",
       "    </tr>\n",
       "    <tr>\n",
       "      <th>3</th>\n",
       "      <td>tt0069204</td>\n",
       "      <td>Sabse Bada Sukh</td>\n",
       "      <td>Sabse Bada Sukh</td>\n",
       "      <td>2018</td>\n",
       "      <td>NaN</td>\n",
       "      <td>Comedy,Drama</td>\n",
       "    </tr>\n",
       "    <tr>\n",
       "      <th>4</th>\n",
       "      <td>tt0100275</td>\n",
       "      <td>The Wandering Soap Opera</td>\n",
       "      <td>La Telenovela Errante</td>\n",
       "      <td>2017</td>\n",
       "      <td>80.0</td>\n",
       "      <td>Comedy,Drama,Fantasy</td>\n",
       "    </tr>\n",
       "    <tr>\n",
       "      <th>5</th>\n",
       "      <td>tt0111414</td>\n",
       "      <td>A Thin Life</td>\n",
       "      <td>A Thin Life</td>\n",
       "      <td>2018</td>\n",
       "      <td>75.0</td>\n",
       "      <td>Comedy</td>\n",
       "    </tr>\n",
       "    <tr>\n",
       "      <th>6</th>\n",
       "      <td>tt0112502</td>\n",
       "      <td>Bigfoot</td>\n",
       "      <td>Bigfoot</td>\n",
       "      <td>2017</td>\n",
       "      <td>NaN</td>\n",
       "      <td>Horror,Thriller</td>\n",
       "    </tr>\n",
       "    <tr>\n",
       "      <th>7</th>\n",
       "      <td>tt0137204</td>\n",
       "      <td>Joe Finds Grace</td>\n",
       "      <td>Joe Finds Grace</td>\n",
       "      <td>2017</td>\n",
       "      <td>83.0</td>\n",
       "      <td>Adventure,Animation,Comedy</td>\n",
       "    </tr>\n",
       "    <tr>\n",
       "      <th>8</th>\n",
       "      <td>tt0139613</td>\n",
       "      <td>O Silêncio</td>\n",
       "      <td>O Silêncio</td>\n",
       "      <td>2012</td>\n",
       "      <td>NaN</td>\n",
       "      <td>Documentary,History</td>\n",
       "    </tr>\n",
       "    <tr>\n",
       "      <th>9</th>\n",
       "      <td>tt0144449</td>\n",
       "      <td>Nema aviona za Zagreb</td>\n",
       "      <td>Nema aviona za Zagreb</td>\n",
       "      <td>2012</td>\n",
       "      <td>82.0</td>\n",
       "      <td>Biography</td>\n",
       "    </tr>\n",
       "  </tbody>\n",
       "</table>\n",
       "</div>"
      ],
      "text/plain": [
       "    movie_id                    primary_title              original_title  \\\n",
       "0  tt0063540                        Sunghursh                   Sunghursh   \n",
       "1  tt0066787  One Day Before the Rainy Season             Ashad Ka Ek Din   \n",
       "2  tt0069049       The Other Side of the Wind  The Other Side of the Wind   \n",
       "3  tt0069204                  Sabse Bada Sukh             Sabse Bada Sukh   \n",
       "4  tt0100275         The Wandering Soap Opera       La Telenovela Errante   \n",
       "5  tt0111414                      A Thin Life                 A Thin Life   \n",
       "6  tt0112502                          Bigfoot                     Bigfoot   \n",
       "7  tt0137204                  Joe Finds Grace             Joe Finds Grace   \n",
       "8  tt0139613                       O Silêncio                  O Silêncio   \n",
       "9  tt0144449            Nema aviona za Zagreb       Nema aviona za Zagreb   \n",
       "\n",
       "   start_year  runtime_minutes                      genres  \n",
       "0        2013            175.0          Action,Crime,Drama  \n",
       "1        2019            114.0             Biography,Drama  \n",
       "2        2018            122.0                       Drama  \n",
       "3        2018              NaN                Comedy,Drama  \n",
       "4        2017             80.0        Comedy,Drama,Fantasy  \n",
       "5        2018             75.0                      Comedy  \n",
       "6        2017              NaN             Horror,Thriller  \n",
       "7        2017             83.0  Adventure,Animation,Comedy  \n",
       "8        2012              NaN         Documentary,History  \n",
       "9        2012             82.0                   Biography  "
      ]
     },
     "execution_count": 5,
     "metadata": {},
     "output_type": "execute_result"
    }
   ],
   "source": [
    "q = \"\"\"\n",
    "SELECT *\n",
    "FROM movie_basics\n",
    "LIMIT 10\n",
    ";\"\"\"\n",
    "\n",
    "pd.read_sql(q, conn)"
   ]
  },
  {
   "cell_type": "markdown",
   "metadata": {},
   "source": [
    "### Movie Budgets Data\n",
    "\n",
    "The movie budgets data comes from The-Numbers.com. It contains records on 5,698 unique movie titles between the years of 1915 and 2020. For each movie, it provides us with the movie's release date, its title, its production budget, and its foreign and domestic box office earnings."
   ]
  },
  {
   "cell_type": "code",
   "execution_count": 6,
   "metadata": {},
   "outputs": [
    {
     "name": "stdout",
     "output_type": "stream",
     "text": [
      "<class 'pandas.core.frame.DataFrame'>\n",
      "RangeIndex: 5782 entries, 0 to 5781\n",
      "Data columns (total 6 columns):\n",
      " #   Column             Non-Null Count  Dtype \n",
      "---  ------             --------------  ----- \n",
      " 0   id                 5782 non-null   int64 \n",
      " 1   release_date       5782 non-null   object\n",
      " 2   movie              5782 non-null   object\n",
      " 3   production_budget  5782 non-null   object\n",
      " 4   domestic_gross     5782 non-null   object\n",
      " 5   worldwide_gross    5782 non-null   object\n",
      "dtypes: int64(1), object(5)\n",
      "memory usage: 271.2+ KB\n"
     ]
    }
   ],
   "source": [
    "movie_budgets.info()"
   ]
  },
  {
   "cell_type": "code",
   "execution_count": 7,
   "metadata": {},
   "outputs": [
    {
     "data": {
      "text/html": [
       "<div>\n",
       "<style scoped>\n",
       "    .dataframe tbody tr th:only-of-type {\n",
       "        vertical-align: middle;\n",
       "    }\n",
       "\n",
       "    .dataframe tbody tr th {\n",
       "        vertical-align: top;\n",
       "    }\n",
       "\n",
       "    .dataframe thead th {\n",
       "        text-align: right;\n",
       "    }\n",
       "</style>\n",
       "<table border=\"1\" class=\"dataframe\">\n",
       "  <thead>\n",
       "    <tr style=\"text-align: right;\">\n",
       "      <th></th>\n",
       "      <th>id</th>\n",
       "      <th>release_date</th>\n",
       "      <th>movie</th>\n",
       "      <th>production_budget</th>\n",
       "      <th>domestic_gross</th>\n",
       "      <th>worldwide_gross</th>\n",
       "    </tr>\n",
       "  </thead>\n",
       "  <tbody>\n",
       "    <tr>\n",
       "      <th>0</th>\n",
       "      <td>1</td>\n",
       "      <td>Dec 18, 2009</td>\n",
       "      <td>Avatar</td>\n",
       "      <td>$425,000,000</td>\n",
       "      <td>$760,507,625</td>\n",
       "      <td>$2,776,345,279</td>\n",
       "    </tr>\n",
       "    <tr>\n",
       "      <th>1</th>\n",
       "      <td>2</td>\n",
       "      <td>May 20, 2011</td>\n",
       "      <td>Pirates of the Caribbean: On Stranger Tides</td>\n",
       "      <td>$410,600,000</td>\n",
       "      <td>$241,063,875</td>\n",
       "      <td>$1,045,663,875</td>\n",
       "    </tr>\n",
       "    <tr>\n",
       "      <th>2</th>\n",
       "      <td>3</td>\n",
       "      <td>Jun 7, 2019</td>\n",
       "      <td>Dark Phoenix</td>\n",
       "      <td>$350,000,000</td>\n",
       "      <td>$42,762,350</td>\n",
       "      <td>$149,762,350</td>\n",
       "    </tr>\n",
       "    <tr>\n",
       "      <th>3</th>\n",
       "      <td>4</td>\n",
       "      <td>May 1, 2015</td>\n",
       "      <td>Avengers: Age of Ultron</td>\n",
       "      <td>$330,600,000</td>\n",
       "      <td>$459,005,868</td>\n",
       "      <td>$1,403,013,963</td>\n",
       "    </tr>\n",
       "    <tr>\n",
       "      <th>4</th>\n",
       "      <td>5</td>\n",
       "      <td>Dec 15, 2017</td>\n",
       "      <td>Star Wars Ep. VIII: The Last Jedi</td>\n",
       "      <td>$317,000,000</td>\n",
       "      <td>$620,181,382</td>\n",
       "      <td>$1,316,721,747</td>\n",
       "    </tr>\n",
       "  </tbody>\n",
       "</table>\n",
       "</div>"
      ],
      "text/plain": [
       "   id  release_date                                        movie  \\\n",
       "0   1  Dec 18, 2009                                       Avatar   \n",
       "1   2  May 20, 2011  Pirates of the Caribbean: On Stranger Tides   \n",
       "2   3   Jun 7, 2019                                 Dark Phoenix   \n",
       "3   4   May 1, 2015                      Avengers: Age of Ultron   \n",
       "4   5  Dec 15, 2017            Star Wars Ep. VIII: The Last Jedi   \n",
       "\n",
       "  production_budget domestic_gross worldwide_gross  \n",
       "0      $425,000,000   $760,507,625  $2,776,345,279  \n",
       "1      $410,600,000   $241,063,875  $1,045,663,875  \n",
       "2      $350,000,000    $42,762,350    $149,762,350  \n",
       "3      $330,600,000   $459,005,868  $1,403,013,963  \n",
       "4      $317,000,000   $620,181,382  $1,316,721,747  "
      ]
     },
     "execution_count": 7,
     "metadata": {},
     "output_type": "execute_result"
    }
   ],
   "source": [
    "movie_budgets.head()"
   ]
  },
  {
   "cell_type": "code",
   "execution_count": 8,
   "metadata": {},
   "outputs": [
    {
     "data": {
      "text/plain": [
       "5698"
      ]
     },
     "execution_count": 8,
     "metadata": {},
     "output_type": "execute_result"
    }
   ],
   "source": [
    "# How many unique movie titles are in the dataset?\n",
    "movie_budgets['movie'].nunique()"
   ]
  },
  {
   "cell_type": "code",
   "execution_count": 9,
   "metadata": {},
   "outputs": [
    {
     "name": "stdout",
     "output_type": "stream",
     "text": [
      "The data sets begins in the year: 1915\n",
      "The dataset contains data on movies through the year:  2020\n"
     ]
    }
   ],
   "source": [
    "# Get the range of years in the box office dataset\n",
    "\n",
    "movie_budgets['year'] = movie_budgets['release_date'].str[-4:]\n",
    "\n",
    "print('The data sets begins in the year:', movie_budgets['year'].min())\n",
    "print('The dataset contains data on movies through the year: ', movie_budgets['year'].max())"
   ]
  },
  {
   "cell_type": "markdown",
   "metadata": {},
   "source": [
    "## Data Preparation\n",
    "\n",
    "In this section we set out to prepare our two datasets and to get them in working order so that we can carry out analysis.\n",
    "\n",
    "### Data Cleaning\n",
    "\n",
    "#### Cleaning & Preparing movie_budgets\n",
    "\n",
    "Let's first take a closer look at movie_budgets. Initially, it looks like the dataset has no misisng values."
   ]
  },
  {
   "cell_type": "code",
   "execution_count": 10,
   "metadata": {},
   "outputs": [
    {
     "data": {
      "text/plain": [
       "id                   0\n",
       "release_date         0\n",
       "movie                0\n",
       "production_budget    0\n",
       "domestic_gross       0\n",
       "worldwide_gross      0\n",
       "year                 0\n",
       "dtype: int64"
      ]
     },
     "execution_count": 10,
     "metadata": {},
     "output_type": "execute_result"
    }
   ],
   "source": [
    "movie_budgets.isnull().sum()"
   ]
  },
  {
   "cell_type": "markdown",
   "metadata": {},
   "source": [
    "However, just because it doesn't have Null values doesn't mean some values don't have a placeholder. So we'll investigate this dataset more closely to spot placeholder values."
   ]
  },
  {
   "cell_type": "code",
   "execution_count": 11,
   "metadata": {},
   "outputs": [
    {
     "data": {
      "text/plain": [
       "Dec 31, 2014    24\n",
       "Dec 31, 2015    23\n",
       "Dec 31, 2010    15\n",
       "Dec 31, 2008    14\n",
       "Dec 31, 2009    13\n",
       "                ..\n",
       "Nov 14, 2007     1\n",
       "Jun 2, 2000      1\n",
       "Feb 2, 1979      1\n",
       "Mar 6, 2009      1\n",
       "Dec 11, 1991     1\n",
       "Name: release_date, Length: 2418, dtype: int64"
      ]
     },
     "execution_count": 11,
     "metadata": {},
     "output_type": "execute_result"
    }
   ],
   "source": [
    "movie_budgets['release_date'].value_counts().sort_values(ascending=False)"
   ]
  },
  {
   "cell_type": "code",
   "execution_count": 12,
   "metadata": {},
   "outputs": [
    {
     "data": {
      "text/plain": [
       "Halloween                      3\n",
       "King Kong                      3\n",
       "Home                           3\n",
       "Around the World in 80 Days    2\n",
       "Twilight                       2\n",
       "                              ..\n",
       "Doctor Strange                 1\n",
       "The Trials of Darryl Hunt      1\n",
       "Love the Coopers               1\n",
       "The Man with the Golden Gun    1\n",
       "Monte Carlo                    1\n",
       "Name: movie, Length: 5698, dtype: int64"
      ]
     },
     "execution_count": 12,
     "metadata": {},
     "output_type": "execute_result"
    }
   ],
   "source": [
    "movie_budgets['movie'].value_counts().sort_values(ascending=False)"
   ]
  },
  {
   "cell_type": "code",
   "execution_count": 13,
   "metadata": {},
   "outputs": [
    {
     "data": {
      "text/plain": [
       "$20,000,000     231\n",
       "$10,000,000     212\n",
       "$30,000,000     177\n",
       "$15,000,000     173\n",
       "$25,000,000     171\n",
       "               ... \n",
       "$50,200,000       1\n",
       "$79,300,000       1\n",
       "$240,000          1\n",
       "$6,700,000        1\n",
       "$232,000,000      1\n",
       "Name: production_budget, Length: 509, dtype: int64"
      ]
     },
     "execution_count": 13,
     "metadata": {},
     "output_type": "execute_result"
    }
   ],
   "source": [
    "movie_budgets['production_budget'].value_counts().sort_values(ascending=False)"
   ]
  },
  {
   "cell_type": "code",
   "execution_count": 14,
   "metadata": {},
   "outputs": [
    {
     "data": {
      "text/plain": [
       "$0             367\n",
       "$8,000,000       9\n",
       "$7,000,000       6\n",
       "$2,000,000       6\n",
       "$9,000,000       4\n",
       "              ... \n",
       "$80,276,156      1\n",
       "$69,425,966      1\n",
       "$7,100,000       1\n",
       "$1,427,656       1\n",
       "$84,747,441      1\n",
       "Name: worldwide_gross, Length: 5356, dtype: int64"
      ]
     },
     "execution_count": 14,
     "metadata": {},
     "output_type": "execute_result"
    }
   ],
   "source": [
    "movie_budgets['worldwide_gross'].value_counts().sort_values(ascending=False)"
   ]
  },
  {
   "cell_type": "markdown",
   "metadata": {},
   "source": [
    "worldwide_gross has 367 occurrences of $0. That's the only unusual high count occurrence. Let's take a look at those records."
   ]
  },
  {
   "cell_type": "code",
   "execution_count": 15,
   "metadata": {},
   "outputs": [
    {
     "data": {
      "text/html": [
       "<div>\n",
       "<style scoped>\n",
       "    .dataframe tbody tr th:only-of-type {\n",
       "        vertical-align: middle;\n",
       "    }\n",
       "\n",
       "    .dataframe tbody tr th {\n",
       "        vertical-align: top;\n",
       "    }\n",
       "\n",
       "    .dataframe thead th {\n",
       "        text-align: right;\n",
       "    }\n",
       "</style>\n",
       "<table border=\"1\" class=\"dataframe\">\n",
       "  <thead>\n",
       "    <tr style=\"text-align: right;\">\n",
       "      <th></th>\n",
       "      <th>id</th>\n",
       "      <th>release_date</th>\n",
       "      <th>movie</th>\n",
       "      <th>production_budget</th>\n",
       "      <th>domestic_gross</th>\n",
       "      <th>worldwide_gross</th>\n",
       "      <th>year</th>\n",
       "    </tr>\n",
       "  </thead>\n",
       "  <tbody>\n",
       "    <tr>\n",
       "      <th>194</th>\n",
       "      <td>95</td>\n",
       "      <td>Dec 31, 2020</td>\n",
       "      <td>Moonfall</td>\n",
       "      <td>$150,000,000</td>\n",
       "      <td>$0</td>\n",
       "      <td>$0</td>\n",
       "      <td>2020</td>\n",
       "    </tr>\n",
       "    <tr>\n",
       "      <th>479</th>\n",
       "      <td>80</td>\n",
       "      <td>Dec 13, 2017</td>\n",
       "      <td>Bright</td>\n",
       "      <td>$90,000,000</td>\n",
       "      <td>$0</td>\n",
       "      <td>$0</td>\n",
       "      <td>2017</td>\n",
       "    </tr>\n",
       "    <tr>\n",
       "      <th>480</th>\n",
       "      <td>81</td>\n",
       "      <td>Dec 31, 2019</td>\n",
       "      <td>Army of the Dead</td>\n",
       "      <td>$90,000,000</td>\n",
       "      <td>$0</td>\n",
       "      <td>$0</td>\n",
       "      <td>2019</td>\n",
       "    </tr>\n",
       "    <tr>\n",
       "      <th>535</th>\n",
       "      <td>36</td>\n",
       "      <td>Feb 21, 2020</td>\n",
       "      <td>Call of the Wild</td>\n",
       "      <td>$82,000,000</td>\n",
       "      <td>$0</td>\n",
       "      <td>$0</td>\n",
       "      <td>2020</td>\n",
       "    </tr>\n",
       "    <tr>\n",
       "      <th>670</th>\n",
       "      <td>71</td>\n",
       "      <td>Aug 30, 2019</td>\n",
       "      <td>PLAYMOBIL</td>\n",
       "      <td>$75,000,000</td>\n",
       "      <td>$0</td>\n",
       "      <td>$0</td>\n",
       "      <td>2019</td>\n",
       "    </tr>\n",
       "    <tr>\n",
       "      <th>...</th>\n",
       "      <td>...</td>\n",
       "      <td>...</td>\n",
       "      <td>...</td>\n",
       "      <td>...</td>\n",
       "      <td>...</td>\n",
       "      <td>...</td>\n",
       "      <td>...</td>\n",
       "    </tr>\n",
       "    <tr>\n",
       "      <th>5761</th>\n",
       "      <td>62</td>\n",
       "      <td>Dec 31, 2014</td>\n",
       "      <td>Stories of Our Lives</td>\n",
       "      <td>$15,000</td>\n",
       "      <td>$0</td>\n",
       "      <td>$0</td>\n",
       "      <td>2014</td>\n",
       "    </tr>\n",
       "    <tr>\n",
       "      <th>5764</th>\n",
       "      <td>65</td>\n",
       "      <td>Dec 31, 2007</td>\n",
       "      <td>Tin Can Man</td>\n",
       "      <td>$12,000</td>\n",
       "      <td>$0</td>\n",
       "      <td>$0</td>\n",
       "      <td>2007</td>\n",
       "    </tr>\n",
       "    <tr>\n",
       "      <th>5771</th>\n",
       "      <td>72</td>\n",
       "      <td>May 19, 2015</td>\n",
       "      <td>Family Motocross</td>\n",
       "      <td>$10,000</td>\n",
       "      <td>$0</td>\n",
       "      <td>$0</td>\n",
       "      <td>2015</td>\n",
       "    </tr>\n",
       "    <tr>\n",
       "      <th>5777</th>\n",
       "      <td>78</td>\n",
       "      <td>Dec 31, 2018</td>\n",
       "      <td>Red 11</td>\n",
       "      <td>$7,000</td>\n",
       "      <td>$0</td>\n",
       "      <td>$0</td>\n",
       "      <td>2018</td>\n",
       "    </tr>\n",
       "    <tr>\n",
       "      <th>5780</th>\n",
       "      <td>81</td>\n",
       "      <td>Sep 29, 2015</td>\n",
       "      <td>A Plague So Pleasant</td>\n",
       "      <td>$1,400</td>\n",
       "      <td>$0</td>\n",
       "      <td>$0</td>\n",
       "      <td>2015</td>\n",
       "    </tr>\n",
       "  </tbody>\n",
       "</table>\n",
       "<p>367 rows × 7 columns</p>\n",
       "</div>"
      ],
      "text/plain": [
       "      id  release_date                 movie production_budget domestic_gross  \\\n",
       "194   95  Dec 31, 2020              Moonfall      $150,000,000             $0   \n",
       "479   80  Dec 13, 2017                Bright       $90,000,000             $0   \n",
       "480   81  Dec 31, 2019      Army of the Dead       $90,000,000             $0   \n",
       "535   36  Feb 21, 2020      Call of the Wild       $82,000,000             $0   \n",
       "670   71  Aug 30, 2019             PLAYMOBIL       $75,000,000             $0   \n",
       "...   ..           ...                   ...               ...            ...   \n",
       "5761  62  Dec 31, 2014  Stories of Our Lives           $15,000             $0   \n",
       "5764  65  Dec 31, 2007           Tin Can Man           $12,000             $0   \n",
       "5771  72  May 19, 2015      Family Motocross           $10,000             $0   \n",
       "5777  78  Dec 31, 2018                Red 11            $7,000             $0   \n",
       "5780  81  Sep 29, 2015  A Plague So Pleasant            $1,400             $0   \n",
       "\n",
       "     worldwide_gross  year  \n",
       "194               $0  2020  \n",
       "479               $0  2017  \n",
       "480               $0  2019  \n",
       "535               $0  2020  \n",
       "670               $0  2019  \n",
       "...              ...   ...  \n",
       "5761              $0  2014  \n",
       "5764              $0  2007  \n",
       "5771              $0  2015  \n",
       "5777              $0  2018  \n",
       "5780              $0  2015  \n",
       "\n",
       "[367 rows x 7 columns]"
      ]
     },
     "execution_count": 15,
     "metadata": {},
     "output_type": "execute_result"
    }
   ],
   "source": [
    "movie_budgets_zero = movie_budgets.loc[movie_budgets['worldwide_gross'] == '$0']\n",
    "\n",
    "movie_budgets_zero"
   ]
  },
  {
   "cell_type": "markdown",
   "metadata": {},
   "source": [
    "Some of the above results are streaming releases, meaning they never had a box office. There, a value of 0 makes sense. This applies, for example, to Bright. However, for other movies the data is just missing. For example, a quick online search shows that Army of the Dead (released Dec 31, 2019) made $1 million at the Box Office.\n",
    "\n",
    "Since this is just 367 rows out of 5,782 I'm deciding to simply drop these rows."
   ]
  },
  {
   "cell_type": "code",
   "execution_count": 16,
   "metadata": {},
   "outputs": [],
   "source": [
    "movie_budgets.drop(movie_budgets[movie_budgets.worldwide_gross == '$0'].index, inplace=True)"
   ]
  },
  {
   "cell_type": "markdown",
   "metadata": {},
   "source": [
    "Next, notice that the 'production_budget', 'domestic_gross' and 'worldwide_gross' are stored as objects. This will be inconvenient later on when we wish to run calculations on our dataset. It will be helpful to convert these from objects to floats."
   ]
  },
  {
   "cell_type": "code",
   "execution_count": 17,
   "metadata": {},
   "outputs": [],
   "source": [
    "movie_budgets[movie_budgets.columns[3:]] = movie_budgets[\n",
    "    movie_budgets.columns[3:]].replace('[\\$,]', \n",
    "    '', regex=True).astype(float)"
   ]
  },
  {
   "cell_type": "code",
   "execution_count": 18,
   "metadata": {},
   "outputs": [
    {
     "name": "stdout",
     "output_type": "stream",
     "text": [
      "<class 'pandas.core.frame.DataFrame'>\n",
      "Int64Index: 5415 entries, 0 to 5781\n",
      "Data columns (total 7 columns):\n",
      " #   Column             Non-Null Count  Dtype  \n",
      "---  ------             --------------  -----  \n",
      " 0   id                 5415 non-null   int64  \n",
      " 1   release_date       5415 non-null   object \n",
      " 2   movie              5415 non-null   object \n",
      " 3   production_budget  5415 non-null   float64\n",
      " 4   domestic_gross     5415 non-null   float64\n",
      " 5   worldwide_gross    5415 non-null   float64\n",
      " 6   year               5415 non-null   float64\n",
      "dtypes: float64(4), int64(1), object(2)\n",
      "memory usage: 338.4+ KB\n"
     ]
    }
   ],
   "source": [
    "# Confirming the conversion was successful\n",
    "movie_budgets.info()"
   ]
  },
  {
   "cell_type": "markdown",
   "metadata": {},
   "source": [
    "Lastly, we want to only analyze non-indie films and focus on big productions. Given Microsoft is a multi-billion dollar company we want to make sure we're comparing apples to apples and looking at the types of productions that would make an impact to Microsoft's bottom line.\n",
    "\n",
    "[This website](https://newbiefilmschool.com/average-low-budget-film-cost/) shows that, on average, indie films have a budget of $2 million. So we'll filter those out of our movie_budgets dataframe"
   ]
  },
  {
   "cell_type": "code",
   "execution_count": 19,
   "metadata": {},
   "outputs": [],
   "source": [
    "movie_budgets = movie_budgets.loc[movie_budgets['production_budget'] > 2000000]"
   ]
  },
  {
   "cell_type": "code",
   "execution_count": 20,
   "metadata": {},
   "outputs": [],
   "source": [
    "# Here we make the movie column all lowercase and make a few replacements to help merging later on.\n",
    "\n",
    "movie_budgets['movie'] = movie_budgets['movie'].str.lower()\n",
    "movie_budgets['movie'] = movie_budgets['movie'].str.replace(r'\\.', '')\n",
    "movie_budgets['movie'] = movie_budgets['movie'].str.replace(r'\\ ep ', ' episode ')"
   ]
  },
  {
   "cell_type": "markdown",
   "metadata": {},
   "source": [
    "#### Cleaning & Preparing IMDB Data\n",
    "\n",
    "Next, let's prepare the IMDB data we want to use in our analysis by passing everything we need into a dataframe.\n",
    "\n",
    "The information we're interested in is a movie's genre, director, the year of release and its title.\n",
    "\n",
    "454 records have a NULL value for 'genres'. Since this is a descriptive datapoint and not numeric, our option is really to just drop it for now and come back to this if it creates issues down the line."
   ]
  },
  {
   "cell_type": "code",
   "execution_count": 21,
   "metadata": {},
   "outputs": [
    {
     "data": {
      "text/html": [
       "<div>\n",
       "<style scoped>\n",
       "    .dataframe tbody tr th:only-of-type {\n",
       "        vertical-align: middle;\n",
       "    }\n",
       "\n",
       "    .dataframe tbody tr th {\n",
       "        vertical-align: top;\n",
       "    }\n",
       "\n",
       "    .dataframe thead th {\n",
       "        text-align: right;\n",
       "    }\n",
       "</style>\n",
       "<table border=\"1\" class=\"dataframe\">\n",
       "  <thead>\n",
       "    <tr style=\"text-align: right;\">\n",
       "      <th></th>\n",
       "      <th>movie_id</th>\n",
       "      <th>primary_title</th>\n",
       "      <th>original_title</th>\n",
       "      <th>start_year</th>\n",
       "      <th>runtime_minutes</th>\n",
       "      <th>genres</th>\n",
       "      <th>person_id</th>\n",
       "      <th>ordering</th>\n",
       "      <th>title</th>\n",
       "      <th>region</th>\n",
       "      <th>language</th>\n",
       "      <th>types</th>\n",
       "      <th>attributes</th>\n",
       "      <th>is_original_title</th>\n",
       "      <th>primary_name</th>\n",
       "      <th>birth_year</th>\n",
       "      <th>death_year</th>\n",
       "      <th>primary_profession</th>\n",
       "    </tr>\n",
       "  </thead>\n",
       "  <tbody>\n",
       "    <tr>\n",
       "      <th>0</th>\n",
       "      <td>tt0306058</td>\n",
       "      <td>Second Coming</td>\n",
       "      <td>Second Coming</td>\n",
       "      <td>2012</td>\n",
       "      <td>95.0</td>\n",
       "      <td>None</td>\n",
       "      <td>nm0132363</td>\n",
       "      <td>1</td>\n",
       "      <td>Second Coming</td>\n",
       "      <td>US</td>\n",
       "      <td>None</td>\n",
       "      <td>None</td>\n",
       "      <td>None</td>\n",
       "      <td>0.0</td>\n",
       "      <td>Darren Campbell</td>\n",
       "      <td>NaN</td>\n",
       "      <td>NaN</td>\n",
       "      <td>actor,writer,director</td>\n",
       "    </tr>\n",
       "    <tr>\n",
       "      <th>1</th>\n",
       "      <td>tt0326592</td>\n",
       "      <td>The Overnight</td>\n",
       "      <td>The Overnight</td>\n",
       "      <td>2010</td>\n",
       "      <td>88.0</td>\n",
       "      <td>None</td>\n",
       "      <td>nm1208371</td>\n",
       "      <td>1</td>\n",
       "      <td>A Bellman, a Hooker, and a Rabbi...</td>\n",
       "      <td>US</td>\n",
       "      <td>None</td>\n",
       "      <td>working</td>\n",
       "      <td>None</td>\n",
       "      <td>0.0</td>\n",
       "      <td>Jed I. Goodman</td>\n",
       "      <td>NaN</td>\n",
       "      <td>NaN</td>\n",
       "      <td>camera_department,writer,producer</td>\n",
       "    </tr>\n",
       "    <tr>\n",
       "      <th>2</th>\n",
       "      <td>tt10341642</td>\n",
       "      <td>One Hundred and Twenty-Eight Thousand</td>\n",
       "      <td>Sto dvacet osm tisíc</td>\n",
       "      <td>2019</td>\n",
       "      <td>16.0</td>\n",
       "      <td>None</td>\n",
       "      <td>nm10698460</td>\n",
       "      <td>3</td>\n",
       "      <td>One Hundred and Twenty-Eight Thousand</td>\n",
       "      <td>US</td>\n",
       "      <td>None</td>\n",
       "      <td>imdbDisplay</td>\n",
       "      <td>None</td>\n",
       "      <td>0.0</td>\n",
       "      <td>Ondrej Erban</td>\n",
       "      <td>NaN</td>\n",
       "      <td>NaN</td>\n",
       "      <td>director</td>\n",
       "    </tr>\n",
       "    <tr>\n",
       "      <th>3</th>\n",
       "      <td>tt10387818</td>\n",
       "      <td>Centurion XII</td>\n",
       "      <td>Centurion XII</td>\n",
       "      <td>2020</td>\n",
       "      <td>NaN</td>\n",
       "      <td>None</td>\n",
       "      <td>nm0327466</td>\n",
       "      <td>1</td>\n",
       "      <td>Centurion the Dancing Stallion</td>\n",
       "      <td>US</td>\n",
       "      <td>None</td>\n",
       "      <td>working</td>\n",
       "      <td>None</td>\n",
       "      <td>0.0</td>\n",
       "      <td>Dana Gonzales</td>\n",
       "      <td>1963.0</td>\n",
       "      <td>NaN</td>\n",
       "      <td>camera_department,cinematographer,producer</td>\n",
       "    </tr>\n",
       "    <tr>\n",
       "      <th>4</th>\n",
       "      <td>tt1077070</td>\n",
       "      <td>Underground</td>\n",
       "      <td>ASD. Alma sin dueño</td>\n",
       "      <td>2010</td>\n",
       "      <td>NaN</td>\n",
       "      <td>None</td>\n",
       "      <td>nm0328500</td>\n",
       "      <td>3</td>\n",
       "      <td>Underground</td>\n",
       "      <td>US</td>\n",
       "      <td>None</td>\n",
       "      <td>None</td>\n",
       "      <td>new title</td>\n",
       "      <td>0.0</td>\n",
       "      <td>Tinieblas González</td>\n",
       "      <td>1972.0</td>\n",
       "      <td>NaN</td>\n",
       "      <td>director,writer,editor</td>\n",
       "    </tr>\n",
       "    <tr>\n",
       "      <th>...</th>\n",
       "      <td>...</td>\n",
       "      <td>...</td>\n",
       "      <td>...</td>\n",
       "      <td>...</td>\n",
       "      <td>...</td>\n",
       "      <td>...</td>\n",
       "      <td>...</td>\n",
       "      <td>...</td>\n",
       "      <td>...</td>\n",
       "      <td>...</td>\n",
       "      <td>...</td>\n",
       "      <td>...</td>\n",
       "      <td>...</td>\n",
       "      <td>...</td>\n",
       "      <td>...</td>\n",
       "      <td>...</td>\n",
       "      <td>...</td>\n",
       "      <td>...</td>\n",
       "    </tr>\n",
       "    <tr>\n",
       "      <th>449</th>\n",
       "      <td>tt8394036</td>\n",
       "      <td>Postpartum Depression Awareness PSA</td>\n",
       "      <td>Postpartum Depression Awareness PSA</td>\n",
       "      <td>2016</td>\n",
       "      <td>NaN</td>\n",
       "      <td>None</td>\n",
       "      <td>nm6789992</td>\n",
       "      <td>1</td>\n",
       "      <td>Postpartum Depression Awareness PSA</td>\n",
       "      <td>US</td>\n",
       "      <td>None</td>\n",
       "      <td>None</td>\n",
       "      <td>None</td>\n",
       "      <td>0.0</td>\n",
       "      <td>Joshua Friese</td>\n",
       "      <td>NaN</td>\n",
       "      <td>NaN</td>\n",
       "      <td>cinematographer,director,producer</td>\n",
       "    </tr>\n",
       "    <tr>\n",
       "      <th>450</th>\n",
       "      <td>tt9041234</td>\n",
       "      <td>Lost and Found</td>\n",
       "      <td>Je promets d'être sage</td>\n",
       "      <td>2019</td>\n",
       "      <td>NaN</td>\n",
       "      <td>None</td>\n",
       "      <td>nm1398405</td>\n",
       "      <td>1</td>\n",
       "      <td>Lost and Found</td>\n",
       "      <td>US</td>\n",
       "      <td>None</td>\n",
       "      <td>imdbDisplay</td>\n",
       "      <td>None</td>\n",
       "      <td>0.0</td>\n",
       "      <td>Ronan Le Page</td>\n",
       "      <td>NaN</td>\n",
       "      <td>NaN</td>\n",
       "      <td>director,writer</td>\n",
       "    </tr>\n",
       "    <tr>\n",
       "      <th>451</th>\n",
       "      <td>tt9118844</td>\n",
       "      <td>$MOKE</td>\n",
       "      <td>$MOKE</td>\n",
       "      <td>2019</td>\n",
       "      <td>NaN</td>\n",
       "      <td>None</td>\n",
       "      <td>nm1622543</td>\n",
       "      <td>1</td>\n",
       "      <td>$MOKE</td>\n",
       "      <td>US</td>\n",
       "      <td>None</td>\n",
       "      <td>None</td>\n",
       "      <td>None</td>\n",
       "      <td>0.0</td>\n",
       "      <td>Greg Galloway</td>\n",
       "      <td>NaN</td>\n",
       "      <td>NaN</td>\n",
       "      <td>producer,director,writer</td>\n",
       "    </tr>\n",
       "    <tr>\n",
       "      <th>452</th>\n",
       "      <td>tt9196212</td>\n",
       "      <td>A Rising Tide of Silence</td>\n",
       "      <td>A Rising Tide of Silence</td>\n",
       "      <td>2013</td>\n",
       "      <td>75.0</td>\n",
       "      <td>None</td>\n",
       "      <td>nm10220497</td>\n",
       "      <td>2</td>\n",
       "      <td>Thomas Keating: A Rising Tide of Silence</td>\n",
       "      <td>US</td>\n",
       "      <td>None</td>\n",
       "      <td>None</td>\n",
       "      <td>complete title</td>\n",
       "      <td>0.0</td>\n",
       "      <td>Peter C. Jones</td>\n",
       "      <td>NaN</td>\n",
       "      <td>NaN</td>\n",
       "      <td>director,writer,producer</td>\n",
       "    </tr>\n",
       "    <tr>\n",
       "      <th>453</th>\n",
       "      <td>tt9568668</td>\n",
       "      <td>The Buoy</td>\n",
       "      <td>La boya</td>\n",
       "      <td>2018</td>\n",
       "      <td>NaN</td>\n",
       "      <td>None</td>\n",
       "      <td>nm0818915</td>\n",
       "      <td>1</td>\n",
       "      <td>The Buoy</td>\n",
       "      <td>US</td>\n",
       "      <td>None</td>\n",
       "      <td>imdbDisplay</td>\n",
       "      <td>None</td>\n",
       "      <td>0.0</td>\n",
       "      <td>Fernando Spiner</td>\n",
       "      <td>NaN</td>\n",
       "      <td>NaN</td>\n",
       "      <td>director,writer,actor</td>\n",
       "    </tr>\n",
       "  </tbody>\n",
       "</table>\n",
       "<p>454 rows × 18 columns</p>\n",
       "</div>"
      ],
      "text/plain": [
       "       movie_id                          primary_title  \\\n",
       "0     tt0306058                          Second Coming   \n",
       "1     tt0326592                          The Overnight   \n",
       "2    tt10341642  One Hundred and Twenty-Eight Thousand   \n",
       "3    tt10387818                          Centurion XII   \n",
       "4     tt1077070                            Underground   \n",
       "..          ...                                    ...   \n",
       "449   tt8394036    Postpartum Depression Awareness PSA   \n",
       "450   tt9041234                         Lost and Found   \n",
       "451   tt9118844                                  $MOKE   \n",
       "452   tt9196212               A Rising Tide of Silence   \n",
       "453   tt9568668                               The Buoy   \n",
       "\n",
       "                          original_title  start_year  runtime_minutes genres  \\\n",
       "0                          Second Coming        2012             95.0   None   \n",
       "1                          The Overnight        2010             88.0   None   \n",
       "2                   Sto dvacet osm tisíc        2019             16.0   None   \n",
       "3                          Centurion XII        2020              NaN   None   \n",
       "4                    ASD. Alma sin dueño        2010              NaN   None   \n",
       "..                                   ...         ...              ...    ...   \n",
       "449  Postpartum Depression Awareness PSA        2016              NaN   None   \n",
       "450               Je promets d'être sage        2019              NaN   None   \n",
       "451                                $MOKE        2019              NaN   None   \n",
       "452             A Rising Tide of Silence        2013             75.0   None   \n",
       "453                              La boya        2018              NaN   None   \n",
       "\n",
       "      person_id  ordering                                     title region  \\\n",
       "0     nm0132363         1                             Second Coming     US   \n",
       "1     nm1208371         1       A Bellman, a Hooker, and a Rabbi...     US   \n",
       "2    nm10698460         3     One Hundred and Twenty-Eight Thousand     US   \n",
       "3     nm0327466         1            Centurion the Dancing Stallion     US   \n",
       "4     nm0328500         3                               Underground     US   \n",
       "..          ...       ...                                       ...    ...   \n",
       "449   nm6789992         1       Postpartum Depression Awareness PSA     US   \n",
       "450   nm1398405         1                            Lost and Found     US   \n",
       "451   nm1622543         1                                     $MOKE     US   \n",
       "452  nm10220497         2  Thomas Keating: A Rising Tide of Silence     US   \n",
       "453   nm0818915         1                                  The Buoy     US   \n",
       "\n",
       "    language        types      attributes  is_original_title  \\\n",
       "0       None         None            None                0.0   \n",
       "1       None      working            None                0.0   \n",
       "2       None  imdbDisplay            None                0.0   \n",
       "3       None      working            None                0.0   \n",
       "4       None         None       new title                0.0   \n",
       "..       ...          ...             ...                ...   \n",
       "449     None         None            None                0.0   \n",
       "450     None  imdbDisplay            None                0.0   \n",
       "451     None         None            None                0.0   \n",
       "452     None         None  complete title                0.0   \n",
       "453     None  imdbDisplay            None                0.0   \n",
       "\n",
       "           primary_name  birth_year  death_year  \\\n",
       "0       Darren Campbell         NaN         NaN   \n",
       "1        Jed I. Goodman         NaN         NaN   \n",
       "2          Ondrej Erban         NaN         NaN   \n",
       "3         Dana Gonzales      1963.0         NaN   \n",
       "4    Tinieblas González      1972.0         NaN   \n",
       "..                  ...         ...         ...   \n",
       "449       Joshua Friese         NaN         NaN   \n",
       "450       Ronan Le Page         NaN         NaN   \n",
       "451       Greg Galloway         NaN         NaN   \n",
       "452      Peter C. Jones         NaN         NaN   \n",
       "453     Fernando Spiner         NaN         NaN   \n",
       "\n",
       "                             primary_profession  \n",
       "0                         actor,writer,director  \n",
       "1             camera_department,writer,producer  \n",
       "2                                      director  \n",
       "3    camera_department,cinematographer,producer  \n",
       "4                        director,writer,editor  \n",
       "..                                          ...  \n",
       "449           cinematographer,director,producer  \n",
       "450                             director,writer  \n",
       "451                    producer,director,writer  \n",
       "452                    director,writer,producer  \n",
       "453                       director,writer,actor  \n",
       "\n",
       "[454 rows x 18 columns]"
      ]
     },
     "execution_count": 21,
     "metadata": {},
     "output_type": "execute_result"
    }
   ],
   "source": [
    "# Here is how I spotted the 454 NULL genre records\n",
    "\n",
    "q = \"\"\"\n",
    "SELECT *\n",
    "FROM movie_basics AS mb\n",
    "JOIN directors AS d\n",
    "USING(movie_id)\n",
    "JOIN movie_akas AS akas\n",
    "USING(movie_id)\n",
    "JOIN persons AS p\n",
    "USING(person_id)\n",
    "WHERE genres IS NULL\n",
    "AND region == \"US\"\n",
    "GROUP BY movie_id\n",
    ";\"\"\"\n",
    "\n",
    "pd.read_sql(q, conn)"
   ]
  },
  {
   "cell_type": "code",
   "execution_count": 22,
   "metadata": {},
   "outputs": [
    {
     "data": {
      "text/html": [
       "<div>\n",
       "<style scoped>\n",
       "    .dataframe tbody tr th:only-of-type {\n",
       "        vertical-align: middle;\n",
       "    }\n",
       "\n",
       "    .dataframe tbody tr th {\n",
       "        vertical-align: top;\n",
       "    }\n",
       "\n",
       "    .dataframe thead th {\n",
       "        text-align: right;\n",
       "    }\n",
       "</style>\n",
       "<table border=\"1\" class=\"dataframe\">\n",
       "  <thead>\n",
       "    <tr style=\"text-align: right;\">\n",
       "      <th></th>\n",
       "      <th>movie_id</th>\n",
       "      <th>title</th>\n",
       "      <th>genres</th>\n",
       "      <th>year</th>\n",
       "      <th>director</th>\n",
       "    </tr>\n",
       "  </thead>\n",
       "  <tbody>\n",
       "    <tr>\n",
       "      <th>0</th>\n",
       "      <td>tt0069049</td>\n",
       "      <td>The Other Side of the Wind</td>\n",
       "      <td>Drama</td>\n",
       "      <td>2018</td>\n",
       "      <td>Orson Welles</td>\n",
       "    </tr>\n",
       "    <tr>\n",
       "      <th>1</th>\n",
       "      <td>tt0112502</td>\n",
       "      <td>Bigfoot</td>\n",
       "      <td>Horror,Thriller</td>\n",
       "      <td>2017</td>\n",
       "      <td>Mc Jones</td>\n",
       "    </tr>\n",
       "    <tr>\n",
       "      <th>2</th>\n",
       "      <td>tt0159369</td>\n",
       "      <td>Cooper and Hemingway: The True Gen</td>\n",
       "      <td>Documentary</td>\n",
       "      <td>2013</td>\n",
       "      <td>John Mulholland</td>\n",
       "    </tr>\n",
       "    <tr>\n",
       "      <th>3</th>\n",
       "      <td>tt0192528</td>\n",
       "      <td>Reverse Heaven</td>\n",
       "      <td>Drama</td>\n",
       "      <td>2018</td>\n",
       "      <td>Stuart Paul</td>\n",
       "    </tr>\n",
       "    <tr>\n",
       "      <th>4</th>\n",
       "      <td>tt0230212</td>\n",
       "      <td>The Final Journey</td>\n",
       "      <td>Drama</td>\n",
       "      <td>2010</td>\n",
       "      <td>R.J. Adams</td>\n",
       "    </tr>\n",
       "    <tr>\n",
       "      <th>...</th>\n",
       "      <td>...</td>\n",
       "      <td>...</td>\n",
       "      <td>...</td>\n",
       "      <td>...</td>\n",
       "      <td>...</td>\n",
       "    </tr>\n",
       "    <tr>\n",
       "      <th>45782</th>\n",
       "      <td>tt9837530</td>\n",
       "      <td>Monkey King Reloaded</td>\n",
       "      <td>Adventure</td>\n",
       "      <td>2017</td>\n",
       "      <td>Paul Wang</td>\n",
       "    </tr>\n",
       "    <tr>\n",
       "      <th>45783</th>\n",
       "      <td>tt9845398</td>\n",
       "      <td>Fin de siglo</td>\n",
       "      <td>Drama</td>\n",
       "      <td>2019</td>\n",
       "      <td>Lucio Castro</td>\n",
       "    </tr>\n",
       "    <tr>\n",
       "      <th>45784</th>\n",
       "      <td>tt9875852</td>\n",
       "      <td>Domovoy</td>\n",
       "      <td>Comedy,Family,Fantasy</td>\n",
       "      <td>2019</td>\n",
       "      <td>Evgeniy Bedarev</td>\n",
       "    </tr>\n",
       "    <tr>\n",
       "      <th>45785</th>\n",
       "      <td>tt9882084</td>\n",
       "      <td>Chasing Happiness</td>\n",
       "      <td>Documentary</td>\n",
       "      <td>2019</td>\n",
       "      <td>John Taylor</td>\n",
       "    </tr>\n",
       "    <tr>\n",
       "      <th>45786</th>\n",
       "      <td>tt9915436</td>\n",
       "      <td>Vida em Movimento</td>\n",
       "      <td>Documentary</td>\n",
       "      <td>2019</td>\n",
       "      <td>Eduardo Rajabally</td>\n",
       "    </tr>\n",
       "  </tbody>\n",
       "</table>\n",
       "<p>45787 rows × 5 columns</p>\n",
       "</div>"
      ],
      "text/plain": [
       "        movie_id                               title                 genres  \\\n",
       "0      tt0069049          The Other Side of the Wind                  Drama   \n",
       "1      tt0112502                             Bigfoot        Horror,Thriller   \n",
       "2      tt0159369  Cooper and Hemingway: The True Gen            Documentary   \n",
       "3      tt0192528                      Reverse Heaven                  Drama   \n",
       "4      tt0230212                   The Final Journey                  Drama   \n",
       "...          ...                                 ...                    ...   \n",
       "45782  tt9837530                Monkey King Reloaded              Adventure   \n",
       "45783  tt9845398                        Fin de siglo                  Drama   \n",
       "45784  tt9875852                             Domovoy  Comedy,Family,Fantasy   \n",
       "45785  tt9882084                   Chasing Happiness            Documentary   \n",
       "45786  tt9915436                   Vida em Movimento            Documentary   \n",
       "\n",
       "       year           director  \n",
       "0      2018       Orson Welles  \n",
       "1      2017           Mc Jones  \n",
       "2      2013    John Mulholland  \n",
       "3      2018        Stuart Paul  \n",
       "4      2010         R.J. Adams  \n",
       "...     ...                ...  \n",
       "45782  2017          Paul Wang  \n",
       "45783  2019       Lucio Castro  \n",
       "45784  2019    Evgeniy Bedarev  \n",
       "45785  2019        John Taylor  \n",
       "45786  2019  Eduardo Rajabally  \n",
       "\n",
       "[45787 rows x 5 columns]"
      ]
     },
     "execution_count": 22,
     "metadata": {},
     "output_type": "execute_result"
    }
   ],
   "source": [
    "# Creating a dataframe with the IMDB data\n",
    "\n",
    "q = \"\"\"\n",
    "SELECT movie_id, mb.original_title AS title, mb.genres, mb.start_year AS year, p.primary_name AS director\n",
    "FROM movie_basics AS mb\n",
    "JOIN directors AS d\n",
    "USING(movie_id)\n",
    "JOIN movie_akas AS akas\n",
    "USING(movie_id)\n",
    "JOIN persons AS p\n",
    "USING(person_id)\n",
    "WHERE genres IS NOT NULL\n",
    "AND region == \"US\"\n",
    "GROUP BY movie_id\n",
    ";\"\"\"\n",
    "\n",
    "imdb_data = pd.read_sql(q, conn)\n",
    "imdb_data"
   ]
  },
  {
   "cell_type": "code",
   "execution_count": 23,
   "metadata": {},
   "outputs": [
    {
     "name": "stdout",
     "output_type": "stream",
     "text": [
      "<class 'pandas.core.frame.DataFrame'>\n",
      "RangeIndex: 45787 entries, 0 to 45786\n",
      "Data columns (total 5 columns):\n",
      " #   Column    Non-Null Count  Dtype \n",
      "---  ------    --------------  ----- \n",
      " 0   movie_id  45787 non-null  object\n",
      " 1   title     45787 non-null  object\n",
      " 2   genres    45787 non-null  object\n",
      " 3   year      45787 non-null  int64 \n",
      " 4   director  45787 non-null  object\n",
      "dtypes: int64(1), object(4)\n",
      "memory usage: 1.7+ MB\n"
     ]
    }
   ],
   "source": [
    "imdb_data.info()"
   ]
  },
  {
   "cell_type": "markdown",
   "metadata": {},
   "source": [
    "Next we check for placeholder values by looking at the counts of director, year, genre and title."
   ]
  },
  {
   "cell_type": "code",
   "execution_count": 24,
   "metadata": {},
   "outputs": [
    {
     "data": {
      "text/plain": [
       "Gone                 10\n",
       "Home                  8\n",
       "The Return            7\n",
       "Broken                7\n",
       "Lucky                 7\n",
       "                     ..\n",
       "Doctored              1\n",
       "Crown Heights         1\n",
       "In Real Life          1\n",
       "Busted City           1\n",
       "All You Can Dream     1\n",
       "Name: title, Length: 43957, dtype: int64"
      ]
     },
     "execution_count": 24,
     "metadata": {},
     "output_type": "execute_result"
    }
   ],
   "source": [
    "imdb_data['title'].value_counts().sort_values(ascending=False)"
   ]
  },
  {
   "cell_type": "code",
   "execution_count": 25,
   "metadata": {},
   "outputs": [
    {
     "data": {
      "text/plain": [
       "Documentary                   7679\n",
       "Drama                         5185\n",
       "Comedy                        2695\n",
       "Horror                        1976\n",
       "Comedy,Drama                  1244\n",
       "                              ... \n",
       "Adventure,History,Western        1\n",
       "Documentary,Family,Sci-Fi        1\n",
       "Short,Thriller                   1\n",
       "Mystery,News,Thriller            1\n",
       "Documentary,Sport,Thriller       1\n",
       "Name: genres, Length: 844, dtype: int64"
      ]
     },
     "execution_count": 25,
     "metadata": {},
     "output_type": "execute_result"
    }
   ],
   "source": [
    "imdb_data['genres'].value_counts().sort_values(ascending=False)"
   ]
  },
  {
   "cell_type": "code",
   "execution_count": 26,
   "metadata": {},
   "outputs": [
    {
     "data": {
      "text/plain": [
       "2016    5634\n",
       "2014    5464\n",
       "2017    5272\n",
       "2013    5266\n",
       "2015    5223\n",
       "2012    4946\n",
       "2011    4654\n",
       "2010    4363\n",
       "2018    3459\n",
       "2019    1342\n",
       "2020     130\n",
       "2021      26\n",
       "2022       4\n",
       "2023       1\n",
       "2027       1\n",
       "2025       1\n",
       "2024       1\n",
       "Name: year, dtype: int64"
      ]
     },
     "execution_count": 26,
     "metadata": {},
     "output_type": "execute_result"
    }
   ],
   "source": [
    "imdb_data['year'].value_counts().sort_values(ascending=False)"
   ]
  },
  {
   "cell_type": "code",
   "execution_count": 27,
   "metadata": {},
   "outputs": [
    {
     "data": {
      "text/plain": [
       "Larry Rosen             36\n",
       "Charlie Minn            25\n",
       "Philip Gardiner         24\n",
       "Michael Fredianelli     23\n",
       "James Franco            21\n",
       "                        ..\n",
       "Rick Irvin               1\n",
       "Marcus E. Munroe         1\n",
       "Shane Cole               1\n",
       "Alethea Root             1\n",
       "John Henry Summerour     1\n",
       "Name: director, Length: 32979, dtype: int64"
      ]
     },
     "execution_count": 27,
     "metadata": {},
     "output_type": "execute_result"
    }
   ],
   "source": [
    "imdb_data['director'].value_counts().sort_values(ascending=False)"
   ]
  },
  {
   "cell_type": "code",
   "execution_count": 28,
   "metadata": {},
   "outputs": [],
   "source": [
    "# Here we make the title column all lowercase and make a few replacements to help merging later on.\n",
    "\n",
    "imdb_data['title'] = imdb_data['title'].str.lower()\n",
    "imdb_data['title'] = imdb_data['title'].str.replace(r'\\.', '')"
   ]
  },
  {
   "cell_type": "markdown",
   "metadata": {},
   "source": [
    "### Merging Data Sets\n",
    "In order to begin extracting useful insights about the movie industry, we need to merge movie_budgets with the parts of the IMDB data.\n",
    "\n",
    "The movie_budgets data has KPIs we're interested in - like worldwide_gross and the movie's production_budget.\n",
    "\n",
    "The IMDB data has descriptive data about movies that can help us spot trends - including genres, directors and more.\n",
    "\n",
    "These two datasets don't have a common key that would allow us to join them. So our first task will be to create one.\n",
    "\n",
    "Movie titles can repeat. However, it's rare for a movie title to repeat within the same year. So we will use a combination of title + year of release as a key."
   ]
  },
  {
   "cell_type": "code",
   "execution_count": 29,
   "metadata": {},
   "outputs": [
    {
     "data": {
      "text/html": [
       "<div>\n",
       "<style scoped>\n",
       "    .dataframe tbody tr th:only-of-type {\n",
       "        vertical-align: middle;\n",
       "    }\n",
       "\n",
       "    .dataframe tbody tr th {\n",
       "        vertical-align: top;\n",
       "    }\n",
       "\n",
       "    .dataframe thead th {\n",
       "        text-align: right;\n",
       "    }\n",
       "</style>\n",
       "<table border=\"1\" class=\"dataframe\">\n",
       "  <thead>\n",
       "    <tr style=\"text-align: right;\">\n",
       "      <th></th>\n",
       "      <th>id</th>\n",
       "      <th>release_date</th>\n",
       "      <th>movie</th>\n",
       "      <th>production_budget</th>\n",
       "      <th>domestic_gross</th>\n",
       "      <th>worldwide_gross</th>\n",
       "      <th>year</th>\n",
       "      <th>title/year</th>\n",
       "    </tr>\n",
       "  </thead>\n",
       "  <tbody>\n",
       "    <tr>\n",
       "      <th>0</th>\n",
       "      <td>1</td>\n",
       "      <td>Dec 18, 2009</td>\n",
       "      <td>avatar</td>\n",
       "      <td>425000000.0</td>\n",
       "      <td>760507625.0</td>\n",
       "      <td>2.776345e+09</td>\n",
       "      <td>2009</td>\n",
       "      <td>avatar/2009</td>\n",
       "    </tr>\n",
       "    <tr>\n",
       "      <th>1</th>\n",
       "      <td>2</td>\n",
       "      <td>May 20, 2011</td>\n",
       "      <td>pirates of the caribbean: on stranger tides</td>\n",
       "      <td>410600000.0</td>\n",
       "      <td>241063875.0</td>\n",
       "      <td>1.045664e+09</td>\n",
       "      <td>2011</td>\n",
       "      <td>pirates of the caribbean: on stranger tides/2011</td>\n",
       "    </tr>\n",
       "    <tr>\n",
       "      <th>2</th>\n",
       "      <td>3</td>\n",
       "      <td>Jun 7, 2019</td>\n",
       "      <td>dark phoenix</td>\n",
       "      <td>350000000.0</td>\n",
       "      <td>42762350.0</td>\n",
       "      <td>1.497624e+08</td>\n",
       "      <td>2019</td>\n",
       "      <td>dark phoenix/2019</td>\n",
       "    </tr>\n",
       "    <tr>\n",
       "      <th>3</th>\n",
       "      <td>4</td>\n",
       "      <td>May 1, 2015</td>\n",
       "      <td>avengers: age of ultron</td>\n",
       "      <td>330600000.0</td>\n",
       "      <td>459005868.0</td>\n",
       "      <td>1.403014e+09</td>\n",
       "      <td>2015</td>\n",
       "      <td>avengers: age of ultron/2015</td>\n",
       "    </tr>\n",
       "    <tr>\n",
       "      <th>4</th>\n",
       "      <td>5</td>\n",
       "      <td>Dec 15, 2017</td>\n",
       "      <td>star wars episode viii: the last jedi</td>\n",
       "      <td>317000000.0</td>\n",
       "      <td>620181382.0</td>\n",
       "      <td>1.316722e+09</td>\n",
       "      <td>2017</td>\n",
       "      <td>star wars episode viii: the last jedi/2017</td>\n",
       "    </tr>\n",
       "  </tbody>\n",
       "</table>\n",
       "</div>"
      ],
      "text/plain": [
       "   id  release_date                                        movie  \\\n",
       "0   1  Dec 18, 2009                                       avatar   \n",
       "1   2  May 20, 2011  pirates of the caribbean: on stranger tides   \n",
       "2   3   Jun 7, 2019                                 dark phoenix   \n",
       "3   4   May 1, 2015                      avengers: age of ultron   \n",
       "4   5  Dec 15, 2017        star wars episode viii: the last jedi   \n",
       "\n",
       "   production_budget  domestic_gross  worldwide_gross  year  \\\n",
       "0        425000000.0     760507625.0     2.776345e+09  2009   \n",
       "1        410600000.0     241063875.0     1.045664e+09  2011   \n",
       "2        350000000.0      42762350.0     1.497624e+08  2019   \n",
       "3        330600000.0     459005868.0     1.403014e+09  2015   \n",
       "4        317000000.0     620181382.0     1.316722e+09  2017   \n",
       "\n",
       "                                         title/year  \n",
       "0                                       avatar/2009  \n",
       "1  pirates of the caribbean: on stranger tides/2011  \n",
       "2                                 dark phoenix/2019  \n",
       "3                      avengers: age of ultron/2015  \n",
       "4        star wars episode viii: the last jedi/2017  "
      ]
     },
     "execution_count": 29,
     "metadata": {},
     "output_type": "execute_result"
    }
   ],
   "source": [
    "# First, movie_budgets has its release year nested in the 'release_date' column.\n",
    "# Our first task is to extract it and add it to a new 'title/year' column.\n",
    "\n",
    "movie_budgets['year'] = movie_budgets['release_date'].str[-4:]\n",
    "movie_budgets['title/year'] = movie_budgets['movie'] + '/' + movie_budgets['year']\n",
    "movie_budgets.head()"
   ]
  },
  {
   "cell_type": "markdown",
   "metadata": {},
   "source": [
    "Next, we want to create that same key in our IMDB dataset."
   ]
  },
  {
   "cell_type": "code",
   "execution_count": 30,
   "metadata": {},
   "outputs": [],
   "source": [
    "imdb_data['title/year'] = imdb_data['title'] + '/' + imdb_data['year'].astype(str)"
   ]
  },
  {
   "cell_type": "code",
   "execution_count": 31,
   "metadata": {},
   "outputs": [],
   "source": [
    "combined_data = pd.merge(movie_budgets,imdb_data, how=\"left\", on='title/year')"
   ]
  },
  {
   "cell_type": "markdown",
   "metadata": {},
   "source": [
    "#### Investigating & cleaning the merged data\n",
    "\n",
    "Now that we combined the two data sets, we want to take a look through the new dataframe and clean it up and make sure everything is behaving how we'd like it to."
   ]
  },
  {
   "cell_type": "code",
   "execution_count": 32,
   "metadata": {
    "scrolled": true
   },
   "outputs": [
    {
     "name": "stdout",
     "output_type": "stream",
     "text": [
      "<class 'pandas.core.frame.DataFrame'>\n",
      "Int64Index: 4743 entries, 0 to 4742\n",
      "Data columns (total 13 columns):\n",
      " #   Column             Non-Null Count  Dtype  \n",
      "---  ------             --------------  -----  \n",
      " 0   id                 4743 non-null   int64  \n",
      " 1   release_date       4743 non-null   object \n",
      " 2   movie              4743 non-null   object \n",
      " 3   production_budget  4743 non-null   float64\n",
      " 4   domestic_gross     4743 non-null   float64\n",
      " 5   worldwide_gross    4743 non-null   float64\n",
      " 6   year_x             4743 non-null   object \n",
      " 7   title/year         4743 non-null   object \n",
      " 8   movie_id           1179 non-null   object \n",
      " 9   title              1179 non-null   object \n",
      " 10  genres             1179 non-null   object \n",
      " 11  year_y             1179 non-null   float64\n",
      " 12  director           1179 non-null   object \n",
      "dtypes: float64(4), int64(1), object(8)\n",
      "memory usage: 518.8+ KB\n"
     ]
    }
   ],
   "source": [
    "combined_data.info()"
   ]
  },
  {
   "cell_type": "markdown",
   "metadata": {},
   "source": [
    "The movie_budgets dataset had 4,743 entries. After merging it with the IMDB dataset, only 1,179 entries (1,167 unique ones as we'll discover later on) have non-null values. In other words, we were only able to match 1,179 titles between the two datasets. Let's take a look at a sample of the unmatched records to see why that is."
   ]
  },
  {
   "cell_type": "code",
   "execution_count": 33,
   "metadata": {},
   "outputs": [
    {
     "data": {
      "text/html": [
       "<div>\n",
       "<style scoped>\n",
       "    .dataframe tbody tr th:only-of-type {\n",
       "        vertical-align: middle;\n",
       "    }\n",
       "\n",
       "    .dataframe tbody tr th {\n",
       "        vertical-align: top;\n",
       "    }\n",
       "\n",
       "    .dataframe thead th {\n",
       "        text-align: right;\n",
       "    }\n",
       "</style>\n",
       "<table border=\"1\" class=\"dataframe\">\n",
       "  <thead>\n",
       "    <tr style=\"text-align: right;\">\n",
       "      <th></th>\n",
       "      <th>id</th>\n",
       "      <th>release_date</th>\n",
       "      <th>movie</th>\n",
       "      <th>production_budget</th>\n",
       "      <th>domestic_gross</th>\n",
       "      <th>worldwide_gross</th>\n",
       "      <th>year_x</th>\n",
       "      <th>title/year</th>\n",
       "      <th>movie_id</th>\n",
       "      <th>title</th>\n",
       "      <th>genres</th>\n",
       "      <th>year_y</th>\n",
       "      <th>director</th>\n",
       "    </tr>\n",
       "  </thead>\n",
       "  <tbody>\n",
       "    <tr>\n",
       "      <th>0</th>\n",
       "      <td>1</td>\n",
       "      <td>Dec 18, 2009</td>\n",
       "      <td>avatar</td>\n",
       "      <td>425000000.0</td>\n",
       "      <td>760507625.0</td>\n",
       "      <td>2.776345e+09</td>\n",
       "      <td>2009</td>\n",
       "      <td>avatar/2009</td>\n",
       "      <td>NaN</td>\n",
       "      <td>NaN</td>\n",
       "      <td>NaN</td>\n",
       "      <td>NaN</td>\n",
       "      <td>NaN</td>\n",
       "    </tr>\n",
       "    <tr>\n",
       "      <th>4</th>\n",
       "      <td>5</td>\n",
       "      <td>Dec 15, 2017</td>\n",
       "      <td>star wars episode viii: the last jedi</td>\n",
       "      <td>317000000.0</td>\n",
       "      <td>620181382.0</td>\n",
       "      <td>1.316722e+09</td>\n",
       "      <td>2017</td>\n",
       "      <td>star wars episode viii: the last jedi/2017</td>\n",
       "      <td>NaN</td>\n",
       "      <td>NaN</td>\n",
       "      <td>NaN</td>\n",
       "      <td>NaN</td>\n",
       "      <td>NaN</td>\n",
       "    </tr>\n",
       "    <tr>\n",
       "      <th>5</th>\n",
       "      <td>6</td>\n",
       "      <td>Dec 18, 2015</td>\n",
       "      <td>star wars episode vii: the force awakens</td>\n",
       "      <td>306000000.0</td>\n",
       "      <td>936662225.0</td>\n",
       "      <td>2.053311e+09</td>\n",
       "      <td>2015</td>\n",
       "      <td>star wars episode vii: the force awakens/2015</td>\n",
       "      <td>NaN</td>\n",
       "      <td>NaN</td>\n",
       "      <td>NaN</td>\n",
       "      <td>NaN</td>\n",
       "      <td>NaN</td>\n",
       "    </tr>\n",
       "    <tr>\n",
       "      <th>7</th>\n",
       "      <td>8</td>\n",
       "      <td>May 24, 2007</td>\n",
       "      <td>pirates of the caribbean: at worldâs end</td>\n",
       "      <td>300000000.0</td>\n",
       "      <td>309420425.0</td>\n",
       "      <td>9.634204e+08</td>\n",
       "      <td>2007</td>\n",
       "      <td>pirates of the caribbean: at worldâs end/2007</td>\n",
       "      <td>NaN</td>\n",
       "      <td>NaN</td>\n",
       "      <td>NaN</td>\n",
       "      <td>NaN</td>\n",
       "      <td>NaN</td>\n",
       "    </tr>\n",
       "    <tr>\n",
       "      <th>15</th>\n",
       "      <td>16</td>\n",
       "      <td>May 4, 2007</td>\n",
       "      <td>spider-man 3</td>\n",
       "      <td>258000000.0</td>\n",
       "      <td>336530303.0</td>\n",
       "      <td>8.948602e+08</td>\n",
       "      <td>2007</td>\n",
       "      <td>spider-man 3/2007</td>\n",
       "      <td>NaN</td>\n",
       "      <td>NaN</td>\n",
       "      <td>NaN</td>\n",
       "      <td>NaN</td>\n",
       "      <td>NaN</td>\n",
       "    </tr>\n",
       "    <tr>\n",
       "      <th>...</th>\n",
       "      <td>...</td>\n",
       "      <td>...</td>\n",
       "      <td>...</td>\n",
       "      <td>...</td>\n",
       "      <td>...</td>\n",
       "      <td>...</td>\n",
       "      <td>...</td>\n",
       "      <td>...</td>\n",
       "      <td>...</td>\n",
       "      <td>...</td>\n",
       "      <td>...</td>\n",
       "      <td>...</td>\n",
       "      <td>...</td>\n",
       "    </tr>\n",
       "    <tr>\n",
       "      <th>4738</th>\n",
       "      <td>78</td>\n",
       "      <td>Nov 21, 1946</td>\n",
       "      <td>the best years of our lives</td>\n",
       "      <td>2100000.0</td>\n",
       "      <td>23600000.0</td>\n",
       "      <td>2.360000e+07</td>\n",
       "      <td>1946</td>\n",
       "      <td>the best years of our lives/1946</td>\n",
       "      <td>NaN</td>\n",
       "      <td>NaN</td>\n",
       "      <td>NaN</td>\n",
       "      <td>NaN</td>\n",
       "      <td>NaN</td>\n",
       "    </tr>\n",
       "    <tr>\n",
       "      <th>4739</th>\n",
       "      <td>79</td>\n",
       "      <td>Jul 13, 2001</td>\n",
       "      <td>bully</td>\n",
       "      <td>2100000.0</td>\n",
       "      <td>881824.0</td>\n",
       "      <td>1.381824e+06</td>\n",
       "      <td>2001</td>\n",
       "      <td>bully/2001</td>\n",
       "      <td>NaN</td>\n",
       "      <td>NaN</td>\n",
       "      <td>NaN</td>\n",
       "      <td>NaN</td>\n",
       "      <td>NaN</td>\n",
       "    </tr>\n",
       "    <tr>\n",
       "      <th>4740</th>\n",
       "      <td>80</td>\n",
       "      <td>May 29, 2002</td>\n",
       "      <td>elling</td>\n",
       "      <td>2100000.0</td>\n",
       "      <td>313436.0</td>\n",
       "      <td>3.134360e+05</td>\n",
       "      <td>2002</td>\n",
       "      <td>elling/2002</td>\n",
       "      <td>NaN</td>\n",
       "      <td>NaN</td>\n",
       "      <td>NaN</td>\n",
       "      <td>NaN</td>\n",
       "      <td>NaN</td>\n",
       "    </tr>\n",
       "    <tr>\n",
       "      <th>4741</th>\n",
       "      <td>81</td>\n",
       "      <td>Oct 16, 2016</td>\n",
       "      <td>mi america</td>\n",
       "      <td>2100000.0</td>\n",
       "      <td>3330.0</td>\n",
       "      <td>3.330000e+03</td>\n",
       "      <td>2016</td>\n",
       "      <td>mi america/2016</td>\n",
       "      <td>NaN</td>\n",
       "      <td>NaN</td>\n",
       "      <td>NaN</td>\n",
       "      <td>NaN</td>\n",
       "      <td>NaN</td>\n",
       "    </tr>\n",
       "    <tr>\n",
       "      <th>4742</th>\n",
       "      <td>82</td>\n",
       "      <td>Jul 14, 2009</td>\n",
       "      <td>[rec]</td>\n",
       "      <td>2100000.0</td>\n",
       "      <td>0.0</td>\n",
       "      <td>2.326682e+07</td>\n",
       "      <td>2009</td>\n",
       "      <td>[rec]/2009</td>\n",
       "      <td>NaN</td>\n",
       "      <td>NaN</td>\n",
       "      <td>NaN</td>\n",
       "      <td>NaN</td>\n",
       "      <td>NaN</td>\n",
       "    </tr>\n",
       "  </tbody>\n",
       "</table>\n",
       "<p>3564 rows × 13 columns</p>\n",
       "</div>"
      ],
      "text/plain": [
       "      id  release_date                                       movie  \\\n",
       "0      1  Dec 18, 2009                                      avatar   \n",
       "4      5  Dec 15, 2017       star wars episode viii: the last jedi   \n",
       "5      6  Dec 18, 2015    star wars episode vii: the force awakens   \n",
       "7      8  May 24, 2007  pirates of the caribbean: at worldâs end   \n",
       "15    16   May 4, 2007                                spider-man 3   \n",
       "...   ..           ...                                         ...   \n",
       "4738  78  Nov 21, 1946                 the best years of our lives   \n",
       "4739  79  Jul 13, 2001                                       bully   \n",
       "4740  80  May 29, 2002                                      elling   \n",
       "4741  81  Oct 16, 2016                                  mi america   \n",
       "4742  82  Jul 14, 2009                                       [rec]   \n",
       "\n",
       "      production_budget  domestic_gross  worldwide_gross year_x  \\\n",
       "0           425000000.0     760507625.0     2.776345e+09   2009   \n",
       "4           317000000.0     620181382.0     1.316722e+09   2017   \n",
       "5           306000000.0     936662225.0     2.053311e+09   2015   \n",
       "7           300000000.0     309420425.0     9.634204e+08   2007   \n",
       "15          258000000.0     336530303.0     8.948602e+08   2007   \n",
       "...                 ...             ...              ...    ...   \n",
       "4738          2100000.0      23600000.0     2.360000e+07   1946   \n",
       "4739          2100000.0        881824.0     1.381824e+06   2001   \n",
       "4740          2100000.0        313436.0     3.134360e+05   2002   \n",
       "4741          2100000.0          3330.0     3.330000e+03   2016   \n",
       "4742          2100000.0             0.0     2.326682e+07   2009   \n",
       "\n",
       "                                           title/year movie_id title genres  \\\n",
       "0                                         avatar/2009      NaN   NaN    NaN   \n",
       "4          star wars episode viii: the last jedi/2017      NaN   NaN    NaN   \n",
       "5       star wars episode vii: the force awakens/2015      NaN   NaN    NaN   \n",
       "7     pirates of the caribbean: at worldâs end/2007      NaN   NaN    NaN   \n",
       "15                                  spider-man 3/2007      NaN   NaN    NaN   \n",
       "...                                               ...      ...   ...    ...   \n",
       "4738                 the best years of our lives/1946      NaN   NaN    NaN   \n",
       "4739                                       bully/2001      NaN   NaN    NaN   \n",
       "4740                                      elling/2002      NaN   NaN    NaN   \n",
       "4741                                  mi america/2016      NaN   NaN    NaN   \n",
       "4742                                       [rec]/2009      NaN   NaN    NaN   \n",
       "\n",
       "      year_y director  \n",
       "0        NaN      NaN  \n",
       "4        NaN      NaN  \n",
       "5        NaN      NaN  \n",
       "7        NaN      NaN  \n",
       "15       NaN      NaN  \n",
       "...      ...      ...  \n",
       "4738     NaN      NaN  \n",
       "4739     NaN      NaN  \n",
       "4740     NaN      NaN  \n",
       "4741     NaN      NaN  \n",
       "4742     NaN      NaN  \n",
       "\n",
       "[3564 rows x 13 columns]"
      ]
     },
     "execution_count": 33,
     "metadata": {},
     "output_type": "execute_result"
    }
   ],
   "source": [
    "combined_data[combined_data['title'].isnull()]"
   ]
  },
  {
   "cell_type": "markdown",
   "metadata": {},
   "source": [
    "It looks like many of the above films are from before 2010. This makes sense, since we know the IMDB data only goes from 2010 onwards.\n",
    "\n",
    "This is also potentially not an issue, since for our analysis we only wanted to look at the last 10 years. Let's make sure there aren't too many missing values after 2010."
   ]
  },
  {
   "cell_type": "code",
   "execution_count": 34,
   "metadata": {},
   "outputs": [
    {
     "data": {
      "text/html": [
       "<div>\n",
       "<style scoped>\n",
       "    .dataframe tbody tr th:only-of-type {\n",
       "        vertical-align: middle;\n",
       "    }\n",
       "\n",
       "    .dataframe tbody tr th {\n",
       "        vertical-align: top;\n",
       "    }\n",
       "\n",
       "    .dataframe thead th {\n",
       "        text-align: right;\n",
       "    }\n",
       "</style>\n",
       "<table border=\"1\" class=\"dataframe\">\n",
       "  <thead>\n",
       "    <tr style=\"text-align: right;\">\n",
       "      <th></th>\n",
       "      <th>id</th>\n",
       "      <th>release_date</th>\n",
       "      <th>movie</th>\n",
       "      <th>production_budget</th>\n",
       "      <th>domestic_gross</th>\n",
       "      <th>worldwide_gross</th>\n",
       "      <th>year_x</th>\n",
       "      <th>title/year</th>\n",
       "      <th>movie_id</th>\n",
       "      <th>title</th>\n",
       "      <th>genres</th>\n",
       "      <th>year_y</th>\n",
       "      <th>director</th>\n",
       "    </tr>\n",
       "  </thead>\n",
       "  <tbody>\n",
       "    <tr>\n",
       "      <th>4</th>\n",
       "      <td>5</td>\n",
       "      <td>Dec 15, 2017</td>\n",
       "      <td>star wars episode viii: the last jedi</td>\n",
       "      <td>317000000.0</td>\n",
       "      <td>620181382.0</td>\n",
       "      <td>1.316722e+09</td>\n",
       "      <td>2017</td>\n",
       "      <td>star wars episode viii: the last jedi/2017</td>\n",
       "      <td>NaN</td>\n",
       "      <td>NaN</td>\n",
       "      <td>NaN</td>\n",
       "      <td>NaN</td>\n",
       "      <td>NaN</td>\n",
       "    </tr>\n",
       "    <tr>\n",
       "      <th>5</th>\n",
       "      <td>6</td>\n",
       "      <td>Dec 18, 2015</td>\n",
       "      <td>star wars episode vii: the force awakens</td>\n",
       "      <td>306000000.0</td>\n",
       "      <td>936662225.0</td>\n",
       "      <td>2.053311e+09</td>\n",
       "      <td>2015</td>\n",
       "      <td>star wars episode vii: the force awakens/2015</td>\n",
       "      <td>NaN</td>\n",
       "      <td>NaN</td>\n",
       "      <td>NaN</td>\n",
       "      <td>NaN</td>\n",
       "      <td>NaN</td>\n",
       "    </tr>\n",
       "    <tr>\n",
       "      <th>44</th>\n",
       "      <td>45</td>\n",
       "      <td>Dec 16, 2016</td>\n",
       "      <td>rogue one: a star wars story</td>\n",
       "      <td>200000000.0</td>\n",
       "      <td>532177324.0</td>\n",
       "      <td>1.049103e+09</td>\n",
       "      <td>2016</td>\n",
       "      <td>rogue one: a star wars story/2016</td>\n",
       "      <td>NaN</td>\n",
       "      <td>NaN</td>\n",
       "      <td>NaN</td>\n",
       "      <td>NaN</td>\n",
       "      <td>NaN</td>\n",
       "    </tr>\n",
       "    <tr>\n",
       "      <th>47</th>\n",
       "      <td>48</td>\n",
       "      <td>May 3, 2013</td>\n",
       "      <td>iron man 3</td>\n",
       "      <td>200000000.0</td>\n",
       "      <td>408992272.0</td>\n",
       "      <td>1.215392e+09</td>\n",
       "      <td>2013</td>\n",
       "      <td>iron man 3/2013</td>\n",
       "      <td>NaN</td>\n",
       "      <td>NaN</td>\n",
       "      <td>NaN</td>\n",
       "      <td>NaN</td>\n",
       "      <td>NaN</td>\n",
       "    </tr>\n",
       "    <tr>\n",
       "      <th>58</th>\n",
       "      <td>58</td>\n",
       "      <td>Dec 17, 2010</td>\n",
       "      <td>tron: legacy</td>\n",
       "      <td>200000000.0</td>\n",
       "      <td>172062763.0</td>\n",
       "      <td>4.000628e+08</td>\n",
       "      <td>2010</td>\n",
       "      <td>tron: legacy/2010</td>\n",
       "      <td>NaN</td>\n",
       "      <td>NaN</td>\n",
       "      <td>NaN</td>\n",
       "      <td>NaN</td>\n",
       "      <td>NaN</td>\n",
       "    </tr>\n",
       "    <tr>\n",
       "      <th>...</th>\n",
       "      <td>...</td>\n",
       "      <td>...</td>\n",
       "      <td>...</td>\n",
       "      <td>...</td>\n",
       "      <td>...</td>\n",
       "      <td>...</td>\n",
       "      <td>...</td>\n",
       "      <td>...</td>\n",
       "      <td>...</td>\n",
       "      <td>...</td>\n",
       "      <td>...</td>\n",
       "      <td>...</td>\n",
       "      <td>...</td>\n",
       "    </tr>\n",
       "    <tr>\n",
       "      <th>4706</th>\n",
       "      <td>31</td>\n",
       "      <td>Mar 1, 2013</td>\n",
       "      <td>the lost medallion: the adventures of billy stone</td>\n",
       "      <td>2500000.0</td>\n",
       "      <td>549632.0</td>\n",
       "      <td>5.496320e+05</td>\n",
       "      <td>2013</td>\n",
       "      <td>the lost medallion: the adventures of billy st...</td>\n",
       "      <td>NaN</td>\n",
       "      <td>NaN</td>\n",
       "      <td>NaN</td>\n",
       "      <td>NaN</td>\n",
       "      <td>NaN</td>\n",
       "    </tr>\n",
       "    <tr>\n",
       "      <th>4709</th>\n",
       "      <td>34</td>\n",
       "      <td>Apr 1, 2011</td>\n",
       "      <td>super</td>\n",
       "      <td>2500000.0</td>\n",
       "      <td>327716.0</td>\n",
       "      <td>5.939330e+05</td>\n",
       "      <td>2011</td>\n",
       "      <td>super/2011</td>\n",
       "      <td>NaN</td>\n",
       "      <td>NaN</td>\n",
       "      <td>NaN</td>\n",
       "      <td>NaN</td>\n",
       "      <td>NaN</td>\n",
       "    </tr>\n",
       "    <tr>\n",
       "      <th>4711</th>\n",
       "      <td>36</td>\n",
       "      <td>Apr 9, 2010</td>\n",
       "      <td>valley of the hearts delight</td>\n",
       "      <td>2500000.0</td>\n",
       "      <td>118666.0</td>\n",
       "      <td>1.186660e+05</td>\n",
       "      <td>2010</td>\n",
       "      <td>valley of the hearts delight/2010</td>\n",
       "      <td>NaN</td>\n",
       "      <td>NaN</td>\n",
       "      <td>NaN</td>\n",
       "      <td>NaN</td>\n",
       "      <td>NaN</td>\n",
       "    </tr>\n",
       "    <tr>\n",
       "      <th>4729</th>\n",
       "      <td>64</td>\n",
       "      <td>Aug 26, 2011</td>\n",
       "      <td>redemption road</td>\n",
       "      <td>2300000.0</td>\n",
       "      <td>29384.0</td>\n",
       "      <td>2.938400e+04</td>\n",
       "      <td>2011</td>\n",
       "      <td>redemption road/2011</td>\n",
       "      <td>NaN</td>\n",
       "      <td>NaN</td>\n",
       "      <td>NaN</td>\n",
       "      <td>NaN</td>\n",
       "      <td>NaN</td>\n",
       "    </tr>\n",
       "    <tr>\n",
       "      <th>4741</th>\n",
       "      <td>81</td>\n",
       "      <td>Oct 16, 2016</td>\n",
       "      <td>mi america</td>\n",
       "      <td>2100000.0</td>\n",
       "      <td>3330.0</td>\n",
       "      <td>3.330000e+03</td>\n",
       "      <td>2016</td>\n",
       "      <td>mi america/2016</td>\n",
       "      <td>NaN</td>\n",
       "      <td>NaN</td>\n",
       "      <td>NaN</td>\n",
       "      <td>NaN</td>\n",
       "      <td>NaN</td>\n",
       "    </tr>\n",
       "  </tbody>\n",
       "</table>\n",
       "<p>526 rows × 13 columns</p>\n",
       "</div>"
      ],
      "text/plain": [
       "      id  release_date                                              movie  \\\n",
       "4      5  Dec 15, 2017              star wars episode viii: the last jedi   \n",
       "5      6  Dec 18, 2015           star wars episode vii: the force awakens   \n",
       "44    45  Dec 16, 2016                       rogue one: a star wars story   \n",
       "47    48   May 3, 2013                                         iron man 3   \n",
       "58    58  Dec 17, 2010                                       tron: legacy   \n",
       "...   ..           ...                                                ...   \n",
       "4706  31   Mar 1, 2013  the lost medallion: the adventures of billy stone   \n",
       "4709  34   Apr 1, 2011                                              super   \n",
       "4711  36   Apr 9, 2010                       valley of the hearts delight   \n",
       "4729  64  Aug 26, 2011                                    redemption road   \n",
       "4741  81  Oct 16, 2016                                         mi america   \n",
       "\n",
       "      production_budget  domestic_gross  worldwide_gross year_x  \\\n",
       "4           317000000.0     620181382.0     1.316722e+09   2017   \n",
       "5           306000000.0     936662225.0     2.053311e+09   2015   \n",
       "44          200000000.0     532177324.0     1.049103e+09   2016   \n",
       "47          200000000.0     408992272.0     1.215392e+09   2013   \n",
       "58          200000000.0     172062763.0     4.000628e+08   2010   \n",
       "...                 ...             ...              ...    ...   \n",
       "4706          2500000.0        549632.0     5.496320e+05   2013   \n",
       "4709          2500000.0        327716.0     5.939330e+05   2011   \n",
       "4711          2500000.0        118666.0     1.186660e+05   2010   \n",
       "4729          2300000.0         29384.0     2.938400e+04   2011   \n",
       "4741          2100000.0          3330.0     3.330000e+03   2016   \n",
       "\n",
       "                                             title/year movie_id title genres  \\\n",
       "4            star wars episode viii: the last jedi/2017      NaN   NaN    NaN   \n",
       "5         star wars episode vii: the force awakens/2015      NaN   NaN    NaN   \n",
       "44                    rogue one: a star wars story/2016      NaN   NaN    NaN   \n",
       "47                                      iron man 3/2013      NaN   NaN    NaN   \n",
       "58                                    tron: legacy/2010      NaN   NaN    NaN   \n",
       "...                                                 ...      ...   ...    ...   \n",
       "4706  the lost medallion: the adventures of billy st...      NaN   NaN    NaN   \n",
       "4709                                         super/2011      NaN   NaN    NaN   \n",
       "4711                  valley of the hearts delight/2010      NaN   NaN    NaN   \n",
       "4729                               redemption road/2011      NaN   NaN    NaN   \n",
       "4741                                    mi america/2016      NaN   NaN    NaN   \n",
       "\n",
       "      year_y director  \n",
       "4        NaN      NaN  \n",
       "5        NaN      NaN  \n",
       "44       NaN      NaN  \n",
       "47       NaN      NaN  \n",
       "58       NaN      NaN  \n",
       "...      ...      ...  \n",
       "4706     NaN      NaN  \n",
       "4709     NaN      NaN  \n",
       "4711     NaN      NaN  \n",
       "4729     NaN      NaN  \n",
       "4741     NaN      NaN  \n",
       "\n",
       "[526 rows x 13 columns]"
      ]
     },
     "execution_count": 34,
     "metadata": {},
     "output_type": "execute_result"
    }
   ],
   "source": [
    "combined_data.loc[((combined_data['year_x'].astype('int')>2009)\n",
    "                  & (combined_data['title'].isnull()))]"
   ]
  },
  {
   "cell_type": "markdown",
   "metadata": {},
   "source": [
    "So, it looks like we were only unable to match 526 movie records that came out after 2010."
   ]
  },
  {
   "cell_type": "code",
   "execution_count": 35,
   "metadata": {},
   "outputs": [],
   "source": [
    "# Let's drop those NaN rows\n",
    "combined_data.dropna(subset=['movie_id'],inplace=True)"
   ]
  },
  {
   "cell_type": "code",
   "execution_count": 36,
   "metadata": {},
   "outputs": [],
   "source": [
    "# Finally, I clean up the column titles a little bit to make them easier to work with\n",
    "\n",
    "combined_data.drop(['title/year','title','year_y','movie_id','release_date'],axis=1, inplace=True)"
   ]
  },
  {
   "cell_type": "code",
   "execution_count": 37,
   "metadata": {},
   "outputs": [
    {
     "data": {
      "text/plain": [
       "<AxesSubplot:title={'center':'Distribution of movie data by year'}, xlabel='Year', ylabel='Number of Movies'>"
      ]
     },
     "execution_count": 37,
     "metadata": {},
     "output_type": "execute_result"
    },
    {
     "data": {
      "image/png": "[encoded data removed]",
      "text/plain": [
       "<Figure size 432x288 with 1 Axes>"
      ]
     },
     "metadata": {},
     "output_type": "display_data"
    }
   ],
   "source": [
    "# Next we take a look at how our data is distributed by year.\n",
    "\n",
    "combined_data.groupby('year_x')['movie'].count().plot(kind='bar',\n",
    "                                                              legend=False,\n",
    "                                                              title='Distribution of movie data by year',\n",
    "                                                              ylabel=\"Number of Movies\",\n",
    "                                                              xlabel=\"Year\")"
   ]
  },
  {
   "cell_type": "markdown",
   "metadata": {},
   "source": [
    "#### Making Generes More Workable\n",
    "\n",
    "In our analysis, we will want to extract some things based on the movie genres. However, currently multiple genres can be nested under a single movie."
   ]
  },
  {
   "cell_type": "code",
   "execution_count": 38,
   "metadata": {},
   "outputs": [
    {
     "data": {
      "text/plain": [
       "1      Action,Adventure,Fantasy\n",
       "2       Action,Adventure,Sci-Fi\n",
       "3       Action,Adventure,Sci-Fi\n",
       "6       Action,Adventure,Sci-Fi\n",
       "8      Action,Adventure,Fantasy\n",
       "9     Action,Adventure,Thriller\n",
       "10              Action,Thriller\n",
       "11     Action,Adventure,Fantasy\n",
       "12     Action,Adventure,Western\n",
       "13      Action,Adventure,Sci-Fi\n",
       "Name: genres, dtype: object"
      ]
     },
     "execution_count": 38,
     "metadata": {},
     "output_type": "execute_result"
    }
   ],
   "source": [
    "combined_data['genres'].head(10)"
   ]
  },
  {
   "cell_type": "code",
   "execution_count": 39,
   "metadata": {},
   "outputs": [],
   "source": [
    "genres_list = combined_data['genres'].unique()\n",
    "genres_list = genres_list.tolist()\n",
    "\n",
    "unique_genere_list = []\n",
    "\n",
    "for i in range(len(genres_list)):\n",
    "    if genres_list[i] is not None:\n",
    "            unique_genere_list.extend(genres_list[i].split(','))\n",
    "    else:\n",
    "        pass\n",
    "\n",
    "unique_genere_list = list(set(unique_genere_list))"
   ]
  },
  {
   "cell_type": "code",
   "execution_count": 40,
   "metadata": {},
   "outputs": [
    {
     "name": "stdout",
     "output_type": "stream",
     "text": [
      "21\n",
      "['Crime', 'Music', 'Action', 'History', 'Animation', 'Romance', 'Adventure', 'Western', 'Mystery', 'War', 'Fantasy', 'Horror', 'Thriller', 'Sci-Fi', 'Drama', 'Family', 'Documentary', 'Biography', 'Sport', 'Comedy', 'Musical']\n"
     ]
    }
   ],
   "source": [
    "print(len(unique_genere_list))\n",
    "print(unique_genere_list)"
   ]
  },
  {
   "cell_type": "markdown",
   "metadata": {},
   "source": [
    "Great! So it looks like we have 21 different genres.\n",
    "\n",
    "We want to extract what are all the possible genre types and have each one represented by a row in our data."
   ]
  },
  {
   "cell_type": "code",
   "execution_count": 41,
   "metadata": {},
   "outputs": [],
   "source": [
    "# code from https://stackoverflow.com/questions/17116814/pandas-how-do-i-split-text-in-a-column-into-multiple-rows\n",
    "from pandas import Series\n",
    "s = combined_data['genres'].str.split(',').apply(Series, 1).stack()\n",
    "s.index = s.index.droplevel(-1) # to line up with df's index\n",
    "s.name = 'genres' # needs a name to join\n",
    "s\n",
    "del combined_data['genres']\n",
    "genre_data = combined_data.join(s)"
   ]
  },
  {
   "cell_type": "code",
   "execution_count": 42,
   "metadata": {},
   "outputs": [
    {
     "name": "stdout",
     "output_type": "stream",
     "text": [
      "<class 'pandas.core.frame.DataFrame'>\n",
      "Int64Index: 3096 entries, 1 to 4728\n",
      "Data columns (total 8 columns):\n",
      " #   Column             Non-Null Count  Dtype  \n",
      "---  ------             --------------  -----  \n",
      " 0   id                 3096 non-null   int64  \n",
      " 1   movie              3096 non-null   object \n",
      " 2   production_budget  3096 non-null   float64\n",
      " 3   domestic_gross     3096 non-null   float64\n",
      " 4   worldwide_gross    3096 non-null   float64\n",
      " 5   year_x             3096 non-null   object \n",
      " 6   director           3096 non-null   object \n",
      " 7   genres             3096 non-null   object \n",
      "dtypes: float64(3), int64(1), object(4)\n",
      "memory usage: 217.7+ KB\n"
     ]
    }
   ],
   "source": [
    "genre_data.info()"
   ]
  },
  {
   "cell_type": "code",
   "execution_count": 43,
   "metadata": {},
   "outputs": [
    {
     "data": {
      "text/html": [
       "<div>\n",
       "<style scoped>\n",
       "    .dataframe tbody tr th:only-of-type {\n",
       "        vertical-align: middle;\n",
       "    }\n",
       "\n",
       "    .dataframe tbody tr th {\n",
       "        vertical-align: top;\n",
       "    }\n",
       "\n",
       "    .dataframe thead th {\n",
       "        text-align: right;\n",
       "    }\n",
       "</style>\n",
       "<table border=\"1\" class=\"dataframe\">\n",
       "  <thead>\n",
       "    <tr style=\"text-align: right;\">\n",
       "      <th></th>\n",
       "      <th>id</th>\n",
       "      <th>movie</th>\n",
       "      <th>production_budget</th>\n",
       "      <th>domestic_gross</th>\n",
       "      <th>worldwide_gross</th>\n",
       "      <th>year_x</th>\n",
       "      <th>director</th>\n",
       "      <th>genres</th>\n",
       "    </tr>\n",
       "  </thead>\n",
       "  <tbody>\n",
       "    <tr>\n",
       "      <th>1</th>\n",
       "      <td>2</td>\n",
       "      <td>pirates of the caribbean: on stranger tides</td>\n",
       "      <td>410600000.0</td>\n",
       "      <td>241063875.0</td>\n",
       "      <td>1.045664e+09</td>\n",
       "      <td>2011</td>\n",
       "      <td>Rob Marshall</td>\n",
       "      <td>Action</td>\n",
       "    </tr>\n",
       "    <tr>\n",
       "      <th>1</th>\n",
       "      <td>2</td>\n",
       "      <td>pirates of the caribbean: on stranger tides</td>\n",
       "      <td>410600000.0</td>\n",
       "      <td>241063875.0</td>\n",
       "      <td>1.045664e+09</td>\n",
       "      <td>2011</td>\n",
       "      <td>Rob Marshall</td>\n",
       "      <td>Adventure</td>\n",
       "    </tr>\n",
       "    <tr>\n",
       "      <th>1</th>\n",
       "      <td>2</td>\n",
       "      <td>pirates of the caribbean: on stranger tides</td>\n",
       "      <td>410600000.0</td>\n",
       "      <td>241063875.0</td>\n",
       "      <td>1.045664e+09</td>\n",
       "      <td>2011</td>\n",
       "      <td>Rob Marshall</td>\n",
       "      <td>Fantasy</td>\n",
       "    </tr>\n",
       "    <tr>\n",
       "      <th>2</th>\n",
       "      <td>3</td>\n",
       "      <td>dark phoenix</td>\n",
       "      <td>350000000.0</td>\n",
       "      <td>42762350.0</td>\n",
       "      <td>1.497624e+08</td>\n",
       "      <td>2019</td>\n",
       "      <td>Simon Kinberg</td>\n",
       "      <td>Action</td>\n",
       "    </tr>\n",
       "    <tr>\n",
       "      <th>2</th>\n",
       "      <td>3</td>\n",
       "      <td>dark phoenix</td>\n",
       "      <td>350000000.0</td>\n",
       "      <td>42762350.0</td>\n",
       "      <td>1.497624e+08</td>\n",
       "      <td>2019</td>\n",
       "      <td>Simon Kinberg</td>\n",
       "      <td>Adventure</td>\n",
       "    </tr>\n",
       "  </tbody>\n",
       "</table>\n",
       "</div>"
      ],
      "text/plain": [
       "   id                                        movie  production_budget  \\\n",
       "1   2  pirates of the caribbean: on stranger tides        410600000.0   \n",
       "1   2  pirates of the caribbean: on stranger tides        410600000.0   \n",
       "1   2  pirates of the caribbean: on stranger tides        410600000.0   \n",
       "2   3                                 dark phoenix        350000000.0   \n",
       "2   3                                 dark phoenix        350000000.0   \n",
       "\n",
       "   domestic_gross  worldwide_gross year_x       director     genres  \n",
       "1     241063875.0     1.045664e+09   2011   Rob Marshall     Action  \n",
       "1     241063875.0     1.045664e+09   2011   Rob Marshall  Adventure  \n",
       "1     241063875.0     1.045664e+09   2011   Rob Marshall    Fantasy  \n",
       "2      42762350.0     1.497624e+08   2019  Simon Kinberg     Action  \n",
       "2      42762350.0     1.497624e+08   2019  Simon Kinberg  Adventure  "
      ]
     },
     "execution_count": 43,
     "metadata": {},
     "output_type": "execute_result"
    }
   ],
   "source": [
    "genre_data.head()"
   ]
  },
  {
   "cell_type": "markdown",
   "metadata": {},
   "source": [
    "### Creating Features\n",
    "\n",
    "Now that we have all the data we wanted combined in one place, it's time to create some additional features in this dataset for use in our analysis."
   ]
  },
  {
   "cell_type": "code",
   "execution_count": 44,
   "metadata": {},
   "outputs": [],
   "source": [
    "combined_data['profit'] = combined_data['worldwide_gross'] - combined_data['production_budget']\n",
    "combined_data['percent_return'] = combined_data['worldwide_gross'] / combined_data['production_budget']"
   ]
  },
  {
   "cell_type": "markdown",
   "metadata": {},
   "source": [
    "Let's create a function that checks whether the movie could be considered a success.\n",
    "I use this answer from quora to determine parameters for what is considered a Flop, Average, Hit, Super Hit\n",
    "or Blockbuster. https://www.quora.com/What-are-the-criteria-for-a-movie-hit-super-hit-blockbuster-and-flop"
   ]
  },
  {
   "cell_type": "code",
   "execution_count": 45,
   "metadata": {},
   "outputs": [],
   "source": [
    "def movie_status_check(arg):\n",
    "    status = None\n",
    "    if arg < 1:\n",
    "        status = 'Flop'\n",
    "    elif 1 <= arg < 1.25:\n",
    "        status = 'Average'\n",
    "    elif 1.25 <= arg < 1.75:\n",
    "        status = 'Hit'\n",
    "    elif 1.75 <= arg < 2:\n",
    "        status = 'Super Hit'\n",
    "    else:\n",
    "        status = 'Blockbuster'\n",
    "    return status"
   ]
  },
  {
   "cell_type": "code",
   "execution_count": 46,
   "metadata": {},
   "outputs": [],
   "source": [
    "combined_data['movie_status'] = combined_data['percent_return'].apply(movie_status_check)"
   ]
  },
  {
   "cell_type": "code",
   "execution_count": 47,
   "metadata": {},
   "outputs": [
    {
     "data": {
      "text/html": [
       "<div>\n",
       "<style scoped>\n",
       "    .dataframe tbody tr th:only-of-type {\n",
       "        vertical-align: middle;\n",
       "    }\n",
       "\n",
       "    .dataframe tbody tr th {\n",
       "        vertical-align: top;\n",
       "    }\n",
       "\n",
       "    .dataframe thead th {\n",
       "        text-align: right;\n",
       "    }\n",
       "</style>\n",
       "<table border=\"1\" class=\"dataframe\">\n",
       "  <thead>\n",
       "    <tr style=\"text-align: right;\">\n",
       "      <th></th>\n",
       "      <th>id</th>\n",
       "      <th>movie</th>\n",
       "      <th>production_budget</th>\n",
       "      <th>domestic_gross</th>\n",
       "      <th>worldwide_gross</th>\n",
       "      <th>year_x</th>\n",
       "      <th>director</th>\n",
       "      <th>profit</th>\n",
       "      <th>percent_return</th>\n",
       "      <th>movie_status</th>\n",
       "    </tr>\n",
       "  </thead>\n",
       "  <tbody>\n",
       "    <tr>\n",
       "      <th>1</th>\n",
       "      <td>2</td>\n",
       "      <td>pirates of the caribbean: on stranger tides</td>\n",
       "      <td>410600000.0</td>\n",
       "      <td>241063875.0</td>\n",
       "      <td>1.045664e+09</td>\n",
       "      <td>2011</td>\n",
       "      <td>Rob Marshall</td>\n",
       "      <td>6.350639e+08</td>\n",
       "      <td>2.546673</td>\n",
       "      <td>Blockbuster</td>\n",
       "    </tr>\n",
       "    <tr>\n",
       "      <th>2</th>\n",
       "      <td>3</td>\n",
       "      <td>dark phoenix</td>\n",
       "      <td>350000000.0</td>\n",
       "      <td>42762350.0</td>\n",
       "      <td>1.497624e+08</td>\n",
       "      <td>2019</td>\n",
       "      <td>Simon Kinberg</td>\n",
       "      <td>-2.002376e+08</td>\n",
       "      <td>0.427892</td>\n",
       "      <td>Flop</td>\n",
       "    </tr>\n",
       "    <tr>\n",
       "      <th>3</th>\n",
       "      <td>4</td>\n",
       "      <td>avengers: age of ultron</td>\n",
       "      <td>330600000.0</td>\n",
       "      <td>459005868.0</td>\n",
       "      <td>1.403014e+09</td>\n",
       "      <td>2015</td>\n",
       "      <td>Joss Whedon</td>\n",
       "      <td>1.072414e+09</td>\n",
       "      <td>4.243841</td>\n",
       "      <td>Blockbuster</td>\n",
       "    </tr>\n",
       "    <tr>\n",
       "      <th>6</th>\n",
       "      <td>7</td>\n",
       "      <td>avengers: infinity war</td>\n",
       "      <td>300000000.0</td>\n",
       "      <td>678815482.0</td>\n",
       "      <td>2.048134e+09</td>\n",
       "      <td>2018</td>\n",
       "      <td>Anthony Russo</td>\n",
       "      <td>1.748134e+09</td>\n",
       "      <td>6.827114</td>\n",
       "      <td>Blockbuster</td>\n",
       "    </tr>\n",
       "    <tr>\n",
       "      <th>8</th>\n",
       "      <td>9</td>\n",
       "      <td>justice league</td>\n",
       "      <td>300000000.0</td>\n",
       "      <td>229024295.0</td>\n",
       "      <td>6.559452e+08</td>\n",
       "      <td>2017</td>\n",
       "      <td>Zack Snyder</td>\n",
       "      <td>3.559452e+08</td>\n",
       "      <td>2.186484</td>\n",
       "      <td>Blockbuster</td>\n",
       "    </tr>\n",
       "  </tbody>\n",
       "</table>\n",
       "</div>"
      ],
      "text/plain": [
       "   id                                        movie  production_budget  \\\n",
       "1   2  pirates of the caribbean: on stranger tides        410600000.0   \n",
       "2   3                                 dark phoenix        350000000.0   \n",
       "3   4                      avengers: age of ultron        330600000.0   \n",
       "6   7                       avengers: infinity war        300000000.0   \n",
       "8   9                               justice league        300000000.0   \n",
       "\n",
       "   domestic_gross  worldwide_gross year_x       director        profit  \\\n",
       "1     241063875.0     1.045664e+09   2011   Rob Marshall  6.350639e+08   \n",
       "2      42762350.0     1.497624e+08   2019  Simon Kinberg -2.002376e+08   \n",
       "3     459005868.0     1.403014e+09   2015    Joss Whedon  1.072414e+09   \n",
       "6     678815482.0     2.048134e+09   2018  Anthony Russo  1.748134e+09   \n",
       "8     229024295.0     6.559452e+08   2017    Zack Snyder  3.559452e+08   \n",
       "\n",
       "   percent_return movie_status  \n",
       "1        2.546673  Blockbuster  \n",
       "2        0.427892         Flop  \n",
       "3        4.243841  Blockbuster  \n",
       "6        6.827114  Blockbuster  \n",
       "8        2.186484  Blockbuster  "
      ]
     },
     "execution_count": 47,
     "metadata": {},
     "output_type": "execute_result"
    }
   ],
   "source": [
    "combined_data.head()"
   ]
  },
  {
   "cell_type": "code",
   "execution_count": 48,
   "metadata": {},
   "outputs": [],
   "source": [
    "# We want to create the same features in our generes dataframe.\n",
    "genre_data['profit'] = genre_data['worldwide_gross'] - genre_data['production_budget']\n",
    "genre_data['percent_return'] = genre_data['worldwide_gross'] / genre_data['production_budget']\n",
    "genre_data['movie_status'] = genre_data['percent_return'].apply(movie_status_check)"
   ]
  },
  {
   "cell_type": "code",
   "execution_count": 49,
   "metadata": {},
   "outputs": [
    {
     "data": {
      "text/plain": [
       "id                    100\n",
       "movie                1167\n",
       "production_budget     188\n",
       "domestic_gross       1147\n",
       "worldwide_gross      1168\n",
       "year_x                 10\n",
       "director              752\n",
       "profit               1168\n",
       "percent_return       1168\n",
       "movie_status            5\n",
       "dtype: int64"
      ]
     },
     "execution_count": 49,
     "metadata": {},
     "output_type": "execute_result"
    }
   ],
   "source": [
    "# Lastly, let's take a look at how many unique values we have for each of our features.\n",
    "\n",
    "combined_data.nunique()"
   ]
  },
  {
   "cell_type": "markdown",
   "metadata": {},
   "source": [
    "To summarize, our combined dataset contains:\n",
    "\n",
    "* 1,167 unique movie titles\n",
    "* 752 directors\n",
    "* Data across 10 years\n",
    "* Earlier analysis shows we also have 21 unique genres (though one movie can have multiple genres)"
   ]
  },
  {
   "cell_type": "markdown",
   "metadata": {},
   "source": [
    "## Analysis\n",
    "\n",
    "Now that we have our data combined and prepared, we begin looking into different features to extract findings."
   ]
  },
  {
   "cell_type": "markdown",
   "metadata": {},
   "source": [
    "### Correlation between how much you spend and a movie's performance\n",
    "\n",
    "There is a strong positive correlation (0.77) between a movie's production budget and its worldwide gross box office performance. In other words, the more you spend the better revenue performance you can expect.\n",
    "\n",
    "Furthermore, there is also a strong, albeit slightly weaker, correlation between budget and profit (0.64)."
   ]
  },
  {
   "cell_type": "code",
   "execution_count": 50,
   "metadata": {},
   "outputs": [
    {
     "name": "stderr",
     "output_type": "stream",
     "text": [
      "/Users/robertharrow/opt/anaconda3/envs/learn-env/lib/python3.8/site-packages/seaborn/_decorators.py:36: FutureWarning: Pass the following variables as keyword args: x, y. From version 0.12, the only valid positional argument will be `data`, and passing other arguments without an explicit keyword will result in an error or misinterpretation.\n",
      "  warnings.warn(\n"
     ]
    },
    {
     "data": {
      "text/plain": [
       "Text(0.5, 1.0, 'Correlation between production budget and worldwide box office performance')"
      ]
     },
     "execution_count": 50,
     "metadata": {},
     "output_type": "execute_result"
    },
    {
     "data": {
      "image/png": "[encoded data removed]",
      "text/plain": [
       "<Figure size 1332x756 with 1 Axes>"
      ]
     },
     "metadata": {},
     "output_type": "display_data"
    }
   ],
   "source": [
    "# Issues with sizing this graph were resolved with code from:\n",
    "# https://stackoverflow.com/questions/31556424/how-do-i-change-the-plot-size-of-a-regplot-in-seaborn\n",
    "\n",
    "sns.set_style('ticks')\n",
    "fig, ax = plt.subplots()\n",
    "fig.set_size_inches(18.5, 10.5)\n",
    "sns.regplot(combined_data[\"production_budget\"],combined_data[\"worldwide_gross\"], ax=ax)\n",
    "sns.despine()\n",
    "\n",
    "plt.ticklabel_format(style='plain', axis='both')\n",
    "\n",
    "plt.xlabel(\"Production Budget ($)\", fontsize=15)\n",
    "plt.ylabel(\"Worldwide Box Office Revenue ($)\", fontsize=15)\n",
    "plt.title(\"Correlation between production budget and worldwide box office performance\", fontsize=20)"
   ]
  },
  {
   "cell_type": "code",
   "execution_count": 51,
   "metadata": {},
   "outputs": [
    {
     "data": {
      "text/plain": [
       "0.7682626062875523"
      ]
     },
     "execution_count": 51,
     "metadata": {},
     "output_type": "execute_result"
    }
   ],
   "source": [
    "# Calculating the correlation between production budget and worldwide_gross\n",
    "combined_data[\"production_budget\"].corr(combined_data[\"worldwide_gross\"])"
   ]
  },
  {
   "cell_type": "code",
   "execution_count": 52,
   "metadata": {},
   "outputs": [
    {
     "name": "stderr",
     "output_type": "stream",
     "text": [
      "/Users/robertharrow/opt/anaconda3/envs/learn-env/lib/python3.8/site-packages/seaborn/_decorators.py:36: FutureWarning: Pass the following variables as keyword args: x, y. From version 0.12, the only valid positional argument will be `data`, and passing other arguments without an explicit keyword will result in an error or misinterpretation.\n",
      "  warnings.warn(\n"
     ]
    },
    {
     "data": {
      "text/plain": [
       "Text(0.5, 1.0, 'Correlation between production budget and movie profit')"
      ]
     },
     "execution_count": 52,
     "metadata": {},
     "output_type": "execute_result"
    },
    {
     "data": {
      "image/png": "[encoded data removed]",
      "text/plain": [
       "<Figure size 1332x756 with 1 Axes>"
      ]
     },
     "metadata": {},
     "output_type": "display_data"
    }
   ],
   "source": [
    "sns.set_style('ticks')\n",
    "fig, ax = plt.subplots()\n",
    "fig.set_size_inches(18.5, 10.5)\n",
    "sns.regplot(combined_data[\"production_budget\"],combined_data[\"profit\"],color='green', ax=ax)\n",
    "sns.despine()\n",
    "\n",
    "plt.ticklabel_format(style='plain', axis='both')\n",
    "\n",
    "plt.xlabel(\"Production Budget ($)\", fontsize=15)\n",
    "plt.ylabel(\"Worldwide Box Office Revenue ($)\", fontsize=15)\n",
    "plt.title(\"Correlation between production budget and movie profit\", fontsize=20)"
   ]
  },
  {
   "cell_type": "code",
   "execution_count": 53,
   "metadata": {},
   "outputs": [
    {
     "data": {
      "text/plain": [
       "0.6380208058885605"
      ]
     },
     "execution_count": 53,
     "metadata": {},
     "output_type": "execute_result"
    }
   ],
   "source": [
    "# Calculating the correlation between production budget and profit\n",
    "combined_data[\"production_budget\"].corr(combined_data[\"profit\"])"
   ]
  },
  {
   "cell_type": "code",
   "execution_count": 54,
   "metadata": {},
   "outputs": [
    {
     "data": {
      "text/html": [
       "<div>\n",
       "<style scoped>\n",
       "    .dataframe tbody tr th:only-of-type {\n",
       "        vertical-align: middle;\n",
       "    }\n",
       "\n",
       "    .dataframe tbody tr th {\n",
       "        vertical-align: top;\n",
       "    }\n",
       "\n",
       "    .dataframe thead th {\n",
       "        text-align: right;\n",
       "    }\n",
       "</style>\n",
       "<table border=\"1\" class=\"dataframe\">\n",
       "  <thead>\n",
       "    <tr style=\"text-align: right;\">\n",
       "      <th></th>\n",
       "      <th>production_budget</th>\n",
       "      <th>profit</th>\n",
       "      <th>worldwide_gross</th>\n",
       "    </tr>\n",
       "    <tr>\n",
       "      <th>movie_status</th>\n",
       "      <th></th>\n",
       "      <th></th>\n",
       "      <th></th>\n",
       "    </tr>\n",
       "  </thead>\n",
       "  <tbody>\n",
       "    <tr>\n",
       "      <th>Average</th>\n",
       "      <td>40000000.0</td>\n",
       "      <td>4025604.0</td>\n",
       "      <td>43468588.5</td>\n",
       "    </tr>\n",
       "    <tr>\n",
       "      <th>Blockbuster</th>\n",
       "      <td>35000000.0</td>\n",
       "      <td>105773401.0</td>\n",
       "      <td>144384926.5</td>\n",
       "    </tr>\n",
       "    <tr>\n",
       "      <th>Flop</th>\n",
       "      <td>20000000.0</td>\n",
       "      <td>-8968068.0</td>\n",
       "      <td>8300821.0</td>\n",
       "    </tr>\n",
       "    <tr>\n",
       "      <th>Hit</th>\n",
       "      <td>35000000.0</td>\n",
       "      <td>17193547.0</td>\n",
       "      <td>50505603.0</td>\n",
       "    </tr>\n",
       "    <tr>\n",
       "      <th>Super Hit</th>\n",
       "      <td>47500000.0</td>\n",
       "      <td>38704710.0</td>\n",
       "      <td>86204710.0</td>\n",
       "    </tr>\n",
       "  </tbody>\n",
       "</table>\n",
       "</div>"
      ],
      "text/plain": [
       "              production_budget       profit  worldwide_gross\n",
       "movie_status                                                 \n",
       "Average              40000000.0    4025604.0       43468588.5\n",
       "Blockbuster          35000000.0  105773401.0      144384926.5\n",
       "Flop                 20000000.0   -8968068.0        8300821.0\n",
       "Hit                  35000000.0   17193547.0       50505603.0\n",
       "Super Hit            47500000.0   38704710.0       86204710.0"
      ]
     },
     "execution_count": 54,
     "metadata": {},
     "output_type": "execute_result"
    }
   ],
   "source": [
    "# What is the median monetary performance at each movie status tier?\n",
    "combined_data.groupby('movie_status')[['production_budget','profit','worldwide_gross']].median()"
   ]
  },
  {
   "cell_type": "markdown",
   "metadata": {},
   "source": [
    "The above shows us that a media blockbuster has a production budget of $35,000,000."
   ]
  },
  {
   "cell_type": "code",
   "execution_count": 55,
   "metadata": {},
   "outputs": [
    {
     "data": {
      "text/plain": [
       "movie_status\n",
       "Average         56\n",
       "Blockbuster    704\n",
       "Flop           237\n",
       "Hit            126\n",
       "Super Hit       56\n",
       "Name: movie, dtype: int64"
      ]
     },
     "execution_count": 55,
     "metadata": {},
     "output_type": "execute_result"
    }
   ],
   "source": [
    "# What does the distribution of our data look like at each status tier?\n",
    "combined_data.groupby('movie_status')['movie'].count()"
   ]
  },
  {
   "cell_type": "code",
   "execution_count": 56,
   "metadata": {},
   "outputs": [
    {
     "data": {
      "text/plain": [
       "Text(0.5, 1.0, 'How typical movie budgets translate to performance at the box office')"
      ]
     },
     "execution_count": 56,
     "metadata": {},
     "output_type": "execute_result"
    },
    {
     "data": {
      "image/png": "[encoded data removed]",
      "text/plain": [
       "<Figure size 720x360 with 1 Axes>"
      ]
     },
     "metadata": {},
     "output_type": "display_data"
    }
   ],
   "source": [
    "# Graphing median production budgets at every tier\n",
    "\n",
    "c = ['#f20808', '#096000', '#816100', '#ba4e00', '#4d8501']\n",
    "movie_status_plot = combined_data.groupby('movie_status')['production_budget'].median().sort_values()\n",
    "ax = movie_status_plot.plot(\n",
    "     kind='barh', stacked=True,  \n",
    "     color = c,\n",
    "     figsize=(10, 5))\n",
    "ax.invert_yaxis()\n",
    "plt.ticklabel_format(style='plain', axis='x')\n",
    "\n",
    "plt.xlabel(\"Median Production Budget ($)\", fontsize=15)\n",
    "plt.ylabel(\"Movie Status\", fontsize=15)\n",
    "plt.title('How typical movie budgets translate to performance at the box office',fontsize=20)"
   ]
  },
  {
   "cell_type": "markdown",
   "metadata": {},
   "source": [
    "### What genres do best?\n",
    "\n",
    "On average, Animated movies had the highest worldwide gross revenue at the box office - followed by adventure and Sci-Fi movies. A similar trend was observed when looked at from a profitability standpoint."
   ]
  },
  {
   "cell_type": "code",
   "execution_count": 57,
   "metadata": {},
   "outputs": [
    {
     "data": {
      "text/plain": [
       "Text(0.5, 1.0, 'Typical Revenue by Movie Genre')"
      ]
     },
     "execution_count": 57,
     "metadata": {},
     "output_type": "execute_result"
    },
    {
     "data": {
      "image/png": "[encoded data removed]",
      "text/plain": [
       "<Figure size 720x360 with 1 Axes>"
      ]
     },
     "metadata": {},
     "output_type": "display_data"
    }
   ],
   "source": [
    "genres_revenue_plot = genre_data.groupby('genres')['worldwide_gross'].median().sort_values(ascending=False)\n",
    "ax = genres_revenue_plot.plot(\n",
    "     kind='bar',\n",
    "     figsize=(10, 5))\n",
    "plt.ticklabel_format(style='plain', axis='y')\n",
    "\n",
    "plt.xlabel(\"Genre\", fontsize=15)\n",
    "plt.ylabel(\"Median Revenue ($)\", fontsize=15)\n",
    "plt.title('Typical Revenue by Movie Genre',fontsize=20)"
   ]
  },
  {
   "cell_type": "code",
   "execution_count": 58,
   "metadata": {},
   "outputs": [
    {
     "data": {
      "text/plain": [
       "Text(0.5, 1.0, 'Typical Profit by Movie Genre')"
      ]
     },
     "execution_count": 58,
     "metadata": {},
     "output_type": "execute_result"
    },
    {
     "data": {
      "image/png": "[encoded data removed]",
      "text/plain": [
       "<Figure size 720x360 with 1 Axes>"
      ]
     },
     "metadata": {},
     "output_type": "display_data"
    }
   ],
   "source": [
    "genres_profit_plot = genre_data.groupby('genres')['profit'].median().sort_values(ascending=False)\n",
    "ax = genres_profit_plot.plot(\n",
    "     kind='bar',\n",
    "     figsize=(10, 5),\n",
    "     color=\"g\")\n",
    "plt.ticklabel_format(style='plain', axis='y')\n",
    "plt.xlabel(\"Genre\", fontsize=15)\n",
    "plt.ylabel(\"Median Profit ($)\", fontsize=15)\n",
    "plt.title('Typical Profit by Movie Genre',fontsize=20)"
   ]
  },
  {
   "cell_type": "code",
   "execution_count": 59,
   "metadata": {},
   "outputs": [
    {
     "data": {
      "text/html": [
       "<div>\n",
       "<style scoped>\n",
       "    .dataframe tbody tr th:only-of-type {\n",
       "        vertical-align: middle;\n",
       "    }\n",
       "\n",
       "    .dataframe tbody tr th {\n",
       "        vertical-align: top;\n",
       "    }\n",
       "\n",
       "    .dataframe thead th {\n",
       "        text-align: right;\n",
       "    }\n",
       "</style>\n",
       "<table border=\"1\" class=\"dataframe\">\n",
       "  <thead>\n",
       "    <tr style=\"text-align: right;\">\n",
       "      <th></th>\n",
       "      <th>production_budget</th>\n",
       "      <th>worldwide_gross</th>\n",
       "      <th>profit</th>\n",
       "    </tr>\n",
       "    <tr>\n",
       "      <th>genres</th>\n",
       "      <th></th>\n",
       "      <th></th>\n",
       "      <th></th>\n",
       "    </tr>\n",
       "  </thead>\n",
       "  <tbody>\n",
       "    <tr>\n",
       "      <th>Animation</th>\n",
       "      <td>90000000.0</td>\n",
       "      <td>316450194.5</td>\n",
       "      <td>202467009.0</td>\n",
       "    </tr>\n",
       "    <tr>\n",
       "      <th>Sci-Fi</th>\n",
       "      <td>101000000.0</td>\n",
       "      <td>258665076.5</td>\n",
       "      <td>152422018.5</td>\n",
       "    </tr>\n",
       "    <tr>\n",
       "      <th>Adventure</th>\n",
       "      <td>110000000.0</td>\n",
       "      <td>268268174.0</td>\n",
       "      <td>146271037.0</td>\n",
       "    </tr>\n",
       "    <tr>\n",
       "      <th>Action</th>\n",
       "      <td>65000000.0</td>\n",
       "      <td>146195159.0</td>\n",
       "      <td>72525156.0</td>\n",
       "    </tr>\n",
       "    <tr>\n",
       "      <th>Family</th>\n",
       "      <td>50500000.0</td>\n",
       "      <td>115877728.0</td>\n",
       "      <td>60222708.0</td>\n",
       "    </tr>\n",
       "    <tr>\n",
       "      <th>Fantasy</th>\n",
       "      <td>70000000.0</td>\n",
       "      <td>127261200.0</td>\n",
       "      <td>58041414.0</td>\n",
       "    </tr>\n",
       "    <tr>\n",
       "      <th>Mystery</th>\n",
       "      <td>20000000.0</td>\n",
       "      <td>81642338.5</td>\n",
       "      <td>54578986.0</td>\n",
       "    </tr>\n",
       "    <tr>\n",
       "      <th>Comedy</th>\n",
       "      <td>32000000.0</td>\n",
       "      <td>82332450.0</td>\n",
       "      <td>49652207.0</td>\n",
       "    </tr>\n",
       "    <tr>\n",
       "      <th>Thriller</th>\n",
       "      <td>25000000.0</td>\n",
       "      <td>69448704.0</td>\n",
       "      <td>42918700.0</td>\n",
       "    </tr>\n",
       "    <tr>\n",
       "      <th>Horror</th>\n",
       "      <td>12900000.0</td>\n",
       "      <td>65654770.0</td>\n",
       "      <td>42000905.0</td>\n",
       "    </tr>\n",
       "    <tr>\n",
       "      <th>History</th>\n",
       "      <td>32500000.0</td>\n",
       "      <td>82616153.5</td>\n",
       "      <td>40661101.5</td>\n",
       "    </tr>\n",
       "    <tr>\n",
       "      <th>Musical</th>\n",
       "      <td>70000000.0</td>\n",
       "      <td>90552675.0</td>\n",
       "      <td>35552675.0</td>\n",
       "    </tr>\n",
       "    <tr>\n",
       "      <th>Romance</th>\n",
       "      <td>20000000.0</td>\n",
       "      <td>60556971.5</td>\n",
       "      <td>35398606.5</td>\n",
       "    </tr>\n",
       "    <tr>\n",
       "      <th>Music</th>\n",
       "      <td>19000000.0</td>\n",
       "      <td>58933344.5</td>\n",
       "      <td>30417703.5</td>\n",
       "    </tr>\n",
       "    <tr>\n",
       "      <th>Crime</th>\n",
       "      <td>30000000.0</td>\n",
       "      <td>53061984.0</td>\n",
       "      <td>26460073.0</td>\n",
       "    </tr>\n",
       "    <tr>\n",
       "      <th>Biography</th>\n",
       "      <td>25000000.0</td>\n",
       "      <td>53128976.0</td>\n",
       "      <td>25749357.5</td>\n",
       "    </tr>\n",
       "    <tr>\n",
       "      <th>Drama</th>\n",
       "      <td>21000000.0</td>\n",
       "      <td>52460543.0</td>\n",
       "      <td>25402515.0</td>\n",
       "    </tr>\n",
       "    <tr>\n",
       "      <th>Sport</th>\n",
       "      <td>22500000.0</td>\n",
       "      <td>42462918.0</td>\n",
       "      <td>14678412.0</td>\n",
       "    </tr>\n",
       "    <tr>\n",
       "      <th>Documentary</th>\n",
       "      <td>8000000.0</td>\n",
       "      <td>20545142.5</td>\n",
       "      <td>13045142.5</td>\n",
       "    </tr>\n",
       "    <tr>\n",
       "      <th>Western</th>\n",
       "      <td>40000000.0</td>\n",
       "      <td>86778557.0</td>\n",
       "      <td>2446952.0</td>\n",
       "    </tr>\n",
       "    <tr>\n",
       "      <th>War</th>\n",
       "      <td>19500000.0</td>\n",
       "      <td>10005785.5</td>\n",
       "      <td>-542720.0</td>\n",
       "    </tr>\n",
       "  </tbody>\n",
       "</table>\n",
       "</div>"
      ],
      "text/plain": [
       "             production_budget  worldwide_gross       profit\n",
       "genres                                                      \n",
       "Animation           90000000.0      316450194.5  202467009.0\n",
       "Sci-Fi             101000000.0      258665076.5  152422018.5\n",
       "Adventure          110000000.0      268268174.0  146271037.0\n",
       "Action              65000000.0      146195159.0   72525156.0\n",
       "Family              50500000.0      115877728.0   60222708.0\n",
       "Fantasy             70000000.0      127261200.0   58041414.0\n",
       "Mystery             20000000.0       81642338.5   54578986.0\n",
       "Comedy              32000000.0       82332450.0   49652207.0\n",
       "Thriller            25000000.0       69448704.0   42918700.0\n",
       "Horror              12900000.0       65654770.0   42000905.0\n",
       "History             32500000.0       82616153.5   40661101.5\n",
       "Musical             70000000.0       90552675.0   35552675.0\n",
       "Romance             20000000.0       60556971.5   35398606.5\n",
       "Music               19000000.0       58933344.5   30417703.5\n",
       "Crime               30000000.0       53061984.0   26460073.0\n",
       "Biography           25000000.0       53128976.0   25749357.5\n",
       "Drama               21000000.0       52460543.0   25402515.0\n",
       "Sport               22500000.0       42462918.0   14678412.0\n",
       "Documentary          8000000.0       20545142.5   13045142.5\n",
       "Western             40000000.0       86778557.0    2446952.0\n",
       "War                 19500000.0       10005785.5    -542720.0"
      ]
     },
     "execution_count": 59,
     "metadata": {},
     "output_type": "execute_result"
    }
   ],
   "source": [
    "genre_data.groupby('genres')[['production_budget',\n",
    "                              'worldwide_gross',\n",
    "                              'profit']].median().sort_values(by='profit',ascending=False)"
   ]
  },
  {
   "cell_type": "markdown",
   "metadata": {},
   "source": [
    "### Which directors should you hire?\n",
    "\n",
    "Next we look at the top and bottom 5 directors in the last 10 years in terms of how many blockbusters they were able to produce."
   ]
  },
  {
   "cell_type": "code",
   "execution_count": 60,
   "metadata": {
    "scrolled": false
   },
   "outputs": [
    {
     "data": {
      "text/plain": [
       "[Text(0.5, 0, 'Number of Blockbuster Films'), Text(0, 0.5, 'Director')]"
      ]
     },
     "execution_count": 60,
     "metadata": {},
     "output_type": "execute_result"
    },
    {
     "data": {
      "image/png": "[encoded data removed]",
      "text/plain": [
       "<Figure size 720x360 with 1 Axes>"
      ]
     },
     "metadata": {},
     "output_type": "display_data"
    }
   ],
   "source": [
    "# Graphing the top blockbuster producing directors\n",
    "top_director_plot = combined_data.query('movie_status == \"Blockbuster\"').groupby('director')['movie'].count().sort_values(ascending=False).head(10)\n",
    "ax = top_director_plot.plot(\n",
    "     kind='barh',\n",
    "     title='Top Blockbuster Producing Directors (2010 - 2019)',\n",
    "     figsize=(10, 5),\n",
    "     color=\"orange\")\n",
    "ax.set(xlabel='Number of Blockbuster Films', ylabel='Director')"
   ]
  },
  {
   "cell_type": "code",
   "execution_count": 61,
   "metadata": {},
   "outputs": [
    {
     "data": {
      "text/plain": [
       "[Text(0.5, 0, 'Number of Flops'), Text(0, 0.5, 'Director')]"
      ]
     },
     "execution_count": 61,
     "metadata": {},
     "output_type": "execute_result"
    },
    {
     "data": {
      "image/png": "[encoded data removed]",
      "text/plain": [
       "<Figure size 720x360 with 1 Axes>"
      ]
     },
     "metadata": {},
     "output_type": "display_data"
    }
   ],
   "source": [
    "# Graphing the top flop producing directors\n",
    "\n",
    "bottom_director_plot = combined_data.query('movie_status == \"Flop\"').groupby('director')['movie'].count().sort_values(ascending=False).head(10)\n",
    "\n",
    "ax = bottom_director_plot.plot(\n",
    "     kind='barh',\n",
    "     title='Big-budget directors with the most flops (2010 - 2019)',\n",
    "     figsize=(10, 5),\n",
    "     color=\"red\")\n",
    "ax.set(xlabel='Number of Flops', ylabel='Director')"
   ]
  },
  {
   "cell_type": "markdown",
   "metadata": {},
   "source": [
    "## Conclusions & Next Steps\n",
    "\n",
    "We analyzed 1,179 titles (1,167 unique ones) by combdining data from The-Numbers.com and IMDB.\n",
    "\n",
    "The analysis shows that Microsoft can expect better box office performance and profitability by investing more into each title as shown by the correlation between the production budget & worldwide gross revenue and profitability.\n",
    "\n",
    "Animated films have seen far more success than any other feature film in our analysis. Adventure and Sci-Fi movies came in 2nd and 3rd respectively.\n",
    "\n",
    "Steven Spielberg, Jon Chu, Francis Lawrence and Clint Eastwood produced more blockbuster films than most other directors we looked at.\n",
    "\n",
    "### Next Steps\n",
    "\n",
    "* Invest at least $35 million into each feature film if you expect to produce blockbusters. That is the median production budget for blockbusters in our analysis\n",
    "* Focus on Animated, Action and Sci-Fi films\n",
    "* Collaborate with a top-performing director like Steven Spielberg, Jon Chu, Francis Lawrence or Clint Eastwood."
   ]
  },
  {
   "cell_type": "code",
   "execution_count": null,
   "metadata": {},
   "outputs": [],
   "source": []
  }
 ],
 "metadata": {
  "kernelspec": {
   "display_name": "Python (learn-env)",
   "language": "python",
   "name": "learn-env"
  },
  "language_info": {
   "codemirror_mode": {
    "name": "ipython",
    "version": 3
   },
   "file_extension": ".py",
   "mimetype": "text/x-python",
   "name": "python",
   "nbconvert_exporter": "python",
   "pygments_lexer": "ipython3",
   "version": "3.8.5"
  }
 },
 "nbformat": 4,
 "nbformat_minor": 4
}
