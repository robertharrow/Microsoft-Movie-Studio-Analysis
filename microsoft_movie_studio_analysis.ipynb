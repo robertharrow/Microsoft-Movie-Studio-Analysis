{
 "cells": [
  {
   "cell_type": "markdown",
   "metadata": {},
   "source": [
    "# Exploring Movie Industry Insights for Microsoft Movie Studio\n",
    "\n",
    "## Overview\n",
    "\n",
    "Microsoft sees all the big companies creating original video content and they want to get in on the fun. They have decided to create a new movie studio, but they don’t know anything about creating movies. We are charged with exploring what types of films are currently doing the best at the box office. We must then translate those findings into actionable insights that the head of Microsoft's new movie studio can use to help decide what type of films to create."
   ]
  },
  {
   "cell_type": "markdown",
   "metadata": {},
   "source": [
    "## Business Problem\n",
    "\n",
    "Lorem ipsum dolor sit amet, consectetur adipiscing elit. Maecenas in vulputate orci, eget posuere massa. Cras at lectus vel diam porta viverra. Ut vehicula congue aliquam. Suspendisse finibus risus quis hendrerit rhoncus. Sed euismod semper hendrerit. Sed nec vulputate diam."
   ]
  },
  {
   "cell_type": "markdown",
   "metadata": {},
   "source": [
    "## Data Understanding\n",
    "\n",
    "Lorem ipsum dolor sit amet, consectetur adipiscing elit. Maecenas in vulputate orci, eget posuere massa. Cras at lectus vel diam porta viverra. Ut vehicula congue aliquam. Suspendisse finibus risus quis hendrerit rhoncus. Sed euismod semper hendrerit. Sed nec vulputate diam."
   ]
  },
  {
   "cell_type": "code",
   "execution_count": 1,
   "metadata": {},
   "outputs": [],
   "source": [
    "import pandas as pd\n",
    "import numpy as np\n",
    "import sqlite3"
   ]
  },
  {
   "cell_type": "code",
   "execution_count": 2,
   "metadata": {},
   "outputs": [],
   "source": [
    "# We will be working primairly with three datasets.\n",
    "# The first are easy to import since they are stored as files with comma-seperated values\n",
    "box_office = pd.read_csv('data/bom.movie_gross.csv')\n",
    "movie_budgets = pd.read_csv('data/tn.movie_budgets.csv')"
   ]
  },
  {
   "cell_type": "code",
   "execution_count": 3,
   "metadata": {},
   "outputs": [],
   "source": [
    "# The other data source is a SQLite database from the Internet Movie Database (IMDB).\n",
    "conn = sqlite3.connect('data/im.db')"
   ]
  },
  {
   "cell_type": "code",
   "execution_count": 4,
   "metadata": {},
   "outputs": [
    {
     "name": "stdout",
     "output_type": "stream",
     "text": [
      "<class 'pandas.core.frame.DataFrame'>\n",
      "RangeIndex: 3387 entries, 0 to 3386\n",
      "Data columns (total 5 columns):\n",
      " #   Column          Non-Null Count  Dtype  \n",
      "---  ------          --------------  -----  \n",
      " 0   title           3387 non-null   object \n",
      " 1   studio          3382 non-null   object \n",
      " 2   domestic_gross  3359 non-null   float64\n",
      " 3   foreign_gross   2037 non-null   object \n",
      " 4   year            3387 non-null   int64  \n",
      "dtypes: float64(1), int64(1), object(3)\n",
      "memory usage: 132.4+ KB\n"
     ]
    }
   ],
   "source": [
    "box_office.info()"
   ]
  },
  {
   "cell_type": "code",
   "execution_count": 5,
   "metadata": {},
   "outputs": [
    {
     "name": "stdout",
     "output_type": "stream",
     "text": [
      "<class 'pandas.core.frame.DataFrame'>\n",
      "RangeIndex: 5782 entries, 0 to 5781\n",
      "Data columns (total 6 columns):\n",
      " #   Column             Non-Null Count  Dtype \n",
      "---  ------             --------------  ----- \n",
      " 0   id                 5782 non-null   int64 \n",
      " 1   release_date       5782 non-null   object\n",
      " 2   movie              5782 non-null   object\n",
      " 3   production_budget  5782 non-null   object\n",
      " 4   domestic_gross     5782 non-null   object\n",
      " 5   worldwide_gross    5782 non-null   object\n",
      "dtypes: int64(1), object(5)\n",
      "memory usage: 271.2+ KB\n"
     ]
    }
   ],
   "source": [
    "movie_budgets.info()"
   ]
  },
  {
   "cell_type": "markdown",
   "metadata": {},
   "source": [
    "### The IMDB Data\n",
    "The IMDB data is composed of 8 different tables. Below is its ERD.\n",
    "\n",
    "![IMDB ERD](images/imdb_erd.jpeg)\n",
    "\n",
    "This dataset is the most roboust and likely contains more information than we need. A quick look at the movie_basics table shows us that the dataset contains information on 146,144 unique records between the years of 2010 and 2115 (which is either an error or at the very least something to look into when we do data cleaning).\n",
    "\n",
    "Looking at the other tables in the databse, it looks like we also have information on each movie's: staff (actors, producers, writers, etc.), names of chartacters played by actors, some basic information on the people involved (like birth year and year of death), as well as info on movie ratings."
   ]
  },
  {
   "cell_type": "code",
   "execution_count": 6,
   "metadata": {},
   "outputs": [
    {
     "data": {
      "text/html": [
       "<div>\n",
       "<style scoped>\n",
       "    .dataframe tbody tr th:only-of-type {\n",
       "        vertical-align: middle;\n",
       "    }\n",
       "\n",
       "    .dataframe tbody tr th {\n",
       "        vertical-align: top;\n",
       "    }\n",
       "\n",
       "    .dataframe thead th {\n",
       "        text-align: right;\n",
       "    }\n",
       "</style>\n",
       "<table border=\"1\" class=\"dataframe\">\n",
       "  <thead>\n",
       "    <tr style=\"text-align: right;\">\n",
       "      <th></th>\n",
       "      <th>MIN(start_year)</th>\n",
       "      <th>MAX(start_year)</th>\n",
       "      <th>COUNT(DISTINCT movie_id)</th>\n",
       "    </tr>\n",
       "  </thead>\n",
       "  <tbody>\n",
       "    <tr>\n",
       "      <th>0</th>\n",
       "      <td>2010</td>\n",
       "      <td>2115</td>\n",
       "      <td>146144</td>\n",
       "    </tr>\n",
       "  </tbody>\n",
       "</table>\n",
       "</div>"
      ],
      "text/plain": [
       "   MIN(start_year)  MAX(start_year)  COUNT(DISTINCT movie_id)\n",
       "0             2010             2115                    146144"
      ]
     },
     "execution_count": 6,
     "metadata": {},
     "output_type": "execute_result"
    }
   ],
   "source": [
    "q = \"\"\"\n",
    "SELECT MIN(start_year), MAX(start_year), COUNT(DISTINCT movie_id)\n",
    "FROM movie_basics\n",
    ";\"\"\"\n",
    "\n",
    "pd.read_sql(q, conn)"
   ]
  },
  {
   "cell_type": "code",
   "execution_count": 7,
   "metadata": {},
   "outputs": [
    {
     "data": {
      "text/html": [
       "<div>\n",
       "<style scoped>\n",
       "    .dataframe tbody tr th:only-of-type {\n",
       "        vertical-align: middle;\n",
       "    }\n",
       "\n",
       "    .dataframe tbody tr th {\n",
       "        vertical-align: top;\n",
       "    }\n",
       "\n",
       "    .dataframe thead th {\n",
       "        text-align: right;\n",
       "    }\n",
       "</style>\n",
       "<table border=\"1\" class=\"dataframe\">\n",
       "  <thead>\n",
       "    <tr style=\"text-align: right;\">\n",
       "      <th></th>\n",
       "      <th>primary_title</th>\n",
       "      <th>genres</th>\n",
       "      <th>primary_name</th>\n",
       "    </tr>\n",
       "  </thead>\n",
       "  <tbody>\n",
       "    <tr>\n",
       "      <th>0</th>\n",
       "      <td>Oz the Great and Powerful</td>\n",
       "      <td>Adventure,Family,Fantasy</td>\n",
       "      <td>Sam Raimi</td>\n",
       "    </tr>\n",
       "  </tbody>\n",
       "</table>\n",
       "</div>"
      ],
      "text/plain": [
       "               primary_title                    genres primary_name\n",
       "0  Oz the Great and Powerful  Adventure,Family,Fantasy    Sam Raimi"
      ]
     },
     "execution_count": 7,
     "metadata": {},
     "output_type": "execute_result"
    }
   ],
   "source": [
    "q = \"\"\"\n",
    "SELECT primary_title, genres, primary_name\n",
    "FROM movie_basics\n",
    "JOIN directors\n",
    "USING(movie_id)\n",
    "JOIN persons\n",
    "USING(person_id)\n",
    "WHERE start_year BETWEEN 2000 AND 2020\n",
    "AND primary_name == 'Sam Raimi'\n",
    "GROUP BY movie_id\n",
    ";\"\"\"\n",
    "\n",
    "pd.read_sql(q, conn)"
   ]
  },
  {
   "cell_type": "markdown",
   "metadata": {},
   "source": [
    "### Box Office Data\n",
    "\n",
    "The box office comes from Box Office Mojo. It contains records on 3,386 unique movie titles between the years of 2010 and 2018. For each movie, it provides us with the movie's title, the studio which produced it, the domestic box office gross earnings, foreign box office gross earnings and the year of release."
   ]
  },
  {
   "cell_type": "code",
   "execution_count": 8,
   "metadata": {},
   "outputs": [
    {
     "data": {
      "text/html": [
       "<div>\n",
       "<style scoped>\n",
       "    .dataframe tbody tr th:only-of-type {\n",
       "        vertical-align: middle;\n",
       "    }\n",
       "\n",
       "    .dataframe tbody tr th {\n",
       "        vertical-align: top;\n",
       "    }\n",
       "\n",
       "    .dataframe thead th {\n",
       "        text-align: right;\n",
       "    }\n",
       "</style>\n",
       "<table border=\"1\" class=\"dataframe\">\n",
       "  <thead>\n",
       "    <tr style=\"text-align: right;\">\n",
       "      <th></th>\n",
       "      <th>title</th>\n",
       "      <th>studio</th>\n",
       "      <th>domestic_gross</th>\n",
       "      <th>foreign_gross</th>\n",
       "      <th>year</th>\n",
       "    </tr>\n",
       "  </thead>\n",
       "  <tbody>\n",
       "    <tr>\n",
       "      <th>0</th>\n",
       "      <td>Toy Story 3</td>\n",
       "      <td>BV</td>\n",
       "      <td>415000000.0</td>\n",
       "      <td>652000000</td>\n",
       "      <td>2010</td>\n",
       "    </tr>\n",
       "    <tr>\n",
       "      <th>1</th>\n",
       "      <td>Alice in Wonderland (2010)</td>\n",
       "      <td>BV</td>\n",
       "      <td>334200000.0</td>\n",
       "      <td>691300000</td>\n",
       "      <td>2010</td>\n",
       "    </tr>\n",
       "    <tr>\n",
       "      <th>2</th>\n",
       "      <td>Harry Potter and the Deathly Hallows Part 1</td>\n",
       "      <td>WB</td>\n",
       "      <td>296000000.0</td>\n",
       "      <td>664300000</td>\n",
       "      <td>2010</td>\n",
       "    </tr>\n",
       "    <tr>\n",
       "      <th>3</th>\n",
       "      <td>Inception</td>\n",
       "      <td>WB</td>\n",
       "      <td>292600000.0</td>\n",
       "      <td>535700000</td>\n",
       "      <td>2010</td>\n",
       "    </tr>\n",
       "    <tr>\n",
       "      <th>4</th>\n",
       "      <td>Shrek Forever After</td>\n",
       "      <td>P/DW</td>\n",
       "      <td>238700000.0</td>\n",
       "      <td>513900000</td>\n",
       "      <td>2010</td>\n",
       "    </tr>\n",
       "  </tbody>\n",
       "</table>\n",
       "</div>"
      ],
      "text/plain": [
       "                                         title studio  domestic_gross  \\\n",
       "0                                  Toy Story 3     BV     415000000.0   \n",
       "1                   Alice in Wonderland (2010)     BV     334200000.0   \n",
       "2  Harry Potter and the Deathly Hallows Part 1     WB     296000000.0   \n",
       "3                                    Inception     WB     292600000.0   \n",
       "4                          Shrek Forever After   P/DW     238700000.0   \n",
       "\n",
       "  foreign_gross  year  \n",
       "0     652000000  2010  \n",
       "1     691300000  2010  \n",
       "2     664300000  2010  \n",
       "3     535700000  2010  \n",
       "4     513900000  2010  "
      ]
     },
     "execution_count": 8,
     "metadata": {},
     "output_type": "execute_result"
    }
   ],
   "source": [
    "box_office.head()"
   ]
  },
  {
   "cell_type": "code",
   "execution_count": 9,
   "metadata": {},
   "outputs": [
    {
     "name": "stdout",
     "output_type": "stream",
     "text": [
      "The data sets begins in the year: 2010\n",
      "The dataset contains data on movies through the year:  2018\n"
     ]
    },
    {
     "data": {
      "text/html": [
       "<div>\n",
       "<style scoped>\n",
       "    .dataframe tbody tr th:only-of-type {\n",
       "        vertical-align: middle;\n",
       "    }\n",
       "\n",
       "    .dataframe tbody tr th {\n",
       "        vertical-align: top;\n",
       "    }\n",
       "\n",
       "    .dataframe thead th {\n",
       "        text-align: right;\n",
       "    }\n",
       "</style>\n",
       "<table border=\"1\" class=\"dataframe\">\n",
       "  <thead>\n",
       "    <tr style=\"text-align: right;\">\n",
       "      <th></th>\n",
       "      <th>title</th>\n",
       "      <th>domestic_gross</th>\n",
       "      <th>foreign_gross</th>\n",
       "      <th>year</th>\n",
       "    </tr>\n",
       "    <tr>\n",
       "      <th>studio</th>\n",
       "      <th></th>\n",
       "      <th></th>\n",
       "      <th></th>\n",
       "      <th></th>\n",
       "    </tr>\n",
       "  </thead>\n",
       "  <tbody>\n",
       "    <tr>\n",
       "      <th>3D</th>\n",
       "      <td>1</td>\n",
       "      <td>1</td>\n",
       "      <td>1</td>\n",
       "      <td>1</td>\n",
       "    </tr>\n",
       "    <tr>\n",
       "      <th>A23</th>\n",
       "      <td>2</td>\n",
       "      <td>2</td>\n",
       "      <td>0</td>\n",
       "      <td>2</td>\n",
       "    </tr>\n",
       "    <tr>\n",
       "      <th>A24</th>\n",
       "      <td>49</td>\n",
       "      <td>49</td>\n",
       "      <td>19</td>\n",
       "      <td>49</td>\n",
       "    </tr>\n",
       "    <tr>\n",
       "      <th>ADC</th>\n",
       "      <td>2</td>\n",
       "      <td>2</td>\n",
       "      <td>0</td>\n",
       "      <td>2</td>\n",
       "    </tr>\n",
       "    <tr>\n",
       "      <th>AF</th>\n",
       "      <td>6</td>\n",
       "      <td>6</td>\n",
       "      <td>2</td>\n",
       "      <td>6</td>\n",
       "    </tr>\n",
       "    <tr>\n",
       "      <th>...</th>\n",
       "      <td>...</td>\n",
       "      <td>...</td>\n",
       "      <td>...</td>\n",
       "      <td>...</td>\n",
       "    </tr>\n",
       "    <tr>\n",
       "      <th>XL</th>\n",
       "      <td>2</td>\n",
       "      <td>2</td>\n",
       "      <td>0</td>\n",
       "      <td>2</td>\n",
       "    </tr>\n",
       "    <tr>\n",
       "      <th>YFG</th>\n",
       "      <td>1</td>\n",
       "      <td>1</td>\n",
       "      <td>0</td>\n",
       "      <td>1</td>\n",
       "    </tr>\n",
       "    <tr>\n",
       "      <th>Yash</th>\n",
       "      <td>14</td>\n",
       "      <td>13</td>\n",
       "      <td>7</td>\n",
       "      <td>14</td>\n",
       "    </tr>\n",
       "    <tr>\n",
       "      <th>Zee</th>\n",
       "      <td>1</td>\n",
       "      <td>1</td>\n",
       "      <td>1</td>\n",
       "      <td>1</td>\n",
       "    </tr>\n",
       "    <tr>\n",
       "      <th>Zeit.</th>\n",
       "      <td>16</td>\n",
       "      <td>16</td>\n",
       "      <td>5</td>\n",
       "      <td>16</td>\n",
       "    </tr>\n",
       "  </tbody>\n",
       "</table>\n",
       "<p>257 rows × 4 columns</p>\n",
       "</div>"
      ],
      "text/plain": [
       "        title  domestic_gross  foreign_gross  year\n",
       "studio                                            \n",
       "3D          1               1              1     1\n",
       "A23         2               2              0     2\n",
       "A24        49              49             19    49\n",
       "ADC         2               2              0     2\n",
       "AF          6               6              2     6\n",
       "...       ...             ...            ...   ...\n",
       "XL          2               2              0     2\n",
       "YFG         1               1              0     1\n",
       "Yash       14              13              7    14\n",
       "Zee         1               1              1     1\n",
       "Zeit.      16              16              5    16\n",
       "\n",
       "[257 rows x 4 columns]"
      ]
     },
     "execution_count": 9,
     "metadata": {},
     "output_type": "execute_result"
    }
   ],
   "source": [
    "# Get the range of years in the box office dataset\n",
    "\n",
    "print('The data sets begins in the year:', box_office['year'].min())\n",
    "print('The dataset contains data on movies through the year: ', box_office['year'].max())\n",
    "\n",
    "box_office.groupby('studio').count()"
   ]
  },
  {
   "cell_type": "code",
   "execution_count": 10,
   "metadata": {},
   "outputs": [
    {
     "data": {
      "text/plain": [
       "3386"
      ]
     },
     "execution_count": 10,
     "metadata": {},
     "output_type": "execute_result"
    }
   ],
   "source": [
    "# How many unique movies titles are in the dataset?\n",
    "box_office['title'].nunique()"
   ]
  },
  {
   "cell_type": "markdown",
   "metadata": {},
   "source": [
    "### Movie Budgets Data\n",
    "\n",
    "The movie budgets data comes from The-Numbers.com. It contains records on 5,698 unique movie titles between the years of 1915 and 2020. For each movie, it provides us with the movie's release date, its title, its production budget, and its foreign and domestic box office earnings."
   ]
  },
  {
   "cell_type": "code",
   "execution_count": 11,
   "metadata": {},
   "outputs": [
    {
     "data": {
      "text/html": [
       "<div>\n",
       "<style scoped>\n",
       "    .dataframe tbody tr th:only-of-type {\n",
       "        vertical-align: middle;\n",
       "    }\n",
       "\n",
       "    .dataframe tbody tr th {\n",
       "        vertical-align: top;\n",
       "    }\n",
       "\n",
       "    .dataframe thead th {\n",
       "        text-align: right;\n",
       "    }\n",
       "</style>\n",
       "<table border=\"1\" class=\"dataframe\">\n",
       "  <thead>\n",
       "    <tr style=\"text-align: right;\">\n",
       "      <th></th>\n",
       "      <th>id</th>\n",
       "      <th>release_date</th>\n",
       "      <th>movie</th>\n",
       "      <th>production_budget</th>\n",
       "      <th>domestic_gross</th>\n",
       "      <th>worldwide_gross</th>\n",
       "    </tr>\n",
       "  </thead>\n",
       "  <tbody>\n",
       "    <tr>\n",
       "      <th>0</th>\n",
       "      <td>1</td>\n",
       "      <td>Dec 18, 2009</td>\n",
       "      <td>Avatar</td>\n",
       "      <td>$425,000,000</td>\n",
       "      <td>$760,507,625</td>\n",
       "      <td>$2,776,345,279</td>\n",
       "    </tr>\n",
       "    <tr>\n",
       "      <th>1</th>\n",
       "      <td>2</td>\n",
       "      <td>May 20, 2011</td>\n",
       "      <td>Pirates of the Caribbean: On Stranger Tides</td>\n",
       "      <td>$410,600,000</td>\n",
       "      <td>$241,063,875</td>\n",
       "      <td>$1,045,663,875</td>\n",
       "    </tr>\n",
       "    <tr>\n",
       "      <th>2</th>\n",
       "      <td>3</td>\n",
       "      <td>Jun 7, 2019</td>\n",
       "      <td>Dark Phoenix</td>\n",
       "      <td>$350,000,000</td>\n",
       "      <td>$42,762,350</td>\n",
       "      <td>$149,762,350</td>\n",
       "    </tr>\n",
       "    <tr>\n",
       "      <th>3</th>\n",
       "      <td>4</td>\n",
       "      <td>May 1, 2015</td>\n",
       "      <td>Avengers: Age of Ultron</td>\n",
       "      <td>$330,600,000</td>\n",
       "      <td>$459,005,868</td>\n",
       "      <td>$1,403,013,963</td>\n",
       "    </tr>\n",
       "    <tr>\n",
       "      <th>4</th>\n",
       "      <td>5</td>\n",
       "      <td>Dec 15, 2017</td>\n",
       "      <td>Star Wars Ep. VIII: The Last Jedi</td>\n",
       "      <td>$317,000,000</td>\n",
       "      <td>$620,181,382</td>\n",
       "      <td>$1,316,721,747</td>\n",
       "    </tr>\n",
       "  </tbody>\n",
       "</table>\n",
       "</div>"
      ],
      "text/plain": [
       "   id  release_date                                        movie  \\\n",
       "0   1  Dec 18, 2009                                       Avatar   \n",
       "1   2  May 20, 2011  Pirates of the Caribbean: On Stranger Tides   \n",
       "2   3   Jun 7, 2019                                 Dark Phoenix   \n",
       "3   4   May 1, 2015                      Avengers: Age of Ultron   \n",
       "4   5  Dec 15, 2017            Star Wars Ep. VIII: The Last Jedi   \n",
       "\n",
       "  production_budget domestic_gross worldwide_gross  \n",
       "0      $425,000,000   $760,507,625  $2,776,345,279  \n",
       "1      $410,600,000   $241,063,875  $1,045,663,875  \n",
       "2      $350,000,000    $42,762,350    $149,762,350  \n",
       "3      $330,600,000   $459,005,868  $1,403,013,963  \n",
       "4      $317,000,000   $620,181,382  $1,316,721,747  "
      ]
     },
     "execution_count": 11,
     "metadata": {},
     "output_type": "execute_result"
    }
   ],
   "source": [
    "movie_budgets.head()"
   ]
  },
  {
   "cell_type": "code",
   "execution_count": 12,
   "metadata": {},
   "outputs": [
    {
     "data": {
      "text/plain": [
       "5698"
      ]
     },
     "execution_count": 12,
     "metadata": {},
     "output_type": "execute_result"
    }
   ],
   "source": [
    "# How many unique movies titles are in the dataset?\n",
    "movie_budgets['movie'].nunique()"
   ]
  },
  {
   "cell_type": "code",
   "execution_count": 13,
   "metadata": {},
   "outputs": [
    {
     "name": "stdout",
     "output_type": "stream",
     "text": [
      "The data sets begins in the year: 1915\n",
      "The dataset contains data on movies through the year:  2020\n"
     ]
    }
   ],
   "source": [
    "# Get the range of years in the box office dataset\n",
    "\n",
    "movie_budgets['year'] = movie_budgets['release_date'].str[-4:]\n",
    "\n",
    "print('The data sets begins in the year:', movie_budgets['year'].min())\n",
    "print('The dataset contains data on movies through the year: ', movie_budgets['year'].max())"
   ]
  },
  {
   "cell_type": "markdown",
   "metadata": {},
   "source": [
    "## Data Preperation\n",
    "\n",
    "Lorem ipsum dolor sit amet, consectetur adipiscing elit. Maecenas in vulputate orci, eget posuere massa. Cras at lectus vel diam porta viverra. Ut vehicula congue aliquam. Suspendisse finibus risus quis hendrerit rhoncus. Sed euismod semper hendrerit. Sed nec vulputate diam.\n",
    "\n",
    "### Data Cleaning\n",
    "Lorem ipsum dolor sit amet, consectetur adipiscing elit.\n",
    "\n",
    "Looking at the box_office dataset first, it looks like there are some missing values. The movie studio is missing on X records, domestic_gross is missing on 28 records and foreign_gross is missing on 1,350 records."
   ]
  },
  {
   "cell_type": "code",
   "execution_count": 14,
   "metadata": {},
   "outputs": [
    {
     "data": {
      "text/plain": [
       "title                0\n",
       "studio               5\n",
       "domestic_gross      28\n",
       "foreign_gross     1350\n",
       "year                 0\n",
       "dtype: int64"
      ]
     },
     "execution_count": 14,
     "metadata": {},
     "output_type": "execute_result"
    }
   ],
   "source": [
    "box_office.isna().sum()"
   ]
  },
  {
   "cell_type": "markdown",
   "metadata": {},
   "source": [
    "The missing studio and domestic_gross records are small. If we had to drop them it wouldn't make much of a difference.\n",
    "However, we are missing foreign_gross on a substantial chunk of the dataset so it's worth taking a closer look at those values."
   ]
  },
  {
   "cell_type": "code",
   "execution_count": 15,
   "metadata": {},
   "outputs": [
    {
     "data": {
      "text/html": [
       "<div>\n",
       "<style scoped>\n",
       "    .dataframe tbody tr th:only-of-type {\n",
       "        vertical-align: middle;\n",
       "    }\n",
       "\n",
       "    .dataframe tbody tr th {\n",
       "        vertical-align: top;\n",
       "    }\n",
       "\n",
       "    .dataframe thead th {\n",
       "        text-align: right;\n",
       "    }\n",
       "</style>\n",
       "<table border=\"1\" class=\"dataframe\">\n",
       "  <thead>\n",
       "    <tr style=\"text-align: right;\">\n",
       "      <th></th>\n",
       "      <th>title</th>\n",
       "      <th>studio</th>\n",
       "      <th>domestic_gross</th>\n",
       "      <th>foreign_gross</th>\n",
       "      <th>year</th>\n",
       "    </tr>\n",
       "  </thead>\n",
       "  <tbody>\n",
       "    <tr>\n",
       "      <th>222</th>\n",
       "      <td>Flipped</td>\n",
       "      <td>WB</td>\n",
       "      <td>1800000.0</td>\n",
       "      <td>NaN</td>\n",
       "      <td>2010</td>\n",
       "    </tr>\n",
       "    <tr>\n",
       "      <th>254</th>\n",
       "      <td>The Polar Express (IMAX re-issue 2010)</td>\n",
       "      <td>WB</td>\n",
       "      <td>673000.0</td>\n",
       "      <td>NaN</td>\n",
       "      <td>2010</td>\n",
       "    </tr>\n",
       "    <tr>\n",
       "      <th>267</th>\n",
       "      <td>Tiny Furniture</td>\n",
       "      <td>IFC</td>\n",
       "      <td>392000.0</td>\n",
       "      <td>NaN</td>\n",
       "      <td>2010</td>\n",
       "    </tr>\n",
       "    <tr>\n",
       "      <th>269</th>\n",
       "      <td>Grease (Sing-a-Long re-issue)</td>\n",
       "      <td>Par.</td>\n",
       "      <td>366000.0</td>\n",
       "      <td>NaN</td>\n",
       "      <td>2010</td>\n",
       "    </tr>\n",
       "    <tr>\n",
       "      <th>280</th>\n",
       "      <td>Last Train Home</td>\n",
       "      <td>Zeit.</td>\n",
       "      <td>288000.0</td>\n",
       "      <td>NaN</td>\n",
       "      <td>2010</td>\n",
       "    </tr>\n",
       "    <tr>\n",
       "      <th>...</th>\n",
       "      <td>...</td>\n",
       "      <td>...</td>\n",
       "      <td>...</td>\n",
       "      <td>...</td>\n",
       "      <td>...</td>\n",
       "    </tr>\n",
       "    <tr>\n",
       "      <th>3382</th>\n",
       "      <td>The Quake</td>\n",
       "      <td>Magn.</td>\n",
       "      <td>6200.0</td>\n",
       "      <td>NaN</td>\n",
       "      <td>2018</td>\n",
       "    </tr>\n",
       "    <tr>\n",
       "      <th>3383</th>\n",
       "      <td>Edward II (2018 re-release)</td>\n",
       "      <td>FM</td>\n",
       "      <td>4800.0</td>\n",
       "      <td>NaN</td>\n",
       "      <td>2018</td>\n",
       "    </tr>\n",
       "    <tr>\n",
       "      <th>3384</th>\n",
       "      <td>El Pacto</td>\n",
       "      <td>Sony</td>\n",
       "      <td>2500.0</td>\n",
       "      <td>NaN</td>\n",
       "      <td>2018</td>\n",
       "    </tr>\n",
       "    <tr>\n",
       "      <th>3385</th>\n",
       "      <td>The Swan</td>\n",
       "      <td>Synergetic</td>\n",
       "      <td>2400.0</td>\n",
       "      <td>NaN</td>\n",
       "      <td>2018</td>\n",
       "    </tr>\n",
       "    <tr>\n",
       "      <th>3386</th>\n",
       "      <td>An Actor Prepares</td>\n",
       "      <td>Grav.</td>\n",
       "      <td>1700.0</td>\n",
       "      <td>NaN</td>\n",
       "      <td>2018</td>\n",
       "    </tr>\n",
       "  </tbody>\n",
       "</table>\n",
       "<p>1350 rows × 5 columns</p>\n",
       "</div>"
      ],
      "text/plain": [
       "                                       title      studio  domestic_gross  \\\n",
       "222                                  Flipped          WB       1800000.0   \n",
       "254   The Polar Express (IMAX re-issue 2010)          WB        673000.0   \n",
       "267                           Tiny Furniture         IFC        392000.0   \n",
       "269            Grease (Sing-a-Long re-issue)        Par.        366000.0   \n",
       "280                          Last Train Home       Zeit.        288000.0   \n",
       "...                                      ...         ...             ...   \n",
       "3382                               The Quake       Magn.          6200.0   \n",
       "3383             Edward II (2018 re-release)          FM          4800.0   \n",
       "3384                                El Pacto        Sony          2500.0   \n",
       "3385                                The Swan  Synergetic          2400.0   \n",
       "3386                       An Actor Prepares       Grav.          1700.0   \n",
       "\n",
       "     foreign_gross  year  \n",
       "222            NaN  2010  \n",
       "254            NaN  2010  \n",
       "267            NaN  2010  \n",
       "269            NaN  2010  \n",
       "280            NaN  2010  \n",
       "...            ...   ...  \n",
       "3382           NaN  2018  \n",
       "3383           NaN  2018  \n",
       "3384           NaN  2018  \n",
       "3385           NaN  2018  \n",
       "3386           NaN  2018  \n",
       "\n",
       "[1350 rows x 5 columns]"
      ]
     },
     "execution_count": 15,
     "metadata": {},
     "output_type": "execute_result"
    }
   ],
   "source": [
    "box_office[box_office['foreign_gross'].isna()]"
   ]
  },
  {
   "cell_type": "markdown",
   "metadata": {},
   "source": [
    "Taking 'Flipped' as an example, it looks like this data is really missing. Looking at The Numbers website for this movie it DID get a international release. Furthermore, if we look at the same movie in our movie_budgets dataset, we can see complete data there. Moreover, the data on domestic and foreign gross here looks more precise and appears to be rounded in the box_office dataset. Because of that, we can just rely on data on worldwide gorss sales using the movie_budgets source. We will use box_office just to get the studio names for each movie."
   ]
  },
  {
   "cell_type": "code",
   "execution_count": 16,
   "metadata": {},
   "outputs": [
    {
     "data": {
      "text/html": [
       "<div>\n",
       "<style scoped>\n",
       "    .dataframe tbody tr th:only-of-type {\n",
       "        vertical-align: middle;\n",
       "    }\n",
       "\n",
       "    .dataframe tbody tr th {\n",
       "        vertical-align: top;\n",
       "    }\n",
       "\n",
       "    .dataframe thead th {\n",
       "        text-align: right;\n",
       "    }\n",
       "</style>\n",
       "<table border=\"1\" class=\"dataframe\">\n",
       "  <thead>\n",
       "    <tr style=\"text-align: right;\">\n",
       "      <th></th>\n",
       "      <th>id</th>\n",
       "      <th>release_date</th>\n",
       "      <th>movie</th>\n",
       "      <th>production_budget</th>\n",
       "      <th>domestic_gross</th>\n",
       "      <th>worldwide_gross</th>\n",
       "      <th>year</th>\n",
       "    </tr>\n",
       "  </thead>\n",
       "  <tbody>\n",
       "    <tr>\n",
       "      <th>3221</th>\n",
       "      <td>22</td>\n",
       "      <td>Aug 6, 2010</td>\n",
       "      <td>Flipped</td>\n",
       "      <td>$14,000,000</td>\n",
       "      <td>$1,755,212</td>\n",
       "      <td>$4,289,993</td>\n",
       "      <td>2010</td>\n",
       "    </tr>\n",
       "  </tbody>\n",
       "</table>\n",
       "</div>"
      ],
      "text/plain": [
       "      id release_date    movie production_budget domestic_gross  \\\n",
       "3221  22  Aug 6, 2010  Flipped       $14,000,000     $1,755,212   \n",
       "\n",
       "     worldwide_gross  year  \n",
       "3221      $4,289,993  2010  "
      ]
     },
     "execution_count": 16,
     "metadata": {},
     "output_type": "execute_result"
    }
   ],
   "source": [
    "movie_budgets[movie_budgets['movie'].str.contains(\"Flipped\")]"
   ]
  },
  {
   "cell_type": "markdown",
   "metadata": {},
   "source": [
    "Next, the box_office title column also contains some entries that aren't the film's title. For example, Alice in Wonderland (2010) has '(2010)' in the title despite it not being part of the original title. We want to find those instances and clean them up."
   ]
  },
  {
   "cell_type": "code",
   "execution_count": 17,
   "metadata": {},
   "outputs": [],
   "source": [
    "replacement = ['\\(2010\\)','\\(2011\\)','\\(2012\\)','\\(2013\\)','\\(2014\\)','\\(2015\\)','\\(2016\\)','\\(2017\\)','\\(2018\\)',]\n",
    "box_office['title'] = box_office['title'].replace(replacement,\"\", regex=True)\n",
    "box_office[['title_cleaned','title_notes']] = box_office.title.str.split(pat='\\(',expand=True)\n",
    "\n",
    "# I will also run a strip just in case we were left with any unwanted whitespace after the last operation\n",
    "\n",
    "box_office['title_cleaned'] = box_office['title_cleaned'].str.strip()"
   ]
  },
  {
   "cell_type": "markdown",
   "metadata": {},
   "source": [
    "Let's take a closer look at movie_budgets next. Initially, it looks like the dataset has no misisng values. However, just because it doesn't have Null values doesn't mean some values don't have a placeholder. So we'll investigate this dataset more closely."
   ]
  },
  {
   "cell_type": "code",
   "execution_count": 18,
   "metadata": {},
   "outputs": [
    {
     "data": {
      "text/plain": [
       "$0             367\n",
       "$8,000,000       9\n",
       "$7,000,000       6\n",
       "$2,000,000       6\n",
       "$9,000,000       4\n",
       "              ... \n",
       "$3,330,012       1\n",
       "$20,400,000      1\n",
       "$97,778,356      1\n",
       "$2,243           1\n",
       "$57,577,765      1\n",
       "Name: worldwide_gross, Length: 5356, dtype: int64"
      ]
     },
     "execution_count": 18,
     "metadata": {},
     "output_type": "execute_result"
    }
   ],
   "source": [
    "movie_budgets['worldwide_gross'].value_counts().sort_values(ascending=False)"
   ]
  },
  {
   "cell_type": "markdown",
   "metadata": {},
   "source": [
    "worldwide_gross has 367 occourances of $0. That's the only unusual high count occourance. Let's take a look at those records.\n",
    "\n",
    "Before we do that, it will be helpful to convert the values in these numeric columns from objects to floats."
   ]
  },
  {
   "cell_type": "code",
   "execution_count": 19,
   "metadata": {},
   "outputs": [
    {
     "data": {
      "text/html": [
       "<div>\n",
       "<style scoped>\n",
       "    .dataframe tbody tr th:only-of-type {\n",
       "        vertical-align: middle;\n",
       "    }\n",
       "\n",
       "    .dataframe tbody tr th {\n",
       "        vertical-align: top;\n",
       "    }\n",
       "\n",
       "    .dataframe thead th {\n",
       "        text-align: right;\n",
       "    }\n",
       "</style>\n",
       "<table border=\"1\" class=\"dataframe\">\n",
       "  <thead>\n",
       "    <tr style=\"text-align: right;\">\n",
       "      <th></th>\n",
       "      <th>id</th>\n",
       "      <th>release_date</th>\n",
       "      <th>movie</th>\n",
       "      <th>production_budget</th>\n",
       "      <th>domestic_gross</th>\n",
       "      <th>worldwide_gross</th>\n",
       "      <th>year</th>\n",
       "    </tr>\n",
       "  </thead>\n",
       "  <tbody>\n",
       "    <tr>\n",
       "      <th>194</th>\n",
       "      <td>95</td>\n",
       "      <td>Dec 31, 2020</td>\n",
       "      <td>Moonfall</td>\n",
       "      <td>150000000.0</td>\n",
       "      <td>0.0</td>\n",
       "      <td>0.0</td>\n",
       "      <td>2020.0</td>\n",
       "    </tr>\n",
       "    <tr>\n",
       "      <th>479</th>\n",
       "      <td>80</td>\n",
       "      <td>Dec 13, 2017</td>\n",
       "      <td>Bright</td>\n",
       "      <td>90000000.0</td>\n",
       "      <td>0.0</td>\n",
       "      <td>0.0</td>\n",
       "      <td>2017.0</td>\n",
       "    </tr>\n",
       "    <tr>\n",
       "      <th>480</th>\n",
       "      <td>81</td>\n",
       "      <td>Dec 31, 2019</td>\n",
       "      <td>Army of the Dead</td>\n",
       "      <td>90000000.0</td>\n",
       "      <td>0.0</td>\n",
       "      <td>0.0</td>\n",
       "      <td>2019.0</td>\n",
       "    </tr>\n",
       "    <tr>\n",
       "      <th>535</th>\n",
       "      <td>36</td>\n",
       "      <td>Feb 21, 2020</td>\n",
       "      <td>Call of the Wild</td>\n",
       "      <td>82000000.0</td>\n",
       "      <td>0.0</td>\n",
       "      <td>0.0</td>\n",
       "      <td>2020.0</td>\n",
       "    </tr>\n",
       "    <tr>\n",
       "      <th>670</th>\n",
       "      <td>71</td>\n",
       "      <td>Aug 30, 2019</td>\n",
       "      <td>PLAYMOBIL</td>\n",
       "      <td>75000000.0</td>\n",
       "      <td>0.0</td>\n",
       "      <td>0.0</td>\n",
       "      <td>2019.0</td>\n",
       "    </tr>\n",
       "    <tr>\n",
       "      <th>...</th>\n",
       "      <td>...</td>\n",
       "      <td>...</td>\n",
       "      <td>...</td>\n",
       "      <td>...</td>\n",
       "      <td>...</td>\n",
       "      <td>...</td>\n",
       "      <td>...</td>\n",
       "    </tr>\n",
       "    <tr>\n",
       "      <th>5761</th>\n",
       "      <td>62</td>\n",
       "      <td>Dec 31, 2014</td>\n",
       "      <td>Stories of Our Lives</td>\n",
       "      <td>15000.0</td>\n",
       "      <td>0.0</td>\n",
       "      <td>0.0</td>\n",
       "      <td>2014.0</td>\n",
       "    </tr>\n",
       "    <tr>\n",
       "      <th>5764</th>\n",
       "      <td>65</td>\n",
       "      <td>Dec 31, 2007</td>\n",
       "      <td>Tin Can Man</td>\n",
       "      <td>12000.0</td>\n",
       "      <td>0.0</td>\n",
       "      <td>0.0</td>\n",
       "      <td>2007.0</td>\n",
       "    </tr>\n",
       "    <tr>\n",
       "      <th>5771</th>\n",
       "      <td>72</td>\n",
       "      <td>May 19, 2015</td>\n",
       "      <td>Family Motocross</td>\n",
       "      <td>10000.0</td>\n",
       "      <td>0.0</td>\n",
       "      <td>0.0</td>\n",
       "      <td>2015.0</td>\n",
       "    </tr>\n",
       "    <tr>\n",
       "      <th>5777</th>\n",
       "      <td>78</td>\n",
       "      <td>Dec 31, 2018</td>\n",
       "      <td>Red 11</td>\n",
       "      <td>7000.0</td>\n",
       "      <td>0.0</td>\n",
       "      <td>0.0</td>\n",
       "      <td>2018.0</td>\n",
       "    </tr>\n",
       "    <tr>\n",
       "      <th>5780</th>\n",
       "      <td>81</td>\n",
       "      <td>Sep 29, 2015</td>\n",
       "      <td>A Plague So Pleasant</td>\n",
       "      <td>1400.0</td>\n",
       "      <td>0.0</td>\n",
       "      <td>0.0</td>\n",
       "      <td>2015.0</td>\n",
       "    </tr>\n",
       "  </tbody>\n",
       "</table>\n",
       "<p>367 rows × 7 columns</p>\n",
       "</div>"
      ],
      "text/plain": [
       "      id  release_date                 movie  production_budget  \\\n",
       "194   95  Dec 31, 2020              Moonfall        150000000.0   \n",
       "479   80  Dec 13, 2017                Bright         90000000.0   \n",
       "480   81  Dec 31, 2019      Army of the Dead         90000000.0   \n",
       "535   36  Feb 21, 2020      Call of the Wild         82000000.0   \n",
       "670   71  Aug 30, 2019             PLAYMOBIL         75000000.0   \n",
       "...   ..           ...                   ...                ...   \n",
       "5761  62  Dec 31, 2014  Stories of Our Lives            15000.0   \n",
       "5764  65  Dec 31, 2007           Tin Can Man            12000.0   \n",
       "5771  72  May 19, 2015      Family Motocross            10000.0   \n",
       "5777  78  Dec 31, 2018                Red 11             7000.0   \n",
       "5780  81  Sep 29, 2015  A Plague So Pleasant             1400.0   \n",
       "\n",
       "      domestic_gross  worldwide_gross    year  \n",
       "194              0.0              0.0  2020.0  \n",
       "479              0.0              0.0  2017.0  \n",
       "480              0.0              0.0  2019.0  \n",
       "535              0.0              0.0  2020.0  \n",
       "670              0.0              0.0  2019.0  \n",
       "...              ...              ...     ...  \n",
       "5761             0.0              0.0  2014.0  \n",
       "5764             0.0              0.0  2007.0  \n",
       "5771             0.0              0.0  2015.0  \n",
       "5777             0.0              0.0  2018.0  \n",
       "5780             0.0              0.0  2015.0  \n",
       "\n",
       "[367 rows x 7 columns]"
      ]
     },
     "execution_count": 19,
     "metadata": {},
     "output_type": "execute_result"
    }
   ],
   "source": [
    "movie_budgets[movie_budgets.columns[3:]] = movie_budgets[movie_budgets.columns[3:]].replace('[\\$,]', '', regex=True).astype(float)\n",
    "\n",
    "# Now let's look at those records where the worldwide_gross is equal to 0\n",
    "\n",
    "movie_budgets_zero = movie_budgets.loc[movie_budgets['worldwide_gross'] == 0]\n",
    "\n",
    "movie_budgets_zero"
   ]
  },
  {
   "cell_type": "markdown",
   "metadata": {},
   "source": [
    "Some of the above results are streaming releases, meaning they never had a box office. There, a value of 0 makes sense. This applies, for example, to Bright. However, for other movies the data is just missing. For example, a quick search shows that Army of the Dead (released Dec 31, 2019) made $1 million at the Box Offce.\n",
    "\n",
    "Since this is just 367 rows out of 5,782 I'm deciding to simply drop these values. Lastly, I also rename the column \"movie\" to \"title\" so that it more closely matches the other dataframes we're working with."
   ]
  },
  {
   "cell_type": "code",
   "execution_count": 20,
   "metadata": {},
   "outputs": [
    {
     "name": "stdout",
     "output_type": "stream",
     "text": [
      "<class 'pandas.core.frame.DataFrame'>\n",
      "Int64Index: 5415 entries, 0 to 5781\n",
      "Data columns (total 7 columns):\n",
      " #   Column             Non-Null Count  Dtype  \n",
      "---  ------             --------------  -----  \n",
      " 0   id                 5415 non-null   int64  \n",
      " 1   release_date       5415 non-null   object \n",
      " 2   movie              5415 non-null   object \n",
      " 3   production_budget  5415 non-null   float64\n",
      " 4   domestic_gross     5415 non-null   float64\n",
      " 5   worldwide_gross    5415 non-null   float64\n",
      " 6   year               5415 non-null   float64\n",
      "dtypes: float64(4), int64(1), object(2)\n",
      "memory usage: 338.4+ KB\n"
     ]
    }
   ],
   "source": [
    "# movie_budgets_clean = movie_budgets[movie_budgets['worldwide_gross'] > 0]\n",
    "movie_budgets.drop(movie_budgets[movie_budgets.worldwide_gross == 0].index, inplace=True)\n",
    "movie_budgets.info()"
   ]
  },
  {
   "cell_type": "markdown",
   "metadata": {},
   "source": [
    "### Merging Data Sets\n",
    "The three data sources we want to merge do not have a common key. Therefore we need to create one.\n",
    "\n",
    "While movie titles may repeat, it's rarer for a movie title to repeat within the same year. So, we will create a dataframe using a Title/Year pairing.\n",
    "\n",
    "Because movie_budgets has the most relevant information we're after about a movie's performence (its budget and revenue) we will join the other data sources onto it."
   ]
  },
  {
   "cell_type": "code",
   "execution_count": 21,
   "metadata": {},
   "outputs": [
    {
     "data": {
      "text/html": [
       "<div>\n",
       "<style scoped>\n",
       "    .dataframe tbody tr th:only-of-type {\n",
       "        vertical-align: middle;\n",
       "    }\n",
       "\n",
       "    .dataframe tbody tr th {\n",
       "        vertical-align: top;\n",
       "    }\n",
       "\n",
       "    .dataframe thead th {\n",
       "        text-align: right;\n",
       "    }\n",
       "</style>\n",
       "<table border=\"1\" class=\"dataframe\">\n",
       "  <thead>\n",
       "    <tr style=\"text-align: right;\">\n",
       "      <th></th>\n",
       "      <th>id</th>\n",
       "      <th>release_date</th>\n",
       "      <th>movie</th>\n",
       "      <th>production_budget</th>\n",
       "      <th>domestic_gross</th>\n",
       "      <th>worldwide_gross</th>\n",
       "      <th>year</th>\n",
       "      <th>title/year</th>\n",
       "    </tr>\n",
       "  </thead>\n",
       "  <tbody>\n",
       "    <tr>\n",
       "      <th>0</th>\n",
       "      <td>1</td>\n",
       "      <td>Dec 18, 2009</td>\n",
       "      <td>Avatar</td>\n",
       "      <td>425000000.0</td>\n",
       "      <td>760507625.0</td>\n",
       "      <td>2.776345e+09</td>\n",
       "      <td>2009</td>\n",
       "      <td>Avatar/2009</td>\n",
       "    </tr>\n",
       "    <tr>\n",
       "      <th>1</th>\n",
       "      <td>2</td>\n",
       "      <td>May 20, 2011</td>\n",
       "      <td>Pirates of the Caribbean: On Stranger Tides</td>\n",
       "      <td>410600000.0</td>\n",
       "      <td>241063875.0</td>\n",
       "      <td>1.045664e+09</td>\n",
       "      <td>2011</td>\n",
       "      <td>Pirates of the Caribbean: On Stranger Tides/2011</td>\n",
       "    </tr>\n",
       "    <tr>\n",
       "      <th>2</th>\n",
       "      <td>3</td>\n",
       "      <td>Jun 7, 2019</td>\n",
       "      <td>Dark Phoenix</td>\n",
       "      <td>350000000.0</td>\n",
       "      <td>42762350.0</td>\n",
       "      <td>1.497624e+08</td>\n",
       "      <td>2019</td>\n",
       "      <td>Dark Phoenix/2019</td>\n",
       "    </tr>\n",
       "    <tr>\n",
       "      <th>3</th>\n",
       "      <td>4</td>\n",
       "      <td>May 1, 2015</td>\n",
       "      <td>Avengers: Age of Ultron</td>\n",
       "      <td>330600000.0</td>\n",
       "      <td>459005868.0</td>\n",
       "      <td>1.403014e+09</td>\n",
       "      <td>2015</td>\n",
       "      <td>Avengers: Age of Ultron/2015</td>\n",
       "    </tr>\n",
       "    <tr>\n",
       "      <th>4</th>\n",
       "      <td>5</td>\n",
       "      <td>Dec 15, 2017</td>\n",
       "      <td>Star Wars Ep. VIII: The Last Jedi</td>\n",
       "      <td>317000000.0</td>\n",
       "      <td>620181382.0</td>\n",
       "      <td>1.316722e+09</td>\n",
       "      <td>2017</td>\n",
       "      <td>Star Wars Ep. VIII: The Last Jedi/2017</td>\n",
       "    </tr>\n",
       "  </tbody>\n",
       "</table>\n",
       "</div>"
      ],
      "text/plain": [
       "   id  release_date                                        movie  \\\n",
       "0   1  Dec 18, 2009                                       Avatar   \n",
       "1   2  May 20, 2011  Pirates of the Caribbean: On Stranger Tides   \n",
       "2   3   Jun 7, 2019                                 Dark Phoenix   \n",
       "3   4   May 1, 2015                      Avengers: Age of Ultron   \n",
       "4   5  Dec 15, 2017            Star Wars Ep. VIII: The Last Jedi   \n",
       "\n",
       "   production_budget  domestic_gross  worldwide_gross  year  \\\n",
       "0        425000000.0     760507625.0     2.776345e+09  2009   \n",
       "1        410600000.0     241063875.0     1.045664e+09  2011   \n",
       "2        350000000.0      42762350.0     1.497624e+08  2019   \n",
       "3        330600000.0     459005868.0     1.403014e+09  2015   \n",
       "4        317000000.0     620181382.0     1.316722e+09  2017   \n",
       "\n",
       "                                         title/year  \n",
       "0                                       Avatar/2009  \n",
       "1  Pirates of the Caribbean: On Stranger Tides/2011  \n",
       "2                                 Dark Phoenix/2019  \n",
       "3                      Avengers: Age of Ultron/2015  \n",
       "4            Star Wars Ep. VIII: The Last Jedi/2017  "
      ]
     },
     "execution_count": 21,
     "metadata": {},
     "output_type": "execute_result"
    }
   ],
   "source": [
    "movie_budgets['year'] = movie_budgets['release_date'].str[-4:]\n",
    "movie_budgets['title/year'] = movie_budgets['movie'] + '/' + movie_budgets['year']\n",
    "movie_budgets.head()"
   ]
  },
  {
   "cell_type": "code",
   "execution_count": 22,
   "metadata": {},
   "outputs": [
    {
     "data": {
      "text/html": [
       "<div>\n",
       "<style scoped>\n",
       "    .dataframe tbody tr th:only-of-type {\n",
       "        vertical-align: middle;\n",
       "    }\n",
       "\n",
       "    .dataframe tbody tr th {\n",
       "        vertical-align: top;\n",
       "    }\n",
       "\n",
       "    .dataframe thead th {\n",
       "        text-align: right;\n",
       "    }\n",
       "</style>\n",
       "<table border=\"1\" class=\"dataframe\">\n",
       "  <thead>\n",
       "    <tr style=\"text-align: right;\">\n",
       "      <th></th>\n",
       "      <th>title</th>\n",
       "      <th>studio</th>\n",
       "      <th>domestic_gross</th>\n",
       "      <th>foreign_gross</th>\n",
       "      <th>year</th>\n",
       "      <th>title_cleaned</th>\n",
       "      <th>title_notes</th>\n",
       "      <th>title/year</th>\n",
       "    </tr>\n",
       "  </thead>\n",
       "  <tbody>\n",
       "    <tr>\n",
       "      <th>0</th>\n",
       "      <td>Toy Story 3</td>\n",
       "      <td>BV</td>\n",
       "      <td>415000000.0</td>\n",
       "      <td>652000000</td>\n",
       "      <td>2010</td>\n",
       "      <td>Toy Story 3</td>\n",
       "      <td>None</td>\n",
       "      <td>Toy Story 3/2010</td>\n",
       "    </tr>\n",
       "    <tr>\n",
       "      <th>1</th>\n",
       "      <td>Alice in Wonderland</td>\n",
       "      <td>BV</td>\n",
       "      <td>334200000.0</td>\n",
       "      <td>691300000</td>\n",
       "      <td>2010</td>\n",
       "      <td>Alice in Wonderland</td>\n",
       "      <td>None</td>\n",
       "      <td>Alice in Wonderland/2010</td>\n",
       "    </tr>\n",
       "    <tr>\n",
       "      <th>2</th>\n",
       "      <td>Harry Potter and the Deathly Hallows Part 1</td>\n",
       "      <td>WB</td>\n",
       "      <td>296000000.0</td>\n",
       "      <td>664300000</td>\n",
       "      <td>2010</td>\n",
       "      <td>Harry Potter and the Deathly Hallows Part 1</td>\n",
       "      <td>None</td>\n",
       "      <td>Harry Potter and the Deathly Hallows Part 1/2010</td>\n",
       "    </tr>\n",
       "    <tr>\n",
       "      <th>3</th>\n",
       "      <td>Inception</td>\n",
       "      <td>WB</td>\n",
       "      <td>292600000.0</td>\n",
       "      <td>535700000</td>\n",
       "      <td>2010</td>\n",
       "      <td>Inception</td>\n",
       "      <td>None</td>\n",
       "      <td>Inception/2010</td>\n",
       "    </tr>\n",
       "    <tr>\n",
       "      <th>4</th>\n",
       "      <td>Shrek Forever After</td>\n",
       "      <td>P/DW</td>\n",
       "      <td>238700000.0</td>\n",
       "      <td>513900000</td>\n",
       "      <td>2010</td>\n",
       "      <td>Shrek Forever After</td>\n",
       "      <td>None</td>\n",
       "      <td>Shrek Forever After/2010</td>\n",
       "    </tr>\n",
       "  </tbody>\n",
       "</table>\n",
       "</div>"
      ],
      "text/plain": [
       "                                         title studio  domestic_gross  \\\n",
       "0                                  Toy Story 3     BV     415000000.0   \n",
       "1                         Alice in Wonderland      BV     334200000.0   \n",
       "2  Harry Potter and the Deathly Hallows Part 1     WB     296000000.0   \n",
       "3                                    Inception     WB     292600000.0   \n",
       "4                          Shrek Forever After   P/DW     238700000.0   \n",
       "\n",
       "  foreign_gross  year                                title_cleaned  \\\n",
       "0     652000000  2010                                  Toy Story 3   \n",
       "1     691300000  2010                          Alice in Wonderland   \n",
       "2     664300000  2010  Harry Potter and the Deathly Hallows Part 1   \n",
       "3     535700000  2010                                    Inception   \n",
       "4     513900000  2010                          Shrek Forever After   \n",
       "\n",
       "  title_notes                                        title/year  \n",
       "0        None                                  Toy Story 3/2010  \n",
       "1        None                          Alice in Wonderland/2010  \n",
       "2        None  Harry Potter and the Deathly Hallows Part 1/2010  \n",
       "3        None                                    Inception/2010  \n",
       "4        None                          Shrek Forever After/2010  "
      ]
     },
     "execution_count": 22,
     "metadata": {},
     "output_type": "execute_result"
    }
   ],
   "source": [
    "box_office['title/year'] = box_office['title_cleaned'] + '/' + box_office['year'].astype(str)\n",
    "box_office.head()"
   ]
  },
  {
   "cell_type": "code",
   "execution_count": 23,
   "metadata": {},
   "outputs": [
    {
     "name": "stdout",
     "output_type": "stream",
     "text": [
      "<class 'pandas.core.frame.DataFrame'>\n",
      "Int64Index: 5416 entries, 0 to 5415\n",
      "Data columns (total 15 columns):\n",
      " #   Column             Non-Null Count  Dtype  \n",
      "---  ------             --------------  -----  \n",
      " 0   id                 5416 non-null   int64  \n",
      " 1   release_date       5416 non-null   object \n",
      " 2   movie              5416 non-null   object \n",
      " 3   production_budget  5416 non-null   float64\n",
      " 4   domestic_gross_x   5416 non-null   float64\n",
      " 5   worldwide_gross    5416 non-null   float64\n",
      " 6   year_x             5416 non-null   object \n",
      " 7   title/year         5416 non-null   object \n",
      " 8   title              1327 non-null   object \n",
      " 9   studio             1326 non-null   object \n",
      " 10  domestic_gross_y   1325 non-null   float64\n",
      " 11  foreign_gross      1158 non-null   object \n",
      " 12  year_y             1327 non-null   float64\n",
      " 13  title_cleaned      1327 non-null   object \n",
      " 14  title_notes        3 non-null      object \n",
      "dtypes: float64(5), int64(1), object(9)\n",
      "memory usage: 677.0+ KB\n"
     ]
    }
   ],
   "source": [
    "first_merge = pd.merge(movie_budgets,box_office, how=\"left\", on='title/year')\n",
    "first_merge.info()"
   ]
  },
  {
   "cell_type": "markdown",
   "metadata": {},
   "source": [
    "Lastly, we want to merge in data from IMBD into this dataframe."
   ]
  },
  {
   "cell_type": "code",
   "execution_count": 24,
   "metadata": {},
   "outputs": [
    {
     "data": {
      "text/html": [
       "<div>\n",
       "<style scoped>\n",
       "    .dataframe tbody tr th:only-of-type {\n",
       "        vertical-align: middle;\n",
       "    }\n",
       "\n",
       "    .dataframe tbody tr th {\n",
       "        vertical-align: top;\n",
       "    }\n",
       "\n",
       "    .dataframe thead th {\n",
       "        text-align: right;\n",
       "    }\n",
       "</style>\n",
       "<table border=\"1\" class=\"dataframe\">\n",
       "  <thead>\n",
       "    <tr style=\"text-align: right;\">\n",
       "      <th></th>\n",
       "      <th>title</th>\n",
       "      <th>genres</th>\n",
       "      <th>year</th>\n",
       "      <th>director</th>\n",
       "    </tr>\n",
       "  </thead>\n",
       "  <tbody>\n",
       "    <tr>\n",
       "      <th>0</th>\n",
       "      <td>Sunghursh</td>\n",
       "      <td>Action,Crime,Drama</td>\n",
       "      <td>2013</td>\n",
       "      <td>Harnam Singh Rawail</td>\n",
       "    </tr>\n",
       "    <tr>\n",
       "      <th>1</th>\n",
       "      <td>Sunghursh</td>\n",
       "      <td>Action,Crime,Drama</td>\n",
       "      <td>2013</td>\n",
       "      <td>Harnam Singh Rawail</td>\n",
       "    </tr>\n",
       "    <tr>\n",
       "      <th>2</th>\n",
       "      <td>Sunghursh</td>\n",
       "      <td>Action,Crime,Drama</td>\n",
       "      <td>2013</td>\n",
       "      <td>Harnam Singh Rawail</td>\n",
       "    </tr>\n",
       "    <tr>\n",
       "      <th>3</th>\n",
       "      <td>Sunghursh</td>\n",
       "      <td>Action,Crime,Drama</td>\n",
       "      <td>2013</td>\n",
       "      <td>Harnam Singh Rawail</td>\n",
       "    </tr>\n",
       "    <tr>\n",
       "      <th>4</th>\n",
       "      <td>One Day Before the Rainy Season</td>\n",
       "      <td>Biography,Drama</td>\n",
       "      <td>2019</td>\n",
       "      <td>Mani Kaul</td>\n",
       "    </tr>\n",
       "    <tr>\n",
       "      <th>...</th>\n",
       "      <td>...</td>\n",
       "      <td>...</td>\n",
       "      <td>...</td>\n",
       "      <td>...</td>\n",
       "    </tr>\n",
       "    <tr>\n",
       "      <th>291166</th>\n",
       "      <td>6 Gunn</td>\n",
       "      <td>None</td>\n",
       "      <td>2017</td>\n",
       "      <td>Kiran Gawade</td>\n",
       "    </tr>\n",
       "    <tr>\n",
       "      <th>291167</th>\n",
       "      <td>Chico Albuquerque - Revelações</td>\n",
       "      <td>Documentary</td>\n",
       "      <td>2013</td>\n",
       "      <td>Vinicius Augusto Bozzo</td>\n",
       "    </tr>\n",
       "    <tr>\n",
       "      <th>291168</th>\n",
       "      <td>Chico Albuquerque - Revelações</td>\n",
       "      <td>Documentary</td>\n",
       "      <td>2013</td>\n",
       "      <td>Vinicius Augusto Bozzo</td>\n",
       "    </tr>\n",
       "    <tr>\n",
       "      <th>291169</th>\n",
       "      <td>Chico Albuquerque - Revelações</td>\n",
       "      <td>Documentary</td>\n",
       "      <td>2013</td>\n",
       "      <td>Angela Gurgel</td>\n",
       "    </tr>\n",
       "    <tr>\n",
       "      <th>291170</th>\n",
       "      <td>Chico Albuquerque - Revelações</td>\n",
       "      <td>Documentary</td>\n",
       "      <td>2013</td>\n",
       "      <td>Angela Gurgel</td>\n",
       "    </tr>\n",
       "  </tbody>\n",
       "</table>\n",
       "<p>291171 rows × 4 columns</p>\n",
       "</div>"
      ],
      "text/plain": [
       "                                  title              genres  year  \\\n",
       "0                             Sunghursh  Action,Crime,Drama  2013   \n",
       "1                             Sunghursh  Action,Crime,Drama  2013   \n",
       "2                             Sunghursh  Action,Crime,Drama  2013   \n",
       "3                             Sunghursh  Action,Crime,Drama  2013   \n",
       "4       One Day Before the Rainy Season     Biography,Drama  2019   \n",
       "...                                 ...                 ...   ...   \n",
       "291166                           6 Gunn                None  2017   \n",
       "291167   Chico Albuquerque - Revelações         Documentary  2013   \n",
       "291168   Chico Albuquerque - Revelações         Documentary  2013   \n",
       "291169   Chico Albuquerque - Revelações         Documentary  2013   \n",
       "291170   Chico Albuquerque - Revelações         Documentary  2013   \n",
       "\n",
       "                      director  \n",
       "0          Harnam Singh Rawail  \n",
       "1          Harnam Singh Rawail  \n",
       "2          Harnam Singh Rawail  \n",
       "3          Harnam Singh Rawail  \n",
       "4                    Mani Kaul  \n",
       "...                        ...  \n",
       "291166            Kiran Gawade  \n",
       "291167  Vinicius Augusto Bozzo  \n",
       "291168  Vinicius Augusto Bozzo  \n",
       "291169           Angela Gurgel  \n",
       "291170           Angela Gurgel  \n",
       "\n",
       "[291171 rows x 4 columns]"
      ]
     },
     "execution_count": 24,
     "metadata": {},
     "output_type": "execute_result"
    }
   ],
   "source": [
    "q = \"\"\"\n",
    "SELECT mb.primary_title AS title, mb.genres, mb.start_year AS year, p.primary_name AS director\n",
    "FROM movie_basics AS mb\n",
    "JOIN directors AS d\n",
    "USING(movie_id)\n",
    "JOIN persons AS p\n",
    "USING(person_id)\n",
    ";\"\"\"\n",
    "\n",
    "imdb_data = pd.read_sql(q, conn)\n",
    "imdb_data"
   ]
  },
  {
   "cell_type": "code",
   "execution_count": 25,
   "metadata": {},
   "outputs": [],
   "source": [
    "imdb_data['title/year'] = imdb_data['title'] + '/' + imdb_data['year'].astype(str)"
   ]
  },
  {
   "cell_type": "code",
   "execution_count": 26,
   "metadata": {},
   "outputs": [],
   "source": [
    "combined_data = pd.merge(first_merge,imdb_data, how=\"left\", on='title/year')"
   ]
  },
  {
   "cell_type": "code",
   "execution_count": 27,
   "metadata": {
    "scrolled": true
   },
   "outputs": [
    {
     "name": "stdout",
     "output_type": "stream",
     "text": [
      "<class 'pandas.core.frame.DataFrame'>\n",
      "Int64Index: 4455 entries, 1 to 8486\n",
      "Data columns (total 19 columns):\n",
      " #   Column             Non-Null Count  Dtype  \n",
      "---  ------             --------------  -----  \n",
      " 0   id                 4455 non-null   int64  \n",
      " 1   release_date       4455 non-null   object \n",
      " 2   movie              4455 non-null   object \n",
      " 3   production_budget  4455 non-null   float64\n",
      " 4   domestic_gross_x   4455 non-null   float64\n",
      " 5   worldwide_gross    4455 non-null   float64\n",
      " 6   year_x             4455 non-null   object \n",
      " 7   title/year         4455 non-null   object \n",
      " 8   title_x            3761 non-null   object \n",
      " 9   studio             3761 non-null   object \n",
      " 10  domestic_gross_y   3759 non-null   float64\n",
      " 11  foreign_gross      3476 non-null   object \n",
      " 12  year_y             3761 non-null   float64\n",
      " 13  title_cleaned      3761 non-null   object \n",
      " 14  title_notes        0 non-null      object \n",
      " 15  title_y            4455 non-null   object \n",
      " 16  genres             4452 non-null   object \n",
      " 17  year               4455 non-null   float64\n",
      " 18  director           4455 non-null   object \n",
      "dtypes: float64(6), int64(1), object(12)\n",
      "memory usage: 696.1+ KB\n"
     ]
    }
   ],
   "source": [
    "# Not all the rows had matches so let's only look at rows where we sucessfully matched a director.\n",
    "combined_data = combined_data[combined_data['director'].notna()]\n",
    "combined_data.info()"
   ]
  },
  {
   "cell_type": "code",
   "execution_count": 28,
   "metadata": {},
   "outputs": [],
   "source": [
    "combined_data = combined_data.drop_duplicates()"
   ]
  },
  {
   "cell_type": "code",
   "execution_count": 29,
   "metadata": {},
   "outputs": [],
   "source": [
    "# Next, we clean up the dataframe since after all these merges we ended up with some redundant columns\n",
    "\n",
    "combined_data = combined_data.drop(['title_x','domestic_gross_x','title/year',\n",
    "                                   'domestic_gross_y','title_notes','title_y',\n",
    "                                   'foreign_gross','year_y','year','release_date','title_cleaned'], 1)"
   ]
  },
  {
   "cell_type": "code",
   "execution_count": 30,
   "metadata": {},
   "outputs": [
    {
     "data": {
      "text/html": [
       "<div>\n",
       "<style scoped>\n",
       "    .dataframe tbody tr th:only-of-type {\n",
       "        vertical-align: middle;\n",
       "    }\n",
       "\n",
       "    .dataframe tbody tr th {\n",
       "        vertical-align: top;\n",
       "    }\n",
       "\n",
       "    .dataframe thead th {\n",
       "        text-align: right;\n",
       "    }\n",
       "</style>\n",
       "<table border=\"1\" class=\"dataframe\">\n",
       "  <thead>\n",
       "    <tr style=\"text-align: right;\">\n",
       "      <th></th>\n",
       "      <th>id</th>\n",
       "      <th>movie</th>\n",
       "      <th>production_budget</th>\n",
       "      <th>worldwide_gross</th>\n",
       "      <th>year</th>\n",
       "      <th>studio</th>\n",
       "      <th>genres</th>\n",
       "      <th>director</th>\n",
       "    </tr>\n",
       "  </thead>\n",
       "  <tbody>\n",
       "    <tr>\n",
       "      <th>1</th>\n",
       "      <td>2</td>\n",
       "      <td>Pirates of the Caribbean: On Stranger Tides</td>\n",
       "      <td>410600000.0</td>\n",
       "      <td>1.045664e+09</td>\n",
       "      <td>2011</td>\n",
       "      <td>BV</td>\n",
       "      <td>Action,Adventure,Fantasy</td>\n",
       "      <td>Rob Marshall</td>\n",
       "    </tr>\n",
       "    <tr>\n",
       "      <th>6</th>\n",
       "      <td>3</td>\n",
       "      <td>Dark Phoenix</td>\n",
       "      <td>350000000.0</td>\n",
       "      <td>1.497624e+08</td>\n",
       "      <td>2019</td>\n",
       "      <td>NaN</td>\n",
       "      <td>Action,Adventure,Sci-Fi</td>\n",
       "      <td>Simon Kinberg</td>\n",
       "    </tr>\n",
       "    <tr>\n",
       "      <th>12</th>\n",
       "      <td>4</td>\n",
       "      <td>Avengers: Age of Ultron</td>\n",
       "      <td>330600000.0</td>\n",
       "      <td>1.403014e+09</td>\n",
       "      <td>2015</td>\n",
       "      <td>BV</td>\n",
       "      <td>Action,Adventure,Sci-Fi</td>\n",
       "      <td>Joss Whedon</td>\n",
       "    </tr>\n",
       "    <tr>\n",
       "      <th>19</th>\n",
       "      <td>7</td>\n",
       "      <td>Avengers: Infinity War</td>\n",
       "      <td>300000000.0</td>\n",
       "      <td>2.048134e+09</td>\n",
       "      <td>2018</td>\n",
       "      <td>BV</td>\n",
       "      <td>Action,Adventure,Sci-Fi</td>\n",
       "      <td>Anthony Russo</td>\n",
       "    </tr>\n",
       "    <tr>\n",
       "      <th>31</th>\n",
       "      <td>7</td>\n",
       "      <td>Avengers: Infinity War</td>\n",
       "      <td>300000000.0</td>\n",
       "      <td>2.048134e+09</td>\n",
       "      <td>2018</td>\n",
       "      <td>BV</td>\n",
       "      <td>Action,Adventure,Sci-Fi</td>\n",
       "      <td>Joe Russo</td>\n",
       "    </tr>\n",
       "    <tr>\n",
       "      <th>...</th>\n",
       "      <td>...</td>\n",
       "      <td>...</td>\n",
       "      <td>...</td>\n",
       "      <td>...</td>\n",
       "      <td>...</td>\n",
       "      <td>...</td>\n",
       "      <td>...</td>\n",
       "      <td>...</td>\n",
       "    </tr>\n",
       "    <tr>\n",
       "      <th>8465</th>\n",
       "      <td>18</td>\n",
       "      <td>Tiny Furniture</td>\n",
       "      <td>50000.0</td>\n",
       "      <td>4.241490e+05</td>\n",
       "      <td>2010</td>\n",
       "      <td>IFC</td>\n",
       "      <td>Comedy,Drama,Romance</td>\n",
       "      <td>Lena Dunham</td>\n",
       "    </tr>\n",
       "    <tr>\n",
       "      <th>8467</th>\n",
       "      <td>20</td>\n",
       "      <td>Counting</td>\n",
       "      <td>50000.0</td>\n",
       "      <td>8.374000e+03</td>\n",
       "      <td>2015</td>\n",
       "      <td>NaN</td>\n",
       "      <td>Documentary</td>\n",
       "      <td>Jem Cohen</td>\n",
       "    </tr>\n",
       "    <tr>\n",
       "      <th>8471</th>\n",
       "      <td>32</td>\n",
       "      <td>Raymond Did It</td>\n",
       "      <td>40000.0</td>\n",
       "      <td>3.632000e+03</td>\n",
       "      <td>2011</td>\n",
       "      <td>NaN</td>\n",
       "      <td>Horror</td>\n",
       "      <td>Travis Legge</td>\n",
       "    </tr>\n",
       "    <tr>\n",
       "      <th>8480</th>\n",
       "      <td>45</td>\n",
       "      <td>Emily</td>\n",
       "      <td>27000.0</td>\n",
       "      <td>3.547000e+03</td>\n",
       "      <td>2017</td>\n",
       "      <td>Hiber</td>\n",
       "      <td>Drama</td>\n",
       "      <td>Ryan Graves</td>\n",
       "    </tr>\n",
       "    <tr>\n",
       "      <th>8485</th>\n",
       "      <td>49</td>\n",
       "      <td>Exeter</td>\n",
       "      <td>25000.0</td>\n",
       "      <td>4.897920e+05</td>\n",
       "      <td>2015</td>\n",
       "      <td>NaN</td>\n",
       "      <td>Horror,Mystery,Thriller</td>\n",
       "      <td>Marcus Nispel</td>\n",
       "    </tr>\n",
       "  </tbody>\n",
       "</table>\n",
       "<p>1566 rows × 8 columns</p>\n",
       "</div>"
      ],
      "text/plain": [
       "      id                                        movie  production_budget  \\\n",
       "1      2  Pirates of the Caribbean: On Stranger Tides        410600000.0   \n",
       "6      3                                 Dark Phoenix        350000000.0   \n",
       "12     4                      Avengers: Age of Ultron        330600000.0   \n",
       "19     7                       Avengers: Infinity War        300000000.0   \n",
       "31     7                       Avengers: Infinity War        300000000.0   \n",
       "...   ..                                          ...                ...   \n",
       "8465  18                               Tiny Furniture            50000.0   \n",
       "8467  20                                     Counting            50000.0   \n",
       "8471  32                               Raymond Did It            40000.0   \n",
       "8480  45                                        Emily            27000.0   \n",
       "8485  49                                       Exeter            25000.0   \n",
       "\n",
       "      worldwide_gross  year studio                    genres       director  \n",
       "1        1.045664e+09  2011     BV  Action,Adventure,Fantasy   Rob Marshall  \n",
       "6        1.497624e+08  2019    NaN   Action,Adventure,Sci-Fi  Simon Kinberg  \n",
       "12       1.403014e+09  2015     BV   Action,Adventure,Sci-Fi    Joss Whedon  \n",
       "19       2.048134e+09  2018     BV   Action,Adventure,Sci-Fi  Anthony Russo  \n",
       "31       2.048134e+09  2018     BV   Action,Adventure,Sci-Fi      Joe Russo  \n",
       "...               ...   ...    ...                       ...            ...  \n",
       "8465     4.241490e+05  2010    IFC      Comedy,Drama,Romance    Lena Dunham  \n",
       "8467     8.374000e+03  2015    NaN               Documentary      Jem Cohen  \n",
       "8471     3.632000e+03  2011    NaN                    Horror   Travis Legge  \n",
       "8480     3.547000e+03  2017  Hiber                     Drama    Ryan Graves  \n",
       "8485     4.897920e+05  2015    NaN   Horror,Mystery,Thriller  Marcus Nispel  \n",
       "\n",
       "[1566 rows x 8 columns]"
      ]
     },
     "execution_count": 30,
     "metadata": {},
     "output_type": "execute_result"
    }
   ],
   "source": [
    "# Finally, I clean up the column titles a little bit to make them easier to work with\n",
    "\n",
    "combined_data.rename(columns={\"year_x\": \"year\"})"
   ]
  },
  {
   "cell_type": "markdown",
   "metadata": {},
   "source": [
    "We still have a few duplicates in here because of movies that have multiple directors.\n",
    "For example, Avengers: Infinity War is in our dataset twice because it was directed by Joe Russo and his brother Anthony Russo. Let's handle that next."
   ]
  },
  {
   "cell_type": "code",
   "execution_count": 31,
   "metadata": {},
   "outputs": [],
   "source": [
    "duplicates = combined_data[combined_data.duplicated('movie')]\n",
    "combined_data = pd.merge(combined_data,duplicates[['movie','director']],on='movie', how='left')"
   ]
  },
  {
   "cell_type": "code",
   "execution_count": 32,
   "metadata": {},
   "outputs": [
    {
     "data": {
      "text/html": [
       "<div>\n",
       "<style scoped>\n",
       "    .dataframe tbody tr th:only-of-type {\n",
       "        vertical-align: middle;\n",
       "    }\n",
       "\n",
       "    .dataframe tbody tr th {\n",
       "        vertical-align: top;\n",
       "    }\n",
       "\n",
       "    .dataframe thead th {\n",
       "        text-align: right;\n",
       "    }\n",
       "</style>\n",
       "<table border=\"1\" class=\"dataframe\">\n",
       "  <thead>\n",
       "    <tr style=\"text-align: right;\">\n",
       "      <th></th>\n",
       "      <th>id</th>\n",
       "      <th>movie</th>\n",
       "      <th>production_budget</th>\n",
       "      <th>worldwide_gross</th>\n",
       "      <th>year_x</th>\n",
       "      <th>studio</th>\n",
       "      <th>genres</th>\n",
       "      <th>director_x</th>\n",
       "      <th>director_y</th>\n",
       "    </tr>\n",
       "  </thead>\n",
       "  <tbody>\n",
       "    <tr>\n",
       "      <th>0</th>\n",
       "      <td>2</td>\n",
       "      <td>Pirates of the Caribbean: On Stranger Tides</td>\n",
       "      <td>410600000.0</td>\n",
       "      <td>1.045664e+09</td>\n",
       "      <td>2011</td>\n",
       "      <td>BV</td>\n",
       "      <td>Action,Adventure,Fantasy</td>\n",
       "      <td>Rob Marshall</td>\n",
       "      <td>NaN</td>\n",
       "    </tr>\n",
       "    <tr>\n",
       "      <th>1</th>\n",
       "      <td>3</td>\n",
       "      <td>Dark Phoenix</td>\n",
       "      <td>350000000.0</td>\n",
       "      <td>1.497624e+08</td>\n",
       "      <td>2019</td>\n",
       "      <td>NaN</td>\n",
       "      <td>Action,Adventure,Sci-Fi</td>\n",
       "      <td>Simon Kinberg</td>\n",
       "      <td>NaN</td>\n",
       "    </tr>\n",
       "    <tr>\n",
       "      <th>2</th>\n",
       "      <td>4</td>\n",
       "      <td>Avengers: Age of Ultron</td>\n",
       "      <td>330600000.0</td>\n",
       "      <td>1.403014e+09</td>\n",
       "      <td>2015</td>\n",
       "      <td>BV</td>\n",
       "      <td>Action,Adventure,Sci-Fi</td>\n",
       "      <td>Joss Whedon</td>\n",
       "      <td>NaN</td>\n",
       "    </tr>\n",
       "    <tr>\n",
       "      <th>3</th>\n",
       "      <td>7</td>\n",
       "      <td>Avengers: Infinity War</td>\n",
       "      <td>300000000.0</td>\n",
       "      <td>2.048134e+09</td>\n",
       "      <td>2018</td>\n",
       "      <td>BV</td>\n",
       "      <td>Action,Adventure,Sci-Fi</td>\n",
       "      <td>Anthony Russo</td>\n",
       "      <td>Joe Russo</td>\n",
       "    </tr>\n",
       "    <tr>\n",
       "      <th>4</th>\n",
       "      <td>7</td>\n",
       "      <td>Avengers: Infinity War</td>\n",
       "      <td>300000000.0</td>\n",
       "      <td>2.048134e+09</td>\n",
       "      <td>2018</td>\n",
       "      <td>BV</td>\n",
       "      <td>Action,Adventure,Sci-Fi</td>\n",
       "      <td>Joe Russo</td>\n",
       "      <td>Joe Russo</td>\n",
       "    </tr>\n",
       "  </tbody>\n",
       "</table>\n",
       "</div>"
      ],
      "text/plain": [
       "   id                                        movie  production_budget  \\\n",
       "0   2  Pirates of the Caribbean: On Stranger Tides        410600000.0   \n",
       "1   3                                 Dark Phoenix        350000000.0   \n",
       "2   4                      Avengers: Age of Ultron        330600000.0   \n",
       "3   7                       Avengers: Infinity War        300000000.0   \n",
       "4   7                       Avengers: Infinity War        300000000.0   \n",
       "\n",
       "   worldwide_gross year_x studio                    genres     director_x  \\\n",
       "0     1.045664e+09   2011     BV  Action,Adventure,Fantasy   Rob Marshall   \n",
       "1     1.497624e+08   2019    NaN   Action,Adventure,Sci-Fi  Simon Kinberg   \n",
       "2     1.403014e+09   2015     BV   Action,Adventure,Sci-Fi    Joss Whedon   \n",
       "3     2.048134e+09   2018     BV   Action,Adventure,Sci-Fi  Anthony Russo   \n",
       "4     2.048134e+09   2018     BV   Action,Adventure,Sci-Fi      Joe Russo   \n",
       "\n",
       "  director_y  \n",
       "0        NaN  \n",
       "1        NaN  \n",
       "2        NaN  \n",
       "3  Joe Russo  \n",
       "4  Joe Russo  "
      ]
     },
     "execution_count": 32,
     "metadata": {},
     "output_type": "execute_result"
    }
   ],
   "source": [
    "combined_data.head()"
   ]
  },
  {
   "cell_type": "code",
   "execution_count": 33,
   "metadata": {},
   "outputs": [],
   "source": [
    "combined_data = combined_data[combined_data['director_x'] != combined_data['director_y']]"
   ]
  },
  {
   "cell_type": "code",
   "execution_count": 34,
   "metadata": {},
   "outputs": [],
   "source": [
    "# We also want to figure out which of these movies are indipendent. While a small independent film\n",
    "# might get a 2x or more return on its production budget, it probably doesn't reach the scale\n",
    "# that Microsoft would care about. \n",
    "#This website shows that independent films are usually made with less than $2 million:\n",
    "# https://filmlifestyle.com/what-is-an-indie-film/"
   ]
  },
  {
   "cell_type": "code",
   "execution_count": 35,
   "metadata": {},
   "outputs": [],
   "source": [
    "combined_data['type'] = combined_data['production_budget'].apply(lambda x: \n",
    "                                                                 'Indie' if x <= 2000000 else 'Non-indie')\n",
    "\n",
    "final_data = combined_data[combined_data['type'] == 'Non-indie']"
   ]
  },
  {
   "cell_type": "code",
   "execution_count": 36,
   "metadata": {},
   "outputs": [
    {
     "data": {
      "text/html": [
       "<div>\n",
       "<style scoped>\n",
       "    .dataframe tbody tr th:only-of-type {\n",
       "        vertical-align: middle;\n",
       "    }\n",
       "\n",
       "    .dataframe tbody tr th {\n",
       "        vertical-align: top;\n",
       "    }\n",
       "\n",
       "    .dataframe thead th {\n",
       "        text-align: right;\n",
       "    }\n",
       "</style>\n",
       "<table border=\"1\" class=\"dataframe\">\n",
       "  <thead>\n",
       "    <tr style=\"text-align: right;\">\n",
       "      <th></th>\n",
       "      <th>id</th>\n",
       "      <th>movie</th>\n",
       "      <th>production_budget</th>\n",
       "      <th>worldwide_gross</th>\n",
       "      <th>year_x</th>\n",
       "      <th>studio</th>\n",
       "      <th>genres</th>\n",
       "      <th>first_director</th>\n",
       "      <th>second_director</th>\n",
       "      <th>type</th>\n",
       "    </tr>\n",
       "  </thead>\n",
       "  <tbody>\n",
       "    <tr>\n",
       "      <th>0</th>\n",
       "      <td>2</td>\n",
       "      <td>Pirates of the Caribbean: On Stranger Tides</td>\n",
       "      <td>410600000.0</td>\n",
       "      <td>1.045664e+09</td>\n",
       "      <td>2011</td>\n",
       "      <td>BV</td>\n",
       "      <td>Action,Adventure,Fantasy</td>\n",
       "      <td>Rob Marshall</td>\n",
       "      <td>NaN</td>\n",
       "      <td>Non-indie</td>\n",
       "    </tr>\n",
       "    <tr>\n",
       "      <th>1</th>\n",
       "      <td>3</td>\n",
       "      <td>Dark Phoenix</td>\n",
       "      <td>350000000.0</td>\n",
       "      <td>1.497624e+08</td>\n",
       "      <td>2019</td>\n",
       "      <td>NaN</td>\n",
       "      <td>Action,Adventure,Sci-Fi</td>\n",
       "      <td>Simon Kinberg</td>\n",
       "      <td>NaN</td>\n",
       "      <td>Non-indie</td>\n",
       "    </tr>\n",
       "    <tr>\n",
       "      <th>2</th>\n",
       "      <td>4</td>\n",
       "      <td>Avengers: Age of Ultron</td>\n",
       "      <td>330600000.0</td>\n",
       "      <td>1.403014e+09</td>\n",
       "      <td>2015</td>\n",
       "      <td>BV</td>\n",
       "      <td>Action,Adventure,Sci-Fi</td>\n",
       "      <td>Joss Whedon</td>\n",
       "      <td>NaN</td>\n",
       "      <td>Non-indie</td>\n",
       "    </tr>\n",
       "    <tr>\n",
       "      <th>3</th>\n",
       "      <td>7</td>\n",
       "      <td>Avengers: Infinity War</td>\n",
       "      <td>300000000.0</td>\n",
       "      <td>2.048134e+09</td>\n",
       "      <td>2018</td>\n",
       "      <td>BV</td>\n",
       "      <td>Action,Adventure,Sci-Fi</td>\n",
       "      <td>Anthony Russo</td>\n",
       "      <td>Joe Russo</td>\n",
       "      <td>Non-indie</td>\n",
       "    </tr>\n",
       "    <tr>\n",
       "      <th>5</th>\n",
       "      <td>9</td>\n",
       "      <td>Justice League</td>\n",
       "      <td>300000000.0</td>\n",
       "      <td>6.559452e+08</td>\n",
       "      <td>2017</td>\n",
       "      <td>WB</td>\n",
       "      <td>Action,Adventure,Fantasy</td>\n",
       "      <td>Zack Snyder</td>\n",
       "      <td>NaN</td>\n",
       "      <td>Non-indie</td>\n",
       "    </tr>\n",
       "    <tr>\n",
       "      <th>...</th>\n",
       "      <td>...</td>\n",
       "      <td>...</td>\n",
       "      <td>...</td>\n",
       "      <td>...</td>\n",
       "      <td>...</td>\n",
       "      <td>...</td>\n",
       "      <td>...</td>\n",
       "      <td>...</td>\n",
       "      <td>...</td>\n",
       "      <td>...</td>\n",
       "    </tr>\n",
       "    <tr>\n",
       "      <th>1686</th>\n",
       "      <td>31</td>\n",
       "      <td>The Lost Medallion: The Adventures of Billy Stone</td>\n",
       "      <td>2500000.0</td>\n",
       "      <td>5.496320e+05</td>\n",
       "      <td>2013</td>\n",
       "      <td>NaN</td>\n",
       "      <td>Adventure,Family,Fantasy</td>\n",
       "      <td>Bill Muir</td>\n",
       "      <td>NaN</td>\n",
       "      <td>Non-indie</td>\n",
       "    </tr>\n",
       "    <tr>\n",
       "      <th>1687</th>\n",
       "      <td>38</td>\n",
       "      <td>8: The Mormon Proposition</td>\n",
       "      <td>2500000.0</td>\n",
       "      <td>1.002800e+05</td>\n",
       "      <td>2010</td>\n",
       "      <td>NaN</td>\n",
       "      <td>Documentary</td>\n",
       "      <td>Steven Greenstreet</td>\n",
       "      <td>Reed Cowan</td>\n",
       "      <td>Non-indie</td>\n",
       "    </tr>\n",
       "    <tr>\n",
       "      <th>1689</th>\n",
       "      <td>41</td>\n",
       "      <td>Underdogs</td>\n",
       "      <td>2500000.0</td>\n",
       "      <td>1.392649e+06</td>\n",
       "      <td>2013</td>\n",
       "      <td>NaN</td>\n",
       "      <td>Adventure,Animation,Family</td>\n",
       "      <td>Juan José Campanella</td>\n",
       "      <td>Doug Dearth</td>\n",
       "      <td>Non-indie</td>\n",
       "    </tr>\n",
       "    <tr>\n",
       "      <th>1691</th>\n",
       "      <td>60</td>\n",
       "      <td>Do You Believe?</td>\n",
       "      <td>2300000.0</td>\n",
       "      <td>1.430493e+07</td>\n",
       "      <td>2015</td>\n",
       "      <td>PFR</td>\n",
       "      <td>Drama</td>\n",
       "      <td>Jon Gunn</td>\n",
       "      <td>NaN</td>\n",
       "      <td>Non-indie</td>\n",
       "    </tr>\n",
       "    <tr>\n",
       "      <th>1692</th>\n",
       "      <td>63</td>\n",
       "      <td>Frontera</td>\n",
       "      <td>2300000.0</td>\n",
       "      <td>5.969600e+04</td>\n",
       "      <td>2014</td>\n",
       "      <td>NaN</td>\n",
       "      <td>Drama,Thriller,Western</td>\n",
       "      <td>Michael Berry</td>\n",
       "      <td>NaN</td>\n",
       "      <td>Non-indie</td>\n",
       "    </tr>\n",
       "  </tbody>\n",
       "</table>\n",
       "<p>1509 rows × 10 columns</p>\n",
       "</div>"
      ],
      "text/plain": [
       "      id                                              movie  \\\n",
       "0      2        Pirates of the Caribbean: On Stranger Tides   \n",
       "1      3                                       Dark Phoenix   \n",
       "2      4                            Avengers: Age of Ultron   \n",
       "3      7                             Avengers: Infinity War   \n",
       "5      9                                     Justice League   \n",
       "...   ..                                                ...   \n",
       "1686  31  The Lost Medallion: The Adventures of Billy Stone   \n",
       "1687  38                          8: The Mormon Proposition   \n",
       "1689  41                                          Underdogs   \n",
       "1691  60                                    Do You Believe?   \n",
       "1692  63                                           Frontera   \n",
       "\n",
       "      production_budget  worldwide_gross year_x studio  \\\n",
       "0           410600000.0     1.045664e+09   2011     BV   \n",
       "1           350000000.0     1.497624e+08   2019    NaN   \n",
       "2           330600000.0     1.403014e+09   2015     BV   \n",
       "3           300000000.0     2.048134e+09   2018     BV   \n",
       "5           300000000.0     6.559452e+08   2017     WB   \n",
       "...                 ...              ...    ...    ...   \n",
       "1686          2500000.0     5.496320e+05   2013    NaN   \n",
       "1687          2500000.0     1.002800e+05   2010    NaN   \n",
       "1689          2500000.0     1.392649e+06   2013    NaN   \n",
       "1691          2300000.0     1.430493e+07   2015    PFR   \n",
       "1692          2300000.0     5.969600e+04   2014    NaN   \n",
       "\n",
       "                          genres        first_director second_director  \\\n",
       "0       Action,Adventure,Fantasy          Rob Marshall             NaN   \n",
       "1        Action,Adventure,Sci-Fi         Simon Kinberg             NaN   \n",
       "2        Action,Adventure,Sci-Fi           Joss Whedon             NaN   \n",
       "3        Action,Adventure,Sci-Fi         Anthony Russo       Joe Russo   \n",
       "5       Action,Adventure,Fantasy           Zack Snyder             NaN   \n",
       "...                          ...                   ...             ...   \n",
       "1686    Adventure,Family,Fantasy             Bill Muir             NaN   \n",
       "1687                 Documentary    Steven Greenstreet      Reed Cowan   \n",
       "1689  Adventure,Animation,Family  Juan José Campanella     Doug Dearth   \n",
       "1691                       Drama              Jon Gunn             NaN   \n",
       "1692      Drama,Thriller,Western         Michael Berry             NaN   \n",
       "\n",
       "           type  \n",
       "0     Non-indie  \n",
       "1     Non-indie  \n",
       "2     Non-indie  \n",
       "3     Non-indie  \n",
       "5     Non-indie  \n",
       "...         ...  \n",
       "1686  Non-indie  \n",
       "1687  Non-indie  \n",
       "1689  Non-indie  \n",
       "1691  Non-indie  \n",
       "1692  Non-indie  \n",
       "\n",
       "[1509 rows x 10 columns]"
      ]
     },
     "execution_count": 36,
     "metadata": {},
     "output_type": "execute_result"
    }
   ],
   "source": [
    "final_data.rename(columns={\"director_x\": \"first_director\",\"director_y\": \"second_director\" })"
   ]
  },
  {
   "cell_type": "markdown",
   "metadata": {},
   "source": [
    "#### Making Generes More Workable\n",
    "\n",
    "In our analysis, we will want to extract some things based on the movies generes. However, currently all genra information is listed under a single column. Furthermore, there are over 200 unique combinations of generes.\n",
    "\n",
    "We want to extract what are all the possible genra types and add them into our dataframe in a way that will make it easier to work with in our anlaysis."
   ]
  },
  {
   "cell_type": "code",
   "execution_count": 37,
   "metadata": {},
   "outputs": [],
   "source": [
    "genres_list = final_data['genres'].unique()\n",
    "genres_list = genres_list.tolist()\n",
    "\n",
    "unique_genere_list = []\n",
    "\n",
    "for i in range(len(genres_list)):\n",
    "    if genres_list[i] is not None:\n",
    "            unique_genere_list.extend(genres_list[i].split(','))\n",
    "    else:\n",
    "        pass\n",
    "\n",
    "unique_genere_list = list(set(unique_genere_list))"
   ]
  },
  {
   "cell_type": "code",
   "execution_count": 38,
   "metadata": {},
   "outputs": [
    {
     "name": "stdout",
     "output_type": "stream",
     "text": [
      "21\n",
      "['Western', 'Animation', 'Musical', 'Fantasy', 'Romance', 'Mystery', 'Adventure', 'Horror', 'Comedy', 'Family', 'Thriller', 'Sci-Fi', 'History', 'Sport', 'Action', 'Drama', 'War', 'Crime', 'Music', 'Biography', 'Documentary']\n"
     ]
    }
   ],
   "source": [
    "print(len(unique_genere_list))\n",
    "print(unique_genere_list)"
   ]
  },
  {
   "cell_type": "markdown",
   "metadata": {},
   "source": [
    "Great! So it looks like we have 21 different genres. We can look into subsets of some of the broader categories."
   ]
  },
  {
   "cell_type": "code",
   "execution_count": 39,
   "metadata": {},
   "outputs": [],
   "source": [
    "final_data = final_data[final_data['genres'].notna()]"
   ]
  },
  {
   "cell_type": "code",
   "execution_count": 40,
   "metadata": {},
   "outputs": [],
   "source": [
    "# final_data['isAction'] = final_data['genres'].apply(lambda x: True if 'Action' in x else False)\n",
    "# final_data['isAdventure'] = final_data['genres'].apply(lambda x: True if 'Adventure' in x else False)\n",
    "# final_data['isDrama'] = final_data['genres'].apply(lambda x: True if 'Drama' in x else False)\n",
    "# final_data['isComedy'] = final_data['genres'].apply(lambda x: True if 'Comedy' in x else False)\n",
    "# final_data['isThriller'] = final_data['genres'].apply(lambda x: True if 'Thriller' in x else False)\n",
    "# final_data['isHorror'] = final_data['genres'].apply(lambda x: True if 'Horror' in x else False)\n",
    "# final_data['isRomance'] = final_data['genres'].apply(lambda x: True if 'Romance' in x else False)\n",
    "# final_data['isMusical'] = final_data['genres'].apply(lambda x: True if 'Musical' in x else False)\n",
    "# final_data['isDocumentary'] = final_data['genres'].apply(lambda x: True if 'Documentary' in x else False)"
   ]
  },
  {
   "cell_type": "code",
   "execution_count": 41,
   "metadata": {},
   "outputs": [
    {
     "data": {
      "text/html": [
       "<div>\n",
       "<style scoped>\n",
       "    .dataframe tbody tr th:only-of-type {\n",
       "        vertical-align: middle;\n",
       "    }\n",
       "\n",
       "    .dataframe tbody tr th {\n",
       "        vertical-align: top;\n",
       "    }\n",
       "\n",
       "    .dataframe thead th {\n",
       "        text-align: right;\n",
       "    }\n",
       "</style>\n",
       "<table border=\"1\" class=\"dataframe\">\n",
       "  <thead>\n",
       "    <tr style=\"text-align: right;\">\n",
       "      <th></th>\n",
       "      <th>id</th>\n",
       "      <th>movie</th>\n",
       "      <th>production_budget</th>\n",
       "      <th>worldwide_gross</th>\n",
       "      <th>year_x</th>\n",
       "      <th>studio</th>\n",
       "      <th>genres</th>\n",
       "      <th>director_x</th>\n",
       "      <th>director_y</th>\n",
       "      <th>type</th>\n",
       "    </tr>\n",
       "  </thead>\n",
       "  <tbody>\n",
       "    <tr>\n",
       "      <th>1686</th>\n",
       "      <td>31</td>\n",
       "      <td>The Lost Medallion: The Adventures of Billy Stone</td>\n",
       "      <td>2500000.0</td>\n",
       "      <td>549632.0</td>\n",
       "      <td>2013</td>\n",
       "      <td>NaN</td>\n",
       "      <td>Adventure,Family,Fantasy</td>\n",
       "      <td>Bill Muir</td>\n",
       "      <td>NaN</td>\n",
       "      <td>Non-indie</td>\n",
       "    </tr>\n",
       "    <tr>\n",
       "      <th>1687</th>\n",
       "      <td>38</td>\n",
       "      <td>8: The Mormon Proposition</td>\n",
       "      <td>2500000.0</td>\n",
       "      <td>100280.0</td>\n",
       "      <td>2010</td>\n",
       "      <td>NaN</td>\n",
       "      <td>Documentary</td>\n",
       "      <td>Steven Greenstreet</td>\n",
       "      <td>Reed Cowan</td>\n",
       "      <td>Non-indie</td>\n",
       "    </tr>\n",
       "    <tr>\n",
       "      <th>1689</th>\n",
       "      <td>41</td>\n",
       "      <td>Underdogs</td>\n",
       "      <td>2500000.0</td>\n",
       "      <td>1392649.0</td>\n",
       "      <td>2013</td>\n",
       "      <td>NaN</td>\n",
       "      <td>Adventure,Animation,Family</td>\n",
       "      <td>Juan José Campanella</td>\n",
       "      <td>Doug Dearth</td>\n",
       "      <td>Non-indie</td>\n",
       "    </tr>\n",
       "    <tr>\n",
       "      <th>1691</th>\n",
       "      <td>60</td>\n",
       "      <td>Do You Believe?</td>\n",
       "      <td>2300000.0</td>\n",
       "      <td>14304931.0</td>\n",
       "      <td>2015</td>\n",
       "      <td>PFR</td>\n",
       "      <td>Drama</td>\n",
       "      <td>Jon Gunn</td>\n",
       "      <td>NaN</td>\n",
       "      <td>Non-indie</td>\n",
       "    </tr>\n",
       "    <tr>\n",
       "      <th>1692</th>\n",
       "      <td>63</td>\n",
       "      <td>Frontera</td>\n",
       "      <td>2300000.0</td>\n",
       "      <td>59696.0</td>\n",
       "      <td>2014</td>\n",
       "      <td>NaN</td>\n",
       "      <td>Drama,Thriller,Western</td>\n",
       "      <td>Michael Berry</td>\n",
       "      <td>NaN</td>\n",
       "      <td>Non-indie</td>\n",
       "    </tr>\n",
       "  </tbody>\n",
       "</table>\n",
       "</div>"
      ],
      "text/plain": [
       "      id                                              movie  \\\n",
       "1686  31  The Lost Medallion: The Adventures of Billy Stone   \n",
       "1687  38                          8: The Mormon Proposition   \n",
       "1689  41                                          Underdogs   \n",
       "1691  60                                    Do You Believe?   \n",
       "1692  63                                           Frontera   \n",
       "\n",
       "      production_budget  worldwide_gross year_x studio  \\\n",
       "1686          2500000.0         549632.0   2013    NaN   \n",
       "1687          2500000.0         100280.0   2010    NaN   \n",
       "1689          2500000.0        1392649.0   2013    NaN   \n",
       "1691          2300000.0       14304931.0   2015    PFR   \n",
       "1692          2300000.0          59696.0   2014    NaN   \n",
       "\n",
       "                          genres            director_x   director_y       type  \n",
       "1686    Adventure,Family,Fantasy             Bill Muir          NaN  Non-indie  \n",
       "1687                 Documentary    Steven Greenstreet   Reed Cowan  Non-indie  \n",
       "1689  Adventure,Animation,Family  Juan José Campanella  Doug Dearth  Non-indie  \n",
       "1691                       Drama              Jon Gunn          NaN  Non-indie  \n",
       "1692      Drama,Thriller,Western         Michael Berry          NaN  Non-indie  "
      ]
     },
     "execution_count": 41,
     "metadata": {},
     "output_type": "execute_result"
    }
   ],
   "source": [
    "final_data.tail()"
   ]
  },
  {
   "cell_type": "markdown",
   "metadata": {},
   "source": [
    "### Creating Features\n",
    "\n",
    "Now that we have all the data we wanted combined in one place, it's time to create some additional features in this dataset for use in our analysis."
   ]
  },
  {
   "cell_type": "code",
   "execution_count": 42,
   "metadata": {},
   "outputs": [],
   "source": [
    "final_data['profit'] = final_data['worldwide_gross'] - final_data['production_budget']\n",
    "final_data['percent_return'] = final_data['worldwide_gross'] / final_data['production_budget']"
   ]
  },
  {
   "cell_type": "code",
   "execution_count": 43,
   "metadata": {},
   "outputs": [],
   "source": [
    "# Let's create a function that checks whether the movie could be considered a success.\n",
    "# I use this answer from quora to determine parameters for what is considered a Flop, Average, Hit, Super Hit\n",
    "# or Blockbuster. https://www.quora.com/What-are-the-criteria-for-a-movie-hit-super-hit-blockbuster-and-flop\n",
    "\n",
    "def movie_status_check(arg):\n",
    "    status = None\n",
    "    if arg < 1:\n",
    "        status = 'Flop'\n",
    "    elif 1 <= arg < 1.25:\n",
    "        status = 'Average'\n",
    "    elif 1.25 <= arg < 1.75:\n",
    "        status = 'Hit'\n",
    "    elif 1.75 <= arg < 2:\n",
    "        status = 'Super Hit'\n",
    "    else:\n",
    "        status = 'Blockbuster'\n",
    "    return status"
   ]
  },
  {
   "cell_type": "code",
   "execution_count": 44,
   "metadata": {},
   "outputs": [],
   "source": [
    "final_data['movie_status'] = final_data['percent_return'].apply(movie_status_check)"
   ]
  },
  {
   "cell_type": "code",
   "execution_count": 45,
   "metadata": {},
   "outputs": [],
   "source": [
    "# code from https://stackoverflow.com/questions/17116814/pandas-how-do-i-split-text-in-a-column-into-multiple-rows\n",
    "from pandas import Series\n",
    "s = final_data['genres'].str.split(',').apply(Series, 1).stack()\n",
    "s.index = s.index.droplevel(-1) # to line up with df's index\n",
    "s.name = 'genres' # needs a name to join\n",
    "s\n",
    "del final_data['genres']\n",
    "final_data = final_data.join(s)"
   ]
  },
  {
   "cell_type": "code",
   "execution_count": 58,
   "metadata": {},
   "outputs": [],
   "source": [
    "final_data['genres'] = final_data['genres'].astype('string')"
   ]
  },
  {
   "cell_type": "code",
   "execution_count": 59,
   "metadata": {},
   "outputs": [
    {
     "name": "stdout",
     "output_type": "stream",
     "text": [
      "<class 'pandas.core.frame.DataFrame'>\n",
      "Int64Index: 3667 entries, 0 to 1692\n",
      "Data columns (total 13 columns):\n",
      " #   Column             Non-Null Count  Dtype  \n",
      "---  ------             --------------  -----  \n",
      " 0   id                 3667 non-null   int64  \n",
      " 1   movie              3667 non-null   object \n",
      " 2   production_budget  3667 non-null   float64\n",
      " 3   worldwide_gross    3667 non-null   float64\n",
      " 4   year_x             3667 non-null   object \n",
      " 5   studio             3207 non-null   object \n",
      " 6   director_x         3667 non-null   object \n",
      " 7   director_y         735 non-null    object \n",
      " 8   type               3667 non-null   object \n",
      " 9   profit             3667 non-null   float64\n",
      " 10  percent_return     3667 non-null   float64\n",
      " 11  movie_status       3667 non-null   object \n",
      " 12  genres             3667 non-null   string \n",
      "dtypes: float64(4), int64(1), object(7), string(1)\n",
      "memory usage: 401.1+ KB\n"
     ]
    }
   ],
   "source": [
    "final_data.info()"
   ]
  },
  {
   "cell_type": "markdown",
   "metadata": {},
   "source": [
    "## Analysis\n",
    "\n",
    "Lorem ipsum dolor sit amet, consectetur adipiscing elit. Maecenas in vulputate orci, eget posuere massa. Cras at lectus vel diam porta viverra. Ut vehicula congue aliquam. Suspendisse finibus risus quis hendrerit rhoncus. Sed euismod semper hendrerit. Sed nec vulputate diam."
   ]
  },
  {
   "cell_type": "code",
   "execution_count": 47,
   "metadata": {},
   "outputs": [
    {
     "data": {
      "text/plain": [
       "<AxesSubplot:xlabel='production_budget', ylabel='worldwide_gross'>"
      ]
     },
     "execution_count": 47,
     "metadata": {},
     "output_type": "execute_result"
    },
    {
     "data": {
      "image/png": "[encoded data removed]",
      "text/plain": [
       "<Figure size 432x288 with 1 Axes>"
      ]
     },
     "metadata": {
      "needs_background": "light"
     },
     "output_type": "display_data"
    }
   ],
   "source": [
    "import seaborn as sns\n",
    "\n",
    "sns.regplot(x=final_data[\"production_budget\"], y=final_data[\"worldwide_gross\"])"
   ]
  },
  {
   "cell_type": "code",
   "execution_count": 48,
   "metadata": {},
   "outputs": [
    {
     "data": {
      "text/plain": [
       "0.7682606142397632"
      ]
     },
     "execution_count": 48,
     "metadata": {},
     "output_type": "execute_result"
    }
   ],
   "source": [
    "final_data[\"production_budget\"].corr(final_data[\"worldwide_gross\"])"
   ]
  },
  {
   "cell_type": "code",
   "execution_count": 49,
   "metadata": {},
   "outputs": [
    {
     "data": {
      "text/plain": [
       "<AxesSubplot:xlabel='production_budget', ylabel='profit'>"
      ]
     },
     "execution_count": 49,
     "metadata": {},
     "output_type": "execute_result"
    },
    {
     "data": {
      "image/png": "[encoded data removed]",
      "text/plain": [
       "<Figure size 432x288 with 1 Axes>"
      ]
     },
     "metadata": {
      "needs_background": "light"
     },
     "output_type": "display_data"
    }
   ],
   "source": [
    "sns.regplot(x=final_data[\"production_budget\"], y=final_data[\"profit\"])"
   ]
  },
  {
   "cell_type": "code",
   "execution_count": 65,
   "metadata": {},
   "outputs": [
    {
     "data": {
      "text/plain": [
       "<AxesSubplot:xlabel='genres'>"
      ]
     },
     "execution_count": 65,
     "metadata": {},
     "output_type": "execute_result"
    },
    {
     "data": {
      "image/png": "[encoded data removed]",
      "text/plain": [
       "<Figure size 432x288 with 1 Axes>"
      ]
     },
     "metadata": {
      "needs_background": "light"
     },
     "output_type": "display_data"
    }
   ],
   "source": [
    "final_data.groupby('genres')['profit'].median().plot(kind='bar',legend=True)"
   ]
  },
  {
   "cell_type": "code",
   "execution_count": 67,
   "metadata": {},
   "outputs": [
    {
     "data": {
      "text/plain": [
       "<AxesSubplot:xlabel='genres'>"
      ]
     },
     "execution_count": 67,
     "metadata": {},
     "output_type": "execute_result"
    },
    {
     "data": {
      "image/png": "[encoded data removed]",
      "text/plain": [
       "<Figure size 432x288 with 1 Axes>"
      ]
     },
     "metadata": {
      "needs_background": "light"
     },
     "output_type": "display_data"
    }
   ],
   "source": [
    "final_data.groupby('genres')['worldwide_gross'].median().plot(kind='bar',legend=True)"
   ]
  },
  {
   "cell_type": "markdown",
   "metadata": {},
   "source": [
    "## Conclusions\n",
    "\n",
    "Lorem ipsum dolor sit amet, consectetur adipiscing elit. Maecenas in vulputate orci, eget posuere massa. Cras at lectus vel diam porta viverra. Ut vehicula congue aliquam. Suspendisse finibus risus quis hendrerit rhoncus. Sed euismod semper hendrerit. Sed nec vulputate diam.\n",
    "\n",
    "### Next Steps\n",
    "\n",
    "Lorem ipsum dolor sit amet, consectetur adipiscing elit.\n",
    "\n",
    "* Maecenas in vulputate orci, eget posuere massa.\n",
    "* Cras at lectus vel diam porta viverra.\n",
    "* Ut vehicula congue aliquam. "
   ]
  },
  {
   "cell_type": "code",
   "execution_count": null,
   "metadata": {},
   "outputs": [],
   "source": []
  }
 ],
 "metadata": {
  "kernelspec": {
   "display_name": "Python (learn-env)",
   "language": "python",
   "name": "learn-env"
  },
  "language_info": {
   "codemirror_mode": {
    "name": "ipython",
    "version": 3
   },
   "file_extension": ".py",
   "mimetype": "text/x-python",
   "name": "python",
   "nbconvert_exporter": "python",
   "pygments_lexer": "ipython3",
   "version": "3.8.5"
  }
 },
 "nbformat": 4,
 "nbformat_minor": 4
}
